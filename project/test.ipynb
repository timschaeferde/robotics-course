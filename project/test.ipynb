{
 "cells": [
  {
   "cell_type": "code",
   "execution_count": 5,
   "metadata": {},
   "outputs": [],
   "source": [
    "import sys\n",
    "sys.path.append('../build')\n",
    "import numpy as np\n",
    "import libry as ry\n",
    "import time\n",
    "\n",
    "\n",
    "from lib.rai.rai_env import RaiEnv\n",
    "from lib.prediction.color_seg import find_ball\n"
   ]
  },
  {
   "cell_type": "code",
   "execution_count": 6,
   "metadata": {},
   "outputs": [],
   "source": [
    "#########################################\n",
    "# initialize rai simulation here        #\n",
    "#########################################\n",
    "Rai = RaiEnv(tau=.01,\n",
    "             realEnv=\"scenarios/project_env.g\",\n",
    "             modelEnv=\"scenarios/project_env.g\",\n",
    "             useROS=False,\n",
    "             initSim=False,\n",
    "             initConfig=True,\n",
    "             simulatorEngine=ry.SimulatorEngine.bullet,\n",
    "             verboseSim=1,\n",
    "             defaultCamera=False)\n",
    "\n",
    "#########################################\n",
    "# init simulation                       #\n",
    "#########################################\n",
    "Rai._init_simulation()\n"
   ]
  },
  {
   "cell_type": "code",
   "execution_count": 38,
   "metadata": {},
   "outputs": [
    {
     "name": "stdout",
     "output_type": "stream",
     "text": [
      "Simulation finished\n"
     ]
    }
   ],
   "source": [
    "Rai.run_simulation(11)\n",
    "\n",
    "\n"
   ]
  },
  {
   "cell_type": "code",
   "execution_count": 41,
   "metadata": {},
   "outputs": [
    {
     "data": {
      "text/plain": [
       "libry.Frame"
      ]
     },
     "execution_count": 41,
     "metadata": {},
     "output_type": "execute_result"
    }
   ],
   "source": [
    "komo = Rai.C.komo_path(2., 20, 4., True)\n",
    "\n",
    "ball = Rai.RealWorld.getFrame(\"ball\")\n",
    "\n",
    "type(ball)\n"
   ]
  },
  {
   "cell_type": "code",
   "execution_count": 7,
   "metadata": {},
   "outputs": [
    {
     "data": {
      "text/plain": [
       "<bound method PyCapsule.getGripperWidth of <libry.Simulation object at 0x7f816804d970>>"
      ]
     },
     "execution_count": 7,
     "metadata": {},
     "output_type": "execute_result"
    }
   ],
   "source": [
    "komo.getPathFrames()\n",
    "\n",
    "Rai.S.getGripperWidth"
   ]
  },
  {
   "cell_type": "code",
   "execution_count": 40,
   "metadata": {},
   "outputs": [
    {
     "data": {
      "text/plain": [
       "True"
      ]
     },
     "execution_count": 40,
     "metadata": {},
     "output_type": "execute_result"
    }
   ],
   "source": [
    "type(Rai) is RaiEnv\n"
   ]
  },
  {
   "cell_type": "code",
   "execution_count": 4,
   "metadata": {},
   "outputs": [
    {
     "data": {
      "text/plain": [
       "(array([[[129, 140, 151],\n",
       "         [129, 140, 151],\n",
       "         [129, 140, 151],\n",
       "         ...,\n",
       "         [129, 140, 151],\n",
       "         [129, 140, 151],\n",
       "         [129, 140, 151]],\n",
       " \n",
       "        [[129, 140, 151],\n",
       "         [129, 140, 151],\n",
       "         [129, 140, 151],\n",
       "         ...,\n",
       "         [129, 140, 151],\n",
       "         [129, 140, 151],\n",
       "         [129, 140, 151]],\n",
       " \n",
       "        [[129, 140, 151],\n",
       "         [129, 140, 151],\n",
       "         [129, 140, 151],\n",
       "         ...,\n",
       "         [129, 140, 151],\n",
       "         [129, 140, 151],\n",
       "         [129, 140, 151]],\n",
       " \n",
       "        ...,\n",
       " \n",
       "        [[129, 140, 151],\n",
       "         [129, 140, 151],\n",
       "         [129, 140, 151],\n",
       "         ...,\n",
       "         [129, 140, 151],\n",
       "         [129, 140, 151],\n",
       "         [129, 140, 151]],\n",
       " \n",
       "        [[129, 140, 151],\n",
       "         [129, 140, 151],\n",
       "         [129, 140, 151],\n",
       "         ...,\n",
       "         [129, 140, 151],\n",
       "         [129, 140, 151],\n",
       "         [129, 140, 151]],\n",
       " \n",
       "        [[129, 140, 151],\n",
       "         [129, 140, 151],\n",
       "         [129, 140, 151],\n",
       "         ...,\n",
       "         [129, 140, 151],\n",
       "         [129, 140, 151],\n",
       "         [129, 140, 151]]], dtype=uint8),\n",
       " array([[10.000268, 10.000268, 10.000268, ..., 10.000268, 10.000268,\n",
       "         10.000268],\n",
       "        [10.000268, 10.000268, 10.000268, ..., 10.000268, 10.000268,\n",
       "         10.000268],\n",
       "        [10.000268, 10.000268, 10.000268, ..., 10.000268, 10.000268,\n",
       "         10.000268],\n",
       "        ...,\n",
       "        [10.000268, 10.000268, 10.000268, ..., 10.000268, 10.000268,\n",
       "         10.000268],\n",
       "        [10.000268, 10.000268, 10.000268, ..., 10.000268, 10.000268,\n",
       "         10.000268],\n",
       "        [10.000268, 10.000268, 10.000268, ..., 10.000268, 10.000268,\n",
       "         10.000268]], dtype=float32))"
      ]
     },
     "execution_count": 4,
     "metadata": {},
     "output_type": "execute_result"
    }
   ],
   "source": [
    "Rai.S.getImageAndDepth()"
   ]
  },
  {
   "cell_type": "code",
   "execution_count": 19,
   "metadata": {},
   "outputs": [],
   "source": [
    "tau = 0.01\n",
    "# simulate to grasp\n",
    "for t in range(int(0.3 / tau)):\n",
    "    time.sleep(tau)\n",
    "    q = Rai.S.get_q()\n",
    "    Rai.C.setJointState(q)  # set your robot model to match the real q\n",
    "\n",
    "    Rai.S.closeGripper(\"R_gripper\", speed=200.)\n",
    "\n",
    "    # send velocity controls to the simulation\n",
    "    Rai.S.step(np.zeros_like(q), tau, ry.ControlMode.none)\n"
   ]
  }
 ],
 "metadata": {
  "interpreter": {
   "hash": "151e6003ef3448e9dad8ac998da13fd7f08f405b4e0b7cacbbaf31913d5c8a90"
  },
  "kernelspec": {
   "display_name": "Python 3.8.10 64-bit ('rai_env': venv)",
   "language": "python",
   "name": "python3"
  },
  "language_info": {
   "codemirror_mode": {
    "name": "ipython",
    "version": 3
   },
   "file_extension": ".py",
   "mimetype": "text/x-python",
   "name": "python",
   "nbconvert_exporter": "python",
   "pygments_lexer": "ipython3",
   "version": "3.8.10"
  },
  "orig_nbformat": 4
 },
 "nbformat": 4,
 "nbformat_minor": 2
}
