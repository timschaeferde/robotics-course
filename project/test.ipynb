{
 "cells": [
  {
   "cell_type": "code",
   "execution_count": 1,
   "metadata": {},
   "outputs": [
    {
     "name": "stdout",
     "output_type": "stream",
     "text": [
      "**ry-c++-log** /home/tim/workspace/git/robotics-course/rai/rai/ry/ry.cpp:init_LogToPythonConsole:34(0) initializing ry log callback\n",
      "** INFO:/home/tim/workspace/git/robotics-course/rai/rai/Core/util.cpp:initCmdLine:602(1) ** cmd line arguments: 'rai-pybind -python'\n",
      "** INFO:/home/tim/workspace/git/robotics-course/rai/rai/Core/util.cpp:initCmdLine:606(1) ** run path: '/home/tim/workspace/git/robotics-course/project'\n",
      "** INFO:/home/tim/workspace/git/robotics-course/rai/rai/Core/graph.cpp:initParameters:1365(1) ** parsed parameters:\n",
      "{python}\n",
      "\n",
      "\n",
      "** INFO:/home/tim/workspace/git/robotics-course/rai/rai/ry/ry.cpp:init_LogToPythonConsole:34(0) initializing ry log callback\n"
     ]
    }
   ],
   "source": [
    "#import sys\n",
    "#sys.path.append('./')\n",
    "import numpy as np\n",
    "import lib.build.libry as ry\n",
    "import time\n",
    "\n",
    "\n",
    "from lib.rai.rai_env import RaiEnv\n",
    "from lib.prediction.color_seg import find_ball\n"
   ]
  },
  {
   "cell_type": "code",
   "execution_count": 2,
   "metadata": {},
   "outputs": [],
   "source": [
    "#########################################\n",
    "# initialize rai simulation here        #\n",
    "#########################################\n",
    "Rai = RaiEnv(tau=.01,\n",
    "             realEnv=\"scenarios/project_env.g\",\n",
    "             modelEnv=\"scenarios/project_env.g\",\n",
    "             useROS=False,\n",
    "             initSim=False,\n",
    "             initConfig=True,\n",
    "             simulatorEngine=ry.SimulatorEngine.bullet,\n",
    "             verboseSim=1,\n",
    "             defaultCamera=False)\n",
    "\n",
    "#########################################\n",
    "# init simulation                       #\n",
    "#########################################\n",
    "Rai._init_simulation()\n"
   ]
  },
  {
   "cell_type": "code",
   "execution_count": 8,
   "metadata": {},
   "outputs": [
    {
     "name": "stdout",
     "output_type": "stream",
     "text": [
      "Simulation finished\n"
     ]
    }
   ],
   "source": [
    "Rai.run_simulation(100,False)"
   ]
  },
  {
   "cell_type": "code",
   "execution_count": 16,
   "metadata": {},
   "outputs": [
    {
     "data": {
      "text/plain": [
       "[<lib.build.libry.Frame at 0x7f85ac2f66b0>,\n",
       " <lib.build.libry.Frame at 0x7f85ac2f6530>,\n",
       " <lib.build.libry.Frame at 0x7f85ac2f6270>,\n",
       " <lib.build.libry.Frame at 0x7f85ac2f65f0>,\n",
       " <lib.build.libry.Frame at 0x7f86198647b0>,\n",
       " <lib.build.libry.Frame at 0x7f85ac3047f0>,\n",
       " <lib.build.libry.Frame at 0x7f85ac304e70>,\n",
       " <lib.build.libry.Frame at 0x7f85ac304630>,\n",
       " <lib.build.libry.Frame at 0x7f85ac304770>,\n",
       " <lib.build.libry.Frame at 0x7f85ac304430>,\n",
       " <lib.build.libry.Frame at 0x7f85ac3042f0>,\n",
       " <lib.build.libry.Frame at 0x7f85ac304670>,\n",
       " <lib.build.libry.Frame at 0x7f85ac304830>,\n",
       " <lib.build.libry.Frame at 0x7f85ac304870>,\n",
       " <lib.build.libry.Frame at 0x7f85ac3041f0>,\n",
       " <lib.build.libry.Frame at 0x7f85ac3048b0>,\n",
       " <lib.build.libry.Frame at 0x7f85ac3048f0>,\n",
       " <lib.build.libry.Frame at 0x7f85ac304930>,\n",
       " <lib.build.libry.Frame at 0x7f85ac304970>,\n",
       " <lib.build.libry.Frame at 0x7f85ac3049b0>,\n",
       " <lib.build.libry.Frame at 0x7f85ac3049f0>,\n",
       " <lib.build.libry.Frame at 0x7f85ac304a30>,\n",
       " <lib.build.libry.Frame at 0x7f85ac304a70>,\n",
       " <lib.build.libry.Frame at 0x7f85ac304ab0>,\n",
       " <lib.build.libry.Frame at 0x7f85ac304af0>,\n",
       " <lib.build.libry.Frame at 0x7f85ac304b30>,\n",
       " <lib.build.libry.Frame at 0x7f85ac304b70>,\n",
       " <lib.build.libry.Frame at 0x7f85ac304bb0>,\n",
       " <lib.build.libry.Frame at 0x7f85ac304230>,\n",
       " <lib.build.libry.Frame at 0x7f85ac304c70>,\n",
       " <lib.build.libry.Frame at 0x7f85ac304730>,\n",
       " <lib.build.libry.Frame at 0x7f85ac3043f0>,\n",
       " <lib.build.libry.Frame at 0x7f85ac3043b0>,\n",
       " <lib.build.libry.Frame at 0x7f85ac304270>,\n",
       " <lib.build.libry.Frame at 0x7f85ac3044f0>,\n",
       " <lib.build.libry.Frame at 0x7f85ac304330>,\n",
       " <lib.build.libry.Frame at 0x7f85ac3044b0>,\n",
       " <lib.build.libry.Frame at 0x7f85ac304530>,\n",
       " <lib.build.libry.Frame at 0x7f85ac304570>,\n",
       " <lib.build.libry.Frame at 0x7f85ac3045b0>,\n",
       " <lib.build.libry.Frame at 0x7f85ac3045f0>,\n",
       " <lib.build.libry.Frame at 0x7f85ac304d70>,\n",
       " <lib.build.libry.Frame at 0x7f85ac304d30>,\n",
       " <lib.build.libry.Frame at 0x7f85ac304db0>,\n",
       " <lib.build.libry.Frame at 0x7f85ac304df0>,\n",
       " <lib.build.libry.Frame at 0x7f85ac304e30>,\n",
       " <lib.build.libry.Frame at 0x7f85ac304eb0>,\n",
       " <lib.build.libry.Frame at 0x7f85ac304ef0>,\n",
       " <lib.build.libry.Frame at 0x7f85ac304f30>,\n",
       " <lib.build.libry.Frame at 0x7f85ac304f70>,\n",
       " <lib.build.libry.Frame at 0x7f85ac304fb0>,\n",
       " <lib.build.libry.Frame at 0x7f85ac332470>,\n",
       " <lib.build.libry.Frame at 0x7f85ac3327b0>,\n",
       " <lib.build.libry.Frame at 0x7f85ac332bb0>,\n",
       " <lib.build.libry.Frame at 0x7f85ac3326b0>,\n",
       " <lib.build.libry.Frame at 0x7f85ac332530>,\n",
       " <lib.build.libry.Frame at 0x7f85ac332d70>,\n",
       " <lib.build.libry.Frame at 0x7f85ac332b30>,\n",
       " <lib.build.libry.Frame at 0x7f85ac332730>,\n",
       " <lib.build.libry.Frame at 0x7f85ac332cb0>,\n",
       " <lib.build.libry.Frame at 0x7f85ac332ef0>,\n",
       " <lib.build.libry.Frame at 0x7f85ac332b70>,\n",
       " <lib.build.libry.Frame at 0x7f85ac3324b0>,\n",
       " <lib.build.libry.Frame at 0x7f85ac332c70>,\n",
       " <lib.build.libry.Frame at 0x7f85ac332af0>,\n",
       " <lib.build.libry.Frame at 0x7f85ac332cf0>,\n",
       " <lib.build.libry.Frame at 0x7f85ac332370>,\n",
       " <lib.build.libry.Frame at 0x7f85ac332d30>,\n",
       " <lib.build.libry.Frame at 0x7f85ac332f70>,\n",
       " <lib.build.libry.Frame at 0x7f85ac3327f0>,\n",
       " <lib.build.libry.Frame at 0x7f85ac332e70>,\n",
       " <lib.build.libry.Frame at 0x7f85ac332330>,\n",
       " <lib.build.libry.Frame at 0x7f85ac2f5030>,\n",
       " <lib.build.libry.Frame at 0x7f85ac2f5070>,\n",
       " <lib.build.libry.Frame at 0x7f85ac2f50b0>,\n",
       " <lib.build.libry.Frame at 0x7f85ac2f50f0>,\n",
       " <lib.build.libry.Frame at 0x7f85ac2f5130>,\n",
       " <lib.build.libry.Frame at 0x7f85ac2f5170>,\n",
       " <lib.build.libry.Frame at 0x7f85ac2f51b0>,\n",
       " <lib.build.libry.Frame at 0x7f85ac2f51f0>,\n",
       " <lib.build.libry.Frame at 0x7f85ac2f5230>,\n",
       " <lib.build.libry.Frame at 0x7f85ac2f5270>,\n",
       " <lib.build.libry.Frame at 0x7f85ac2f52b0>,\n",
       " <lib.build.libry.Frame at 0x7f85ac2f52f0>,\n",
       " <lib.build.libry.Frame at 0x7f85ac2f5330>,\n",
       " <lib.build.libry.Frame at 0x7f85ac2f5370>,\n",
       " <lib.build.libry.Frame at 0x7f85ac2f53b0>,\n",
       " <lib.build.libry.Frame at 0x7f85ac2f53f0>,\n",
       " <lib.build.libry.Frame at 0x7f85ac2f5670>,\n",
       " <lib.build.libry.Frame at 0x7f85ac2f5470>,\n",
       " <lib.build.libry.Frame at 0x7f85ac2f55b0>,\n",
       " <lib.build.libry.Frame at 0x7f85ac2f5f30>,\n",
       " <lib.build.libry.Frame at 0x7f85ac2f5770>,\n",
       " <lib.build.libry.Frame at 0x7f85ac2f58b0>,\n",
       " <lib.build.libry.Frame at 0x7f85ac2f5a30>,\n",
       " <lib.build.libry.Frame at 0x7f85ac2f5530>,\n",
       " <lib.build.libry.Frame at 0x7f85ac2f5870>,\n",
       " <lib.build.libry.Frame at 0x7f85ac2f5430>,\n",
       " <lib.build.libry.Frame at 0x7f85ac2f56b0>,\n",
       " <lib.build.libry.Frame at 0x7f85ac2f57b0>,\n",
       " <lib.build.libry.Frame at 0x7f85ac2f5df0>,\n",
       " <lib.build.libry.Frame at 0x7f85ac2f5bf0>,\n",
       " <lib.build.libry.Frame at 0x7f85ac2f5d70>]"
      ]
     },
     "execution_count": 16,
     "metadata": {},
     "output_type": "execute_result"
    }
   ],
   "source": [
    "Rai.C.frames()\n",
    "Rai.RealWorld.frames()[0]\n"
   ]
  },
  {
   "cell_type": "code",
   "execution_count": 9,
   "metadata": {},
   "outputs": [],
   "source": [
    "F=Rai.C.feature(ry.FS.position, ['R_gripper'], order=1)\n"
   ]
  },
  {
   "cell_type": "code",
   "execution_count": 10,
   "metadata": {},
   "outputs": [
    {
     "name": "stdout",
     "output_type": "stream",
     "text": [
      "**ry-c++-log** /home/tim/workspace/git/robotics-course/rai/rai/Kin/feature.cpp:getFrames:83(-2) CHECK failed: '!order' -- can't ground a order>0 feature on configuration without slices\n",
      "\n",
      "STACK9 /home/tim/workspace/venvs/rai_env/bin/python(PyEval_EvalCode\n",
      "STACK8 /home/tim/workspace/venvs/rai_env/bin/python(_PyEval_EvalCodeWithName\n",
      "STACK7 /home/tim/workspace/venvs/rai_env/bin/python(_PyEval_EvalFrameDefault\n",
      "STACK6 /home/tim/workspace/venvs/rai_env/bin/python() [0x50b4a7]\n",
      "STACK5 /home/tim/workspace/venvs/rai_env/bin/python(_PyObject_MakeTpCall\n",
      "STACK4 /home/tim/workspace/venvs/rai_env/bin/python(PyCFunction_Call\n",
      "STACK3 /home/tim/workspace/git/robotics-course/project/lib/build/libry.cpython-38-x86_64-linux-gnu.so(+0xb0a90) [0x7f85ce6ada90]\n",
      "STACK2 /home/tim/workspace/git/robotics-course/project/lib/build/libry.cpython-38-x86_64-linux-gnu.so(+0x81160) [0x7f85ce67e160]\n",
      "STACK1 Feature::getFrames(rai::Configuration const&, unsigned int)\n",
      "STACK0 rai::LogToken::~LogToken()\n"
     ]
    },
    {
     "name": "stderr",
     "output_type": "stream",
     "text": [
      "** ERROR:/home/tim/workspace/git/robotics-course/rai/rai/Kin/feature.cpp:getFrames:83(-2) CHECK failed: '!order' -- can't ground a order>0 feature on configuration without slices\n"
     ]
    },
    {
     "ename": "RuntimeError",
     "evalue": "/home/tim/workspace/git/robotics-course/rai/rai/Kin/feature.cpp:getFrames:83(-2) CHECK failed: '!order' -- can't ground a order>0 feature on configuration without slices",
     "output_type": "error",
     "traceback": [
      "\u001b[0;31m---------------------------------------------------------------------------\u001b[0m",
      "\u001b[0;31mRuntimeError\u001b[0m                              Traceback (most recent call last)",
      "\u001b[0;32m/tmp/ipykernel_197165/1802318465.py\u001b[0m in \u001b[0;36m<module>\u001b[0;34m\u001b[0m\n\u001b[0;32m----> 1\u001b[0;31m \u001b[0mF\u001b[0m\u001b[0;34m.\u001b[0m\u001b[0meval\u001b[0m\u001b[0;34m(\u001b[0m\u001b[0mRai\u001b[0m\u001b[0;34m.\u001b[0m\u001b[0mC\u001b[0m\u001b[0;34m)\u001b[0m\u001b[0;34m\u001b[0m\u001b[0;34m\u001b[0m\u001b[0m\n\u001b[0m\u001b[1;32m      2\u001b[0m \u001b[0mRai\u001b[0m\u001b[0;34m.\u001b[0m\u001b[0mC\u001b[0m\u001b[0;34m.\u001b[0m\u001b[0mevalFeature\u001b[0m\u001b[0;34m(\u001b[0m\u001b[0;34m)\u001b[0m\u001b[0;34m\u001b[0m\u001b[0;34m\u001b[0m\u001b[0m\n",
      "\u001b[0;31mRuntimeError\u001b[0m: /home/tim/workspace/git/robotics-course/rai/rai/Kin/feature.cpp:getFrames:83(-2) CHECK failed: '!order' -- can't ground a order>0 feature on configuration without slices"
     ]
    }
   ],
   "source": [
    "F.eval(Rai.C)\n",
    "Rai.C.evalFeature()"
   ]
  },
  {
   "cell_type": "code",
   "execution_count": null,
   "metadata": {},
   "outputs": [
    {
     "name": "stdout",
     "output_type": "stream",
     "text": [
      "Simulation finished\n"
     ]
    }
   ],
   "source": [
    "Rai.run_simulation(11)\n",
    "\n",
    "\n"
   ]
  },
  {
   "cell_type": "code",
   "execution_count": 18,
   "metadata": {},
   "outputs": [
    {
     "data": {
      "text/plain": [
       "array([[[ 0.        ,  0.        ,  0.        , ...,  0.        ,\n",
       "          0.        ,  0.        ],\n",
       "        [-1.6       ,  0.        ,  0.8       , ...,  0.        ,\n",
       "          0.70710678,  0.        ],\n",
       "        [ 1.6       ,  0.        ,  0.8       , ...,  0.        ,\n",
       "          0.70710678,  0.        ],\n",
       "        ...,\n",
       "        [ 1.55      ,  1.        ,  1.5       , ...,  0.22871307,\n",
       "          0.52600405,  0.75121163],\n",
       "        [ 0.        ,  0.        ,  3.        , ...,  0.        ,\n",
       "          0.        ,  0.        ],\n",
       "        [ 0.5       ,  0.        ,  0.05      , ...,  0.        ,\n",
       "          0.        ,  1.        ]],\n",
       "\n",
       "       [[ 0.        ,  0.        ,  0.        , ...,  0.        ,\n",
       "          0.        ,  0.        ],\n",
       "        [-1.6       ,  0.        ,  0.8       , ...,  0.        ,\n",
       "          0.70710678,  0.        ],\n",
       "        [ 1.6       ,  0.        ,  0.8       , ...,  0.        ,\n",
       "          0.70710678,  0.        ],\n",
       "        ...,\n",
       "        [ 1.55      ,  1.        ,  1.5       , ...,  0.22871307,\n",
       "          0.52600405,  0.75121163],\n",
       "        [ 0.        ,  0.        ,  3.        , ...,  0.        ,\n",
       "          0.        ,  0.        ],\n",
       "        [ 0.5       ,  0.        ,  0.05      , ...,  0.        ,\n",
       "          0.        ,  1.        ]],\n",
       "\n",
       "       [[ 0.        ,  0.        ,  0.        , ...,  0.        ,\n",
       "          0.        ,  0.        ],\n",
       "        [-1.6       ,  0.        ,  0.8       , ...,  0.        ,\n",
       "          0.70710678,  0.        ],\n",
       "        [ 1.6       ,  0.        ,  0.8       , ...,  0.        ,\n",
       "          0.70710678,  0.        ],\n",
       "        ...,\n",
       "        [ 1.55      ,  1.        ,  1.5       , ...,  0.22871307,\n",
       "          0.52600405,  0.75121163],\n",
       "        [ 0.        ,  0.        ,  3.        , ...,  0.        ,\n",
       "          0.        ,  0.        ],\n",
       "        [ 0.5       ,  0.        ,  0.05      , ...,  0.        ,\n",
       "          0.        ,  1.        ]],\n",
       "\n",
       "       ...,\n",
       "\n",
       "       [[ 0.        ,  0.        ,  0.        , ...,  0.        ,\n",
       "          0.        ,  0.        ],\n",
       "        [-1.6       ,  0.        ,  0.8       , ...,  0.        ,\n",
       "          0.70710678,  0.        ],\n",
       "        [ 1.6       ,  0.        ,  0.8       , ...,  0.        ,\n",
       "          0.70710678,  0.        ],\n",
       "        ...,\n",
       "        [ 1.55      ,  1.        ,  1.5       , ...,  0.22871307,\n",
       "          0.52600405,  0.75121163],\n",
       "        [ 0.        ,  0.        ,  3.        , ...,  0.        ,\n",
       "          0.        ,  0.        ],\n",
       "        [ 0.5       ,  0.        ,  0.05      , ...,  0.        ,\n",
       "          0.        ,  1.        ]],\n",
       "\n",
       "       [[ 0.        ,  0.        ,  0.        , ...,  0.        ,\n",
       "          0.        ,  0.        ],\n",
       "        [-1.6       ,  0.        ,  0.8       , ...,  0.        ,\n",
       "          0.70710678,  0.        ],\n",
       "        [ 1.6       ,  0.        ,  0.8       , ...,  0.        ,\n",
       "          0.70710678,  0.        ],\n",
       "        ...,\n",
       "        [ 1.55      ,  1.        ,  1.5       , ...,  0.22871307,\n",
       "          0.52600405,  0.75121163],\n",
       "        [ 0.        ,  0.        ,  3.        , ...,  0.        ,\n",
       "          0.        ,  0.        ],\n",
       "        [ 0.5       ,  0.        ,  0.05      , ...,  0.        ,\n",
       "          0.        ,  1.        ]],\n",
       "\n",
       "       [[ 0.        ,  0.        ,  0.        , ...,  0.        ,\n",
       "          0.        ,  0.        ],\n",
       "        [-1.6       ,  0.        ,  0.8       , ...,  0.        ,\n",
       "          0.70710678,  0.        ],\n",
       "        [ 1.6       ,  0.        ,  0.8       , ...,  0.        ,\n",
       "          0.70710678,  0.        ],\n",
       "        ...,\n",
       "        [ 1.55      ,  1.        ,  1.5       , ...,  0.22871307,\n",
       "          0.52600405,  0.75121163],\n",
       "        [ 0.        ,  0.        ,  3.        , ...,  0.        ,\n",
       "          0.        ,  0.        ],\n",
       "        [ 0.5       ,  0.        ,  0.05      , ...,  0.        ,\n",
       "          0.        ,  1.        ]]])"
      ]
     },
     "execution_count": 18,
     "metadata": {},
     "output_type": "execute_result"
    }
   ],
   "source": [
    "komo = Rai.C.komo_path(2., 20, 4., True)\n",
    "\n",
    "komo.getT()\n",
    "\n",
    "komo.getPathFrames()\n",
    "\n",
    "\n"
   ]
  },
  {
   "cell_type": "code",
   "execution_count": 7,
   "metadata": {},
   "outputs": [
    {
     "data": {
      "text/plain": [
       "<bound method PyCapsule.getGripperWidth of <libry.Simulation object at 0x7f816804d970>>"
      ]
     },
     "execution_count": 7,
     "metadata": {},
     "output_type": "execute_result"
    }
   ],
   "source": [
    "# Interpolating komo\n",
    "\n",
    "\n",
    "    komo = komo_lift_and_throw(Rai, gripper)\n",
    "\n",
    "    # komo.view_play(False, 1)\n",
    "\n",
    "    # length for ball release in last frame\n",
    "    komo_length = komo.getT()\n",
    "    komo_frames = komo.getPathFrames()\n",
    "    komo_tau = komo.getPathTau()\n",
    "    i = 0\n",
    "    tau = 0.01\n",
    "    sim_time = 1.5\n",
    "\n",
    "    # execute komo path to the ball\n",
    "    # for frame, tau in zip(komo.getPathFrames(), komo.getPathTau()):\n",
    "    for t in range(int(sim_time / tau)):\n",
    "        time.sleep(tau)\n",
    "        q = Rai.S.get_q()\n",
    "        # Rai.C.setJointState(q)  # set your robot model to match the real q\n",
    "\n",
    "        i = min(komo_length - 1, int((t) *\n",
    "                tau / sum(komo_tau) * komo_length))\n",
    "\n",
    "        frame = komo_frames[i]\n",
    "\n",
    "        Rai.C.setFrameState(frame)\n",
    "        q_frame = Rai.C.getJointState()\n",
    "        # interpolate to next joint state\n",
    "        q += (q_frame - q) * ((t * tau % komo_tau[i]) / komo_tau[i])\n",
    "\n",
    "        # release ball in last frame\n",
    "        if t * tau > sum(komo_tau[:-3]) and Rai.S.getGripperIsGrasping(gripper):\n",
    "            Rai.S.openGripper(gripper, speed=2., width=0.01)\n",
    "            if not Rai.S.getGripperIsGrasping(gripper):\n",
    "                print(\"RELEASED\")\n",
    "                grasped = False\n",
    "                break\n",
    "\n",
    "        # send position to the simulation\n",
    "        Rai.S.step(q, tau, ry.ControlMode.position)"
   ]
  },
  {
   "cell_type": "code",
   "execution_count": 40,
   "metadata": {},
   "outputs": [
    {
     "data": {
      "text/plain": [
       "True"
      ]
     },
     "execution_count": 40,
     "metadata": {},
     "output_type": "execute_result"
    }
   ],
   "source": [
    "type(Rai) is RaiEnv\n"
   ]
  },
  {
   "cell_type": "code",
   "execution_count": 4,
   "metadata": {},
   "outputs": [
    {
     "data": {
      "text/plain": [
       "(array([[[129, 140, 151],\n",
       "         [129, 140, 151],\n",
       "         [129, 140, 151],\n",
       "         ...,\n",
       "         [129, 140, 151],\n",
       "         [129, 140, 151],\n",
       "         [129, 140, 151]],\n",
       " \n",
       "        [[129, 140, 151],\n",
       "         [129, 140, 151],\n",
       "         [129, 140, 151],\n",
       "         ...,\n",
       "         [129, 140, 151],\n",
       "         [129, 140, 151],\n",
       "         [129, 140, 151]],\n",
       " \n",
       "        [[129, 140, 151],\n",
       "         [129, 140, 151],\n",
       "         [129, 140, 151],\n",
       "         ...,\n",
       "         [129, 140, 151],\n",
       "         [129, 140, 151],\n",
       "         [129, 140, 151]],\n",
       " \n",
       "        ...,\n",
       " \n",
       "        [[129, 140, 151],\n",
       "         [129, 140, 151],\n",
       "         [129, 140, 151],\n",
       "         ...,\n",
       "         [129, 140, 151],\n",
       "         [129, 140, 151],\n",
       "         [129, 140, 151]],\n",
       " \n",
       "        [[129, 140, 151],\n",
       "         [129, 140, 151],\n",
       "         [129, 140, 151],\n",
       "         ...,\n",
       "         [129, 140, 151],\n",
       "         [129, 140, 151],\n",
       "         [129, 140, 151]],\n",
       " \n",
       "        [[129, 140, 151],\n",
       "         [129, 140, 151],\n",
       "         [129, 140, 151],\n",
       "         ...,\n",
       "         [129, 140, 151],\n",
       "         [129, 140, 151],\n",
       "         [129, 140, 151]]], dtype=uint8),\n",
       " array([[10.000268, 10.000268, 10.000268, ..., 10.000268, 10.000268,\n",
       "         10.000268],\n",
       "        [10.000268, 10.000268, 10.000268, ..., 10.000268, 10.000268,\n",
       "         10.000268],\n",
       "        [10.000268, 10.000268, 10.000268, ..., 10.000268, 10.000268,\n",
       "         10.000268],\n",
       "        ...,\n",
       "        [10.000268, 10.000268, 10.000268, ..., 10.000268, 10.000268,\n",
       "         10.000268],\n",
       "        [10.000268, 10.000268, 10.000268, ..., 10.000268, 10.000268,\n",
       "         10.000268],\n",
       "        [10.000268, 10.000268, 10.000268, ..., 10.000268, 10.000268,\n",
       "         10.000268]], dtype=float32))"
      ]
     },
     "execution_count": 4,
     "metadata": {},
     "output_type": "execute_result"
    }
   ],
   "source": [
    "Rai.S.getImageAndDepth()"
   ]
  },
  {
   "cell_type": "code",
   "execution_count": 22,
   "metadata": {},
   "outputs": [],
   "source": [
    "tau = 0.01\n",
    "# simulate to grasp\n",
    "for t in range(int(0.3 / tau)):\n",
    "    time.sleep(tau)\n",
    "    q = Rai.S.get_q()\n",
    "    Rai.C.setJointState(q)  # set your robot model to match the real q\n",
    "\n",
    "    Rai.S.closeGripper(\"R_gripper\", speed=200.)\n",
    "\n",
    "    # send velocity controls to the simulation\n",
    "    Rai.S.step(np.zeros_like(q), tau, ry.ControlMode.none)\n"
   ]
  },
  {
   "cell_type": "code",
   "execution_count": null,
   "metadata": {},
   "outputs": [],
   "source": [
    "ry.Frame."
   ]
  },
  {
   "cell_type": "code",
   "execution_count": 21,
   "metadata": {},
   "outputs": [
    {
     "name": "stdout",
     "output_type": "stream",
     "text": [
      "[0]\n"
     ]
    },
    {
     "ename": "TypeError",
     "evalue": "unsupported operand type(s) for -: 'int' and 'NoneType'",
     "output_type": "error",
     "traceback": [
      "\u001b[0;31m---------------------------------------------------------------------------\u001b[0m",
      "\u001b[0;31mTypeError\u001b[0m                                 Traceback (most recent call last)",
      "\u001b[0;32m/tmp/ipykernel_11753/2064283555.py\u001b[0m in \u001b[0;36m<module>\u001b[0;34m\u001b[0m\n\u001b[1;32m     45\u001b[0m \u001b[0mprint\u001b[0m\u001b[0;34m(\u001b[0m\u001b[0mproj\u001b[0m\u001b[0;34m.\u001b[0m\u001b[0mt\u001b[0m\u001b[0;34m)\u001b[0m\u001b[0;34m\u001b[0m\u001b[0;34m\u001b[0m\u001b[0m\n\u001b[1;32m     46\u001b[0m \u001b[0;34m\u001b[0m\u001b[0m\n\u001b[0;32m---> 47\u001b[0;31m \u001b[0mproj\u001b[0m\u001b[0;34m.\u001b[0m\u001b[0mupdatePosition\u001b[0m\u001b[0;34m(\u001b[0m\u001b[0;36m1\u001b[0m\u001b[0;34m,\u001b[0m\u001b[0;36m0\u001b[0m\u001b[0;34m,\u001b[0m\u001b[0;36m2\u001b[0m\u001b[0;34m,\u001b[0m\u001b[0;36m1\u001b[0m\u001b[0;34m)\u001b[0m\u001b[0;34m\u001b[0m\u001b[0;34m\u001b[0m\u001b[0m\n\u001b[0m\u001b[1;32m     48\u001b[0m \u001b[0mproj\u001b[0m\u001b[0;34m.\u001b[0m\u001b[0mupdatePosition\u001b[0m\u001b[0;34m(\u001b[0m\u001b[0;36m1.5\u001b[0m\u001b[0;34m,\u001b[0m\u001b[0;36m1\u001b[0m\u001b[0;34m,\u001b[0m\u001b[0;36m0\u001b[0m\u001b[0;34m,\u001b[0m\u001b[0;36m2\u001b[0m\u001b[0;34m)\u001b[0m\u001b[0;34m\u001b[0m\u001b[0;34m\u001b[0m\u001b[0m\n\u001b[1;32m     49\u001b[0m \u001b[0;34m\u001b[0m\u001b[0m\n",
      "\u001b[0;32m/tmp/ipykernel_11753/2064283555.py\u001b[0m in \u001b[0;36mupdatePosition\u001b[0;34m(self, x, y, z, t)\u001b[0m\n\u001b[1;32m     14\u001b[0m         \u001b[0mself\u001b[0m\u001b[0;34m.\u001b[0m\u001b[0mt\u001b[0m\u001b[0;34m.\u001b[0m\u001b[0mappend\u001b[0m\u001b[0;34m(\u001b[0m\u001b[0mt\u001b[0m\u001b[0;34m)\u001b[0m\u001b[0;34m\u001b[0m\u001b[0;34m\u001b[0m\u001b[0m\n\u001b[1;32m     15\u001b[0m         \u001b[0mself\u001b[0m\u001b[0;34m.\u001b[0m\u001b[0mpositions\u001b[0m\u001b[0;34m.\u001b[0m\u001b[0mappend\u001b[0m\u001b[0;34m(\u001b[0m\u001b[0;34m[\u001b[0m\u001b[0mx\u001b[0m\u001b[0;34m,\u001b[0m\u001b[0my\u001b[0m\u001b[0;34m,\u001b[0m\u001b[0mz\u001b[0m\u001b[0;34m]\u001b[0m\u001b[0;34m)\u001b[0m\u001b[0;34m\u001b[0m\u001b[0;34m\u001b[0m\u001b[0m\n\u001b[0;32m---> 16\u001b[0;31m         \u001b[0mself\u001b[0m\u001b[0;34m.\u001b[0m\u001b[0m_updateVel\u001b[0m\u001b[0;34m(\u001b[0m\u001b[0;34m)\u001b[0m\u001b[0;34m\u001b[0m\u001b[0;34m\u001b[0m\u001b[0m\n\u001b[0m\u001b[1;32m     17\u001b[0m \u001b[0;34m\u001b[0m\u001b[0m\n\u001b[1;32m     18\u001b[0m \u001b[0;34m\u001b[0m\u001b[0m\n",
      "\u001b[0;32m/tmp/ipykernel_11753/2064283555.py\u001b[0m in \u001b[0;36m_updateVel\u001b[0;34m(self)\u001b[0m\n\u001b[1;32m     30\u001b[0m                 \u001b[0mtimeDelta\u001b[0m \u001b[0;34m=\u001b[0m \u001b[0;34m(\u001b[0m\u001b[0mself\u001b[0m\u001b[0;34m.\u001b[0m\u001b[0mt\u001b[0m\u001b[0;34m[\u001b[0m\u001b[0mi\u001b[0m \u001b[0;34m+\u001b[0m \u001b[0;36m1\u001b[0m\u001b[0;34m]\u001b[0m \u001b[0;34m-\u001b[0m \u001b[0mself\u001b[0m\u001b[0;34m.\u001b[0m\u001b[0mt\u001b[0m\u001b[0;34m[\u001b[0m\u001b[0mi\u001b[0m\u001b[0;34m]\u001b[0m\u001b[0;34m)\u001b[0m\u001b[0;34m\u001b[0m\u001b[0;34m\u001b[0m\u001b[0m\n\u001b[1;32m     31\u001b[0m \u001b[0;34m\u001b[0m\u001b[0m\n\u001b[0;32m---> 32\u001b[0;31m                 \u001b[0mvel\u001b[0m\u001b[0;34m.\u001b[0m\u001b[0mappend\u001b[0m\u001b[0;34m(\u001b[0m\u001b[0;34m(\u001b[0m\u001b[0mpos1\u001b[0m \u001b[0;34m-\u001b[0m \u001b[0mpos0\u001b[0m\u001b[0;34m)\u001b[0m \u001b[0;34m/\u001b[0m \u001b[0mtimeDelta\u001b[0m\u001b[0;34m)\u001b[0m\u001b[0;34m\u001b[0m\u001b[0;34m\u001b[0m\u001b[0m\n\u001b[0m\u001b[1;32m     33\u001b[0m             \u001b[0mprint\u001b[0m\u001b[0;34m(\u001b[0m\u001b[0mvel\u001b[0m\u001b[0;34m)\u001b[0m\u001b[0;34m\u001b[0m\u001b[0;34m\u001b[0m\u001b[0m\n\u001b[1;32m     34\u001b[0m             \u001b[0mself\u001b[0m\u001b[0;34m.\u001b[0m\u001b[0mvelocities\u001b[0m\u001b[0;34m.\u001b[0m\u001b[0mappend\u001b[0m\u001b[0;34m(\u001b[0m\u001b[0mvel\u001b[0m\u001b[0;34m)\u001b[0m\u001b[0;34m\u001b[0m\u001b[0;34m\u001b[0m\u001b[0m\n",
      "\u001b[0;31mTypeError\u001b[0m: unsupported operand type(s) for -: 'int' and 'NoneType'"
     ]
    }
   ],
   "source": [
    "class PojectileMotion:\n",
    "    def __init__(self, position0, t0=0, mass=None, gravity=9.81):\n",
    "        self.t0 = t0  # inital time in s\n",
    "\n",
    "        self.t = [self.t0]  # inital time in ms\n",
    "        self.positions = [position0]  # positions in m\n",
    "        self.velocities = [] # velocities in m/s     \n",
    "        self.accelerations = []  # x accelerations in m/(s*s)\n",
    "\n",
    "        self.m = mass  # mass\n",
    "        self.g = gravity  # gravity\n",
    "\n",
    "    def updatePosition(self, x, y, z, t):\n",
    "        self.t.append(t)\n",
    "        self.positions.append([x,y,z])\n",
    "        self._updateVel()\n",
    "\n",
    "\n",
    "    def _updateVel(self):\n",
    "        for i in range(len(self.t) - 1):\n",
    "            vel = []\n",
    "\n",
    "            # skip already calulated ones\n",
    "            if i < len(self.velocities):\n",
    "                continue\n",
    "# in all 3 dimensions\n",
    "            for direction in range(3): \n",
    "                pos0 = self.positions[i][direction]\n",
    "                pos1 = self.positions[i+1][direction]\n",
    "                timeDelta = (self.t[i + 1] - self.t[i])\n",
    "                \n",
    "                vel.append((pos1 - pos0) / timeDelta)\n",
    "            print(vel)\n",
    "            self.velocities.append(vel)\n",
    "            \n",
    "        \n",
    "        return self.velocities\n",
    "\n",
    "    def getPosition(self):\n",
    "        sdfgs\n",
    "\n",
    "\n",
    "proj = PojectileMotion(0,0,0)\n",
    "\n",
    "print(proj.t)\n",
    "\n",
    "proj.updatePosition(1,0,2,1)\n",
    "proj.updatePosition(1.5,1,0,2)\n",
    "\n",
    "print(proj.t)\n",
    "print(proj.velocities)\n",
    "\n",
    "\n"
   ]
  },
  {
   "cell_type": "code",
   "execution_count": null,
   "metadata": {},
   "outputs": [],
   "source": []
  }
 ],
 "metadata": {
  "interpreter": {
   "hash": "151e6003ef3448e9dad8ac998da13fd7f08f405b4e0b7cacbbaf31913d5c8a90"
  },
  "kernelspec": {
   "display_name": "Python 3.8.10 64-bit ('rai_env': venv)",
   "language": "python",
   "name": "python3"
  },
  "language_info": {
   "codemirror_mode": {
    "name": "ipython",
    "version": 3
   },
   "file_extension": ".py",
   "mimetype": "text/x-python",
   "name": "python",
   "nbconvert_exporter": "python",
   "pygments_lexer": "ipython3",
   "version": "3.8.10"
  },
  "orig_nbformat": 4
 },
 "nbformat": 4,
 "nbformat_minor": 2
}
