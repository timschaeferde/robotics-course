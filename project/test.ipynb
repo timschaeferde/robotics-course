{
 "cells": [
  {
   "cell_type": "code",
   "execution_count": 3,
   "metadata": {},
   "outputs": [],
   "source": [
    "import sys\n",
    "sys.path.append('../build')\n",
    "import numpy as np\n",
    "import libry as ry\n",
    "import time\n",
    "\n",
    "\n",
    "from lib.rai.rai_env import RaiEnv\n",
    "from lib.prediction.color_seg import find_ball\n"
   ]
  },
  {
   "cell_type": "code",
   "execution_count": 4,
   "metadata": {},
   "outputs": [],
   "source": [
    "#########################################\n",
    "# initialize rai simulation here        #\n",
    "#########################################\n",
    "Rai = RaiEnv(tau=.01,\n",
    "             realEnv=\"scenarios/project_env.g\",\n",
    "             modelEnv=\"scenarios/project_env.g\",\n",
    "             useROS=False,\n",
    "             initSim=False,\n",
    "             initConfig=True,\n",
    "             simulatorEngine=ry.SimulatorEngine.bullet,\n",
    "             verboseSim=1)\n",
    "\n",
    "#########################################\n",
    "# init simulation                       #\n",
    "#########################################\n",
    "Rai._init_simulation()\n"
   ]
  }
 ],
 "metadata": {
  "interpreter": {
   "hash": "151e6003ef3448e9dad8ac998da13fd7f08f405b4e0b7cacbbaf31913d5c8a90"
  },
  "kernelspec": {
   "display_name": "Python 3.8.10 64-bit ('rai_env': venv)",
   "language": "python",
   "name": "python3"
  },
  "language_info": {
   "codemirror_mode": {
    "name": "ipython",
    "version": 3
   },
   "file_extension": ".py",
   "mimetype": "text/x-python",
   "name": "python",
   "nbconvert_exporter": "python",
   "pygments_lexer": "ipython3",
   "version": "3.8.10"
  },
  "orig_nbformat": 4
 },
 "nbformat": 4,
 "nbformat_minor": 2
}
