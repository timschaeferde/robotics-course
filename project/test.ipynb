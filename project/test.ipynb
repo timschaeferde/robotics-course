{
 "cells": [
  {
   "cell_type": "code",
   "execution_count": 5,
   "metadata": {},
   "outputs": [],
   "source": [
    "import sys\n",
    "sys.path.append('../build')\n",
    "import numpy as np\n",
    "import libry as ry\n",
    "import time\n",
    "\n",
    "\n",
    "from lib.rai.rai_env import RaiEnv\n",
    "from lib.prediction.color_seg import find_ball\n"
   ]
  },
  {
   "cell_type": "code",
   "execution_count": 6,
   "metadata": {},
   "outputs": [],
   "source": [
    "#########################################\n",
    "# initialize rai simulation here        #\n",
    "#########################################\n",
    "Rai = RaiEnv(tau=.01,\n",
    "             realEnv=\"scenarios/project_env.g\",\n",
    "             modelEnv=\"scenarios/project_env.g\",\n",
    "             useROS=False,\n",
    "             initSim=False,\n",
    "             initConfig=True,\n",
    "             simulatorEngine=ry.SimulatorEngine.bullet,\n",
    "             verboseSim=1,\n",
    "             defaultCamera=False)\n",
    "\n",
    "#########################################\n",
    "# init simulation                       #\n",
    "#########################################\n",
    "Rai._init_simulation()\n"
   ]
  },
  {
   "cell_type": "code",
   "execution_count": 38,
   "metadata": {},
   "outputs": [
    {
     "name": "stdout",
     "output_type": "stream",
     "text": [
      "Simulation finished\n"
     ]
    }
   ],
   "source": [
    "Rai.run_simulation(11)\n",
    "\n",
    "\n"
   ]
  },
  {
   "cell_type": "code",
   "execution_count": 41,
   "metadata": {},
   "outputs": [
    {
     "data": {
      "text/plain": [
       "libry.Frame"
      ]
     },
     "execution_count": 41,
     "metadata": {},
     "output_type": "execute_result"
    }
   ],
   "source": [
    "komo = Rai.C.komo_path(2., 20, 4., True)\n",
    "\n",
    "ball = Rai.RealWorld.getFrame(\"ball\")\n",
    "\n",
    "type(ball)\n"
   ]
  },
  {
   "cell_type": "code",
   "execution_count": 7,
   "metadata": {},
   "outputs": [
    {
     "data": {
      "text/plain": [
       "<bound method PyCapsule.getGripperWidth of <libry.Simulation object at 0x7f816804d970>>"
      ]
     },
     "execution_count": 7,
     "metadata": {},
     "output_type": "execute_result"
    }
   ],
   "source": [
    "komo.getPathFrames()\n",
    "\n",
    "Rai.S.getGripperWidth"
   ]
  },
  {
   "cell_type": "code",
   "execution_count": 40,
   "metadata": {},
   "outputs": [
    {
     "data": {
      "text/plain": [
       "True"
      ]
     },
     "execution_count": 40,
     "metadata": {},
     "output_type": "execute_result"
    }
   ],
   "source": [
    "type(Rai) is RaiEnv\n"
   ]
  },
  {
   "cell_type": "code",
   "execution_count": 4,
   "metadata": {},
   "outputs": [
    {
     "data": {
      "text/plain": [
       "(array([[[129, 140, 151],\n",
       "         [129, 140, 151],\n",
       "         [129, 140, 151],\n",
       "         ...,\n",
       "         [129, 140, 151],\n",
       "         [129, 140, 151],\n",
       "         [129, 140, 151]],\n",
       " \n",
       "        [[129, 140, 151],\n",
       "         [129, 140, 151],\n",
       "         [129, 140, 151],\n",
       "         ...,\n",
       "         [129, 140, 151],\n",
       "         [129, 140, 151],\n",
       "         [129, 140, 151]],\n",
       " \n",
       "        [[129, 140, 151],\n",
       "         [129, 140, 151],\n",
       "         [129, 140, 151],\n",
       "         ...,\n",
       "         [129, 140, 151],\n",
       "         [129, 140, 151],\n",
       "         [129, 140, 151]],\n",
       " \n",
       "        ...,\n",
       " \n",
       "        [[129, 140, 151],\n",
       "         [129, 140, 151],\n",
       "         [129, 140, 151],\n",
       "         ...,\n",
       "         [129, 140, 151],\n",
       "         [129, 140, 151],\n",
       "         [129, 140, 151]],\n",
       " \n",
       "        [[129, 140, 151],\n",
       "         [129, 140, 151],\n",
       "         [129, 140, 151],\n",
       "         ...,\n",
       "         [129, 140, 151],\n",
       "         [129, 140, 151],\n",
       "         [129, 140, 151]],\n",
       " \n",
       "        [[129, 140, 151],\n",
       "         [129, 140, 151],\n",
       "         [129, 140, 151],\n",
       "         ...,\n",
       "         [129, 140, 151],\n",
       "         [129, 140, 151],\n",
       "         [129, 140, 151]]], dtype=uint8),\n",
       " array([[10.000268, 10.000268, 10.000268, ..., 10.000268, 10.000268,\n",
       "         10.000268],\n",
       "        [10.000268, 10.000268, 10.000268, ..., 10.000268, 10.000268,\n",
       "         10.000268],\n",
       "        [10.000268, 10.000268, 10.000268, ..., 10.000268, 10.000268,\n",
       "         10.000268],\n",
       "        ...,\n",
       "        [10.000268, 10.000268, 10.000268, ..., 10.000268, 10.000268,\n",
       "         10.000268],\n",
       "        [10.000268, 10.000268, 10.000268, ..., 10.000268, 10.000268,\n",
       "         10.000268],\n",
       "        [10.000268, 10.000268, 10.000268, ..., 10.000268, 10.000268,\n",
       "         10.000268]], dtype=float32))"
      ]
     },
     "execution_count": 4,
     "metadata": {},
     "output_type": "execute_result"
    }
   ],
   "source": [
    "Rai.S.getImageAndDepth()"
   ]
  },
  {
   "cell_type": "code",
   "execution_count": 22,
   "metadata": {},
   "outputs": [],
   "source": [
    "tau = 0.01\n",
    "# simulate to grasp\n",
    "for t in range(int(0.3 / tau)):\n",
    "    time.sleep(tau)\n",
    "    q = Rai.S.get_q()\n",
    "    Rai.C.setJointState(q)  # set your robot model to match the real q\n",
    "\n",
    "    Rai.S.closeGripper(\"R_gripper\", speed=200.)\n",
    "\n",
    "    # send velocity controls to the simulation\n",
    "    Rai.S.step(np.zeros_like(q), tau, ry.ControlMode.none)\n"
   ]
  },
  {
   "cell_type": "code",
   "execution_count": 21,
   "metadata": {},
   "outputs": [
    {
     "name": "stdout",
     "output_type": "stream",
     "text": [
      "[0]\n"
     ]
    },
    {
     "ename": "TypeError",
     "evalue": "unsupported operand type(s) for -: 'int' and 'NoneType'",
     "output_type": "error",
     "traceback": [
      "\u001b[0;31m---------------------------------------------------------------------------\u001b[0m",
      "\u001b[0;31mTypeError\u001b[0m                                 Traceback (most recent call last)",
      "\u001b[0;32m/tmp/ipykernel_11753/2064283555.py\u001b[0m in \u001b[0;36m<module>\u001b[0;34m\u001b[0m\n\u001b[1;32m     45\u001b[0m \u001b[0mprint\u001b[0m\u001b[0;34m(\u001b[0m\u001b[0mproj\u001b[0m\u001b[0;34m.\u001b[0m\u001b[0mt\u001b[0m\u001b[0;34m)\u001b[0m\u001b[0;34m\u001b[0m\u001b[0;34m\u001b[0m\u001b[0m\n\u001b[1;32m     46\u001b[0m \u001b[0;34m\u001b[0m\u001b[0m\n\u001b[0;32m---> 47\u001b[0;31m \u001b[0mproj\u001b[0m\u001b[0;34m.\u001b[0m\u001b[0mupdatePosition\u001b[0m\u001b[0;34m(\u001b[0m\u001b[0;36m1\u001b[0m\u001b[0;34m,\u001b[0m\u001b[0;36m0\u001b[0m\u001b[0;34m,\u001b[0m\u001b[0;36m2\u001b[0m\u001b[0;34m,\u001b[0m\u001b[0;36m1\u001b[0m\u001b[0;34m)\u001b[0m\u001b[0;34m\u001b[0m\u001b[0;34m\u001b[0m\u001b[0m\n\u001b[0m\u001b[1;32m     48\u001b[0m \u001b[0mproj\u001b[0m\u001b[0;34m.\u001b[0m\u001b[0mupdatePosition\u001b[0m\u001b[0;34m(\u001b[0m\u001b[0;36m1.5\u001b[0m\u001b[0;34m,\u001b[0m\u001b[0;36m1\u001b[0m\u001b[0;34m,\u001b[0m\u001b[0;36m0\u001b[0m\u001b[0;34m,\u001b[0m\u001b[0;36m2\u001b[0m\u001b[0;34m)\u001b[0m\u001b[0;34m\u001b[0m\u001b[0;34m\u001b[0m\u001b[0m\n\u001b[1;32m     49\u001b[0m \u001b[0;34m\u001b[0m\u001b[0m\n",
      "\u001b[0;32m/tmp/ipykernel_11753/2064283555.py\u001b[0m in \u001b[0;36mupdatePosition\u001b[0;34m(self, x, y, z, t)\u001b[0m\n\u001b[1;32m     14\u001b[0m         \u001b[0mself\u001b[0m\u001b[0;34m.\u001b[0m\u001b[0mt\u001b[0m\u001b[0;34m.\u001b[0m\u001b[0mappend\u001b[0m\u001b[0;34m(\u001b[0m\u001b[0mt\u001b[0m\u001b[0;34m)\u001b[0m\u001b[0;34m\u001b[0m\u001b[0;34m\u001b[0m\u001b[0m\n\u001b[1;32m     15\u001b[0m         \u001b[0mself\u001b[0m\u001b[0;34m.\u001b[0m\u001b[0mpositions\u001b[0m\u001b[0;34m.\u001b[0m\u001b[0mappend\u001b[0m\u001b[0;34m(\u001b[0m\u001b[0;34m[\u001b[0m\u001b[0mx\u001b[0m\u001b[0;34m,\u001b[0m\u001b[0my\u001b[0m\u001b[0;34m,\u001b[0m\u001b[0mz\u001b[0m\u001b[0;34m]\u001b[0m\u001b[0;34m)\u001b[0m\u001b[0;34m\u001b[0m\u001b[0;34m\u001b[0m\u001b[0m\n\u001b[0;32m---> 16\u001b[0;31m         \u001b[0mself\u001b[0m\u001b[0;34m.\u001b[0m\u001b[0m_updateVel\u001b[0m\u001b[0;34m(\u001b[0m\u001b[0;34m)\u001b[0m\u001b[0;34m\u001b[0m\u001b[0;34m\u001b[0m\u001b[0m\n\u001b[0m\u001b[1;32m     17\u001b[0m \u001b[0;34m\u001b[0m\u001b[0m\n\u001b[1;32m     18\u001b[0m \u001b[0;34m\u001b[0m\u001b[0m\n",
      "\u001b[0;32m/tmp/ipykernel_11753/2064283555.py\u001b[0m in \u001b[0;36m_updateVel\u001b[0;34m(self)\u001b[0m\n\u001b[1;32m     30\u001b[0m                 \u001b[0mtimeDelta\u001b[0m \u001b[0;34m=\u001b[0m \u001b[0;34m(\u001b[0m\u001b[0mself\u001b[0m\u001b[0;34m.\u001b[0m\u001b[0mt\u001b[0m\u001b[0;34m[\u001b[0m\u001b[0mi\u001b[0m \u001b[0;34m+\u001b[0m \u001b[0;36m1\u001b[0m\u001b[0;34m]\u001b[0m \u001b[0;34m-\u001b[0m \u001b[0mself\u001b[0m\u001b[0;34m.\u001b[0m\u001b[0mt\u001b[0m\u001b[0;34m[\u001b[0m\u001b[0mi\u001b[0m\u001b[0;34m]\u001b[0m\u001b[0;34m)\u001b[0m\u001b[0;34m\u001b[0m\u001b[0;34m\u001b[0m\u001b[0m\n\u001b[1;32m     31\u001b[0m \u001b[0;34m\u001b[0m\u001b[0m\n\u001b[0;32m---> 32\u001b[0;31m                 \u001b[0mvel\u001b[0m\u001b[0;34m.\u001b[0m\u001b[0mappend\u001b[0m\u001b[0;34m(\u001b[0m\u001b[0;34m(\u001b[0m\u001b[0mpos1\u001b[0m \u001b[0;34m-\u001b[0m \u001b[0mpos0\u001b[0m\u001b[0;34m)\u001b[0m \u001b[0;34m/\u001b[0m \u001b[0mtimeDelta\u001b[0m\u001b[0;34m)\u001b[0m\u001b[0;34m\u001b[0m\u001b[0;34m\u001b[0m\u001b[0m\n\u001b[0m\u001b[1;32m     33\u001b[0m             \u001b[0mprint\u001b[0m\u001b[0;34m(\u001b[0m\u001b[0mvel\u001b[0m\u001b[0;34m)\u001b[0m\u001b[0;34m\u001b[0m\u001b[0;34m\u001b[0m\u001b[0m\n\u001b[1;32m     34\u001b[0m             \u001b[0mself\u001b[0m\u001b[0;34m.\u001b[0m\u001b[0mvelocities\u001b[0m\u001b[0;34m.\u001b[0m\u001b[0mappend\u001b[0m\u001b[0;34m(\u001b[0m\u001b[0mvel\u001b[0m\u001b[0;34m)\u001b[0m\u001b[0;34m\u001b[0m\u001b[0;34m\u001b[0m\u001b[0m\n",
      "\u001b[0;31mTypeError\u001b[0m: unsupported operand type(s) for -: 'int' and 'NoneType'"
     ]
    }
   ],
   "source": [
    "class PojectileMotion:\n",
    "    def __init__(self, position0, t0=0, mass=None, gravity=9.81):\n",
    "        self.t0 = t0  # inital time in s\n",
    "\n",
    "        self.t = [self.t0]  # inital time in ms\n",
    "        self.positions = [position0]  # positions in m\n",
    "        self.velocities = [] # velocities in m/s     \n",
    "        self.accelerations = []  # x accelerations in m/(s*s)\n",
    "\n",
    "        self.m = mass  # mass\n",
    "        self.g = gravity  # gravity\n",
    "\n",
    "    def updatePosition(self, x, y, z, t):\n",
    "        self.t.append(t)\n",
    "        self.positions.append([x,y,z])\n",
    "        self._updateVel()\n",
    "\n",
    "\n",
    "    def _updateVel(self):\n",
    "        for i in range(len(self.t) - 1):\n",
    "            vel = []\n",
    "\n",
    "            # skip already calulated ones\n",
    "            if i < len(self.velocities):\n",
    "                continue\n",
    "# in all 3 dimensions\n",
    "            for direction in range(3): \n",
    "                pos0 = self.positions[i][direction]\n",
    "                pos1 = self.positions[i+1][direction]\n",
    "                timeDelta = (self.t[i + 1] - self.t[i])\n",
    "                \n",
    "                vel.append((pos1 - pos0) / timeDelta)\n",
    "            print(vel)\n",
    "            self.velocities.append(vel)\n",
    "            \n",
    "        \n",
    "        return self.velocities\n",
    "\n",
    "    def getPosition(self):\n",
    "        sdfgs\n",
    "\n",
    "\n",
    "proj = PojectileMotion(0,0,0)\n",
    "\n",
    "print(proj.t)\n",
    "\n",
    "proj.updatePosition(1,0,2,1)\n",
    "proj.updatePosition(1.5,1,0,2)\n",
    "\n",
    "print(proj.t)\n",
    "print(proj.velocities)\n",
    "\n",
    "\n"
   ]
  },
  {
   "cell_type": "code",
   "execution_count": null,
   "metadata": {},
   "outputs": [],
   "source": []
  }
 ],
 "metadata": {
  "interpreter": {
   "hash": "151e6003ef3448e9dad8ac998da13fd7f08f405b4e0b7cacbbaf31913d5c8a90"
  },
  "kernelspec": {
   "display_name": "Python 3.8.10 64-bit ('rai_env': venv)",
   "language": "python",
   "name": "python3"
  },
  "language_info": {
   "codemirror_mode": {
    "name": "ipython",
    "version": 3
   },
   "file_extension": ".py",
   "mimetype": "text/x-python",
   "name": "python",
   "nbconvert_exporter": "python",
   "pygments_lexer": "ipython3",
   "version": "3.8.10"
  },
  "orig_nbformat": 4
 },
 "nbformat": 4,
 "nbformat_minor": 2
}
