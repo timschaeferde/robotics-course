{
 "cells": [
  {
   "cell_type": "code",
   "execution_count": 130,
   "metadata": {},
   "outputs": [
    {
     "name": "stdout",
     "output_type": "stream",
     "text": [
      "4.5.3\n"
     ]
    }
   ],
   "source": [
    "import sys\n",
    "sys.path.append('../../build')\n",
    "import cv2 as cv\n",
    "import numpy as np\n",
    "\n",
    "import libry as ry\n",
    "import time\n",
    "print(cv.__version__)"
   ]
  },
  {
   "cell_type": "code",
   "execution_count": 131,
   "metadata": {},
   "outputs": [],
   "source": [
    "#Let's edit the real world before we create the simulation\n",
    "RealWorld = ry.Config()\n",
    "RealWorld.addFile(\"../../scenarios/ex05_redball.g\")\n",
    "D = RealWorld.view()\n",
    "\n",
    "ball = RealWorld.getFrame(\"ball\")"
   ]
  },
  {
   "cell_type": "code",
   "execution_count": 132,
   "metadata": {},
   "outputs": [],
   "source": [
    "#RealWorld.addFrame(camera_fixpoint)"
   ]
  },
  {
   "cell_type": "code",
   "execution_count": 133,
   "metadata": {},
   "outputs": [
    {
     "name": "stdout",
     "output_type": "stream",
     "text": [
      "**ry-c++-log** /home/tim/git/robotics-course_tim/rai/rai/Kin/kin_bullet.cpp:BulletInterface:68(0) starting bullet engine ...\n",
      "\n",
      "**ry-c++-log** /home/tim/git/robotics-course_tim/rai/rai/Kin/kin_bullet.cpp:BulletInterface:81(0) ... done starting bullet engine\n",
      "** INFO:/home/tim/git/robotics-course_tim/rai/rai/Kin/kin_bullet.cpp:BulletInterface:68(0) starting bullet engine ...\n",
      "\n",
      "**ry-c++-log** /home/tim/git/robotics-course_tim/rai/rai/Kin/kin_bullet.cpp:BulletInterface:85(0) creating Configuration within bullet ...\n",
      "** INFO:/home/tim/git/robotics-course_tim/rai/rai/Kin/kin_bullet.cpp:BulletInterface:81(0) ... done starting bullet engine\n",
      "\n",
      "**ry-c++-log** /home/tim/git/robotics-course_tim/rai/rai/Kin/kin_bullet.cpp:addLink:259(0) adding link anchored at 'world' as static** INFO:/home/tim/git/robotics-course_tim/rai/rai/Kin/kin_bullet.cpp:BulletInterface:85(0) creating Configuration within bullet ...\n",
      "\n",
      "\n",
      "**ry-c++-log** /home/tim/git/robotics-course_tim/rai/rai/Kin/kin_bullet.cpp:addLink:259(0) adding link anchored at 'L_panda_joint1' as kinematic\n",
      "** INFO:/home/tim/git/robotics-course_tim/rai/rai/Kin/kin_bullet.cpp:addLink:259(0) adding link anchored at 'world' as static\n",
      "\n",
      "**ry-c++-log** /home/tim/git/robotics-course_tim/rai/rai/Kin/kin_bullet.cpp:addLink:259(0) adding link anchored at 'L_panda_joint2' as kinematic\n",
      "** INFO:/home/tim/git/robotics-course_tim/rai/rai/Kin/kin_bullet.cpp:addLink:259(0) adding link anchored at 'L_panda_joint1' as kinematic\n",
      "\n",
      "**ry-c++-log** /home/tim/git/robotics-course_tim/rai/rai/Kin/kin_bullet.cpp:addLink:259(0) adding link anchored at 'L_panda_joint3' as kinematic\n",
      "** INFO:/home/tim/git/robotics-course_tim/rai/rai/Kin/kin_bullet.cpp:addLink:259(0) adding link anchored at 'L_panda_joint2' as kinematic\n",
      "\n",
      "**ry-c++-log** /home/tim/git/robotics-course_tim/rai/rai/Kin/kin_bullet.cpp:addLink:259(0) adding link anchored at 'L_panda_joint4' as kinematic\n",
      "** INFO:/home/tim/git/robotics-course_tim/rai/rai/Kin/kin_bullet.cpp:addLink:259(0) adding link anchored at 'L_panda_joint3' as kinematic\n",
      "\n",
      "**ry-c++-log** /home/tim/git/robotics-course_tim/rai/rai/Kin/kin_bullet.cpp:addLink:259(0) adding link anchored at 'L_panda_joint5' as kinematic\n",
      "** INFO:/home/tim/git/robotics-course_tim/rai/rai/Kin/kin_bullet.cpp:addLink:259(0) adding link anchored at 'L_panda_joint4' as kinematic\n",
      "\n",
      "**ry-c++-log** /home/tim/git/robotics-course_tim/rai/rai/Kin/kin_bullet.cpp:addLink:259(0) adding link anchored at 'L_panda_joint6' as kinematic\n",
      "** INFO:/home/tim/git/robotics-course_tim/rai/rai/Kin/kin_bullet.cpp:addLink:259(0) adding link anchored at 'L_panda_joint5' as kinematic\n",
      "\n",
      "**ry-c++-log** /home/tim/git/robotics-course_tim/rai/rai/Kin/kin_bullet.cpp:addLink:259(0) adding link anchored at 'L_panda_joint7' as kinematic** INFO:\n",
      "/home/tim/git/robotics-course_tim/rai/rai/Kin/kin_bullet.cpp:addLink:259(0) adding link anchored at 'L_panda_joint6' as kinematic\n",
      "\n",
      "**ry-c++-log** /home/tim/git/robotics-course_tim/rai/rai/Kin/kin_bullet.cpp:addLink:259(0) adding link anchored at 'R_panda_joint1' as kinematic\n",
      "** INFO:/home/tim/git/robotics-course_tim/rai/rai/Kin/kin_bullet.cpp:addLink:259(0) adding link anchored at 'L_panda_joint7' as kinematic\n",
      "\n",
      "**ry-c++-log** /home/tim/git/robotics-course_tim/rai/rai/Kin/kin_bullet.cpp:addLink:259(0) adding link anchored at 'R_panda_joint2' as kinematic\n",
      "** INFO:/home/tim/git/robotics-course_tim/rai/rai/Kin/kin_bullet.cpp:addLink:259(0) adding link anchored at 'R_panda_joint1' as kinematic\n",
      "\n",
      "**ry-c++-log** /home/tim/git/robotics-course_tim/rai/rai/Kin/kin_bullet.cpp:addLink:259(0) adding link anchored at 'R_panda_joint3' as kinematic** INFO:/home/tim/git/robotics-course_tim/rai/rai/Kin/kin_bullet.cpp:addLink:259(0) adding link anchored at 'R_panda_joint2' as kinematic\n",
      "\n",
      "\n",
      "**ry-c++-log** /home/tim/git/robotics-course_tim/rai/rai/Kin/kin_bullet.cpp:addLink:259(0) adding link anchored at 'R_panda_joint4' as kinematic** INFO:/home/tim/git/robotics-course_tim/rai/rai/Kin/kin_bullet.cpp:addLink:259(0) adding link anchored at 'R_panda_joint3' as kinematic\n",
      "\n",
      "**ry-c++-log** /home/tim/git/robotics-course_tim/rai/rai/Kin/kin_bullet.cpp:addLink:259(0) adding link anchored at 'R_panda_joint5' as kinematic\n",
      "\n",
      "\n",
      "** INFO:/home/tim/git/robotics-course_tim/rai/rai/Kin/kin_bullet.cpp:addLink:259(0) adding link anchored at 'R_panda_joint4' as kinematic\n",
      "**ry-c++-log** /home/tim/git/robotics-course_tim/rai/rai/Kin/kin_bullet.cpp:addLink:259(0) adding link anchored at 'R_panda_joint6' as kinematic** INFO:/home/tim/git/robotics-course_tim/rai/rai/Kin/kin_bullet.cpp:addLink:259(0) adding link anchored at 'R_panda_joint5' as kinematic\n",
      "\n",
      "\n",
      "**ry-c++-log** /home/tim/git/robotics-course_tim/rai/rai/Kin/kin_bullet.cpp:addLink:259(0) adding link anchored at 'R_panda_joint7' as kinematic** INFO:/home/tim/git/robotics-course_tim/rai/rai/Kin/kin_bullet.cpp:addLink:259(0) adding link anchored at 'R_panda_joint6' as kinematic\n",
      "\n",
      "\n",
      "**ry-c++-log** /home/tim/git/robotics-course_tim/rai/rai/Kin/kin_bullet.cpp:addLink:259(0) adding link anchored at 'ball' as dynamic\n",
      "** INFO:/home/tim/git/robotics-course_tim/rai/rai/Kin/kin_bullet.cpp:addLink:259(0) adding link anchored at 'R_panda_joint7' as kinematic\n",
      "\n",
      "**ry-c++-log** /home/tim/git/robotics-course_tim/rai/rai/Kin/kin_bullet.cpp:BulletInterface:92(0) ... done creating Configuration within bullet\n",
      "\n",
      "** INFO:/home/tim/git/robotics-course_tim/rai/rai/Kin/kin_bullet.cpp:addLink:259(0) adding link anchored at 'ball' as dynamic\n",
      "** INFO:/home/tim/git/robotics-course_tim/rai/rai/Kin/kin_bullet.cpp:BulletInterface:92(0) ... done creating Configuration within bullet\n"
     ]
    },
    {
     "data": {
      "text/plain": [
       "<libry.CameraViewSensor at 0x7fbaffbbfb30>"
      ]
     },
     "execution_count": 133,
     "metadata": {},
     "output_type": "execute_result"
    }
   ],
   "source": [
    "# instantiate the simulation\n",
    "S = RealWorld.simulation(ry.SimulatorEngine.bullet, verbose=2)\n",
    "S.addSensor(\"camera\")"
   ]
  },
  {
   "cell_type": "code",
   "execution_count": 134,
   "metadata": {},
   "outputs": [],
   "source": [
    "# we're adding an \"imp\" to the simulation, which is a little process that can inject perturbations\n",
    "#S.addImp(ry.ImpType.objectImpulses, ['obj0'], [])"
   ]
  },
  {
   "cell_type": "code",
   "execution_count": 135,
   "metadata": {},
   "outputs": [],
   "source": [
    "# create your model world\n",
    "C = ry.Config()\n",
    "C.addFile('../../scenarios/pandasTable.g')\n",
    "cameraFrame = C.frame(\"camera\")\n",
    "D2 = C.view()\n",
    "\n",
    "#the focal length\n",
    "f = 0.895\n",
    "f = f * 360.\n",
    "fxfypxpy = [f, f, 320., 180.]"
   ]
  },
  {
   "cell_type": "code",
   "execution_count": 136,
   "metadata": {},
   "outputs": [],
   "source": [
    "\n",
    "config_obj_name = \"conf_ball\"\n",
    "\n",
    "# delete if necceary\n",
    "#C.delFrame(config_obj_name)\n",
    "\n",
    "obj = C.addFrame(config_obj_name,\"camera\")\n",
    "\n",
    "obj.setShape(ry.ST.sphere, [.03])\n",
    "obj.setColor([1.,0,0])\n",
    "\n",
    "objectPosition = ball.getPosition()\n",
    "#set the model object to percept\n",
    "obj.setPosition(objectPosition)\n",
    "\n"
   ]
  },
  {
   "cell_type": "code",
   "execution_count": 137,
   "metadata": {},
   "outputs": [
    {
     "name": "stdout",
     "output_type": "stream",
     "text": [
      "** KOMO::run solver:dense collisions:0 x-dim:14 T:1 k:1 phases:1 stepsPerPhase:1 tau:1  #timeSlices:2 #totalDOFs:14 #frames:196\n",
      "** optimization time:0.001668 (kin:7.8e-05 coll:0 feat:0.000707 newton: 0.000204) setJointStateCount:19\n",
      "   sos:54.4619 ineq:0 eq:0.0669574\n",
      "**ry-c++-log** /home/tim/git/robotics-course_tim/rai/rai/Kin/simulation.cpp:closeGripper:312(1) closing gripper without near object (if this is not what you expect, did you setContact(1) for the object you want to grasp?)\n",
      "\n",
      "** INFO:/home/tim/git/robotics-course_tim/rai/rai/Kin/simulation.cpp:closeGripper:312(1) closing gripper without near object (if this is not what you expect, did you setContact(1) for the object you want to grasp?)\n",
      "**ry-c++-log** /home/tim/git/robotics-course_tim/rai/rai/Kin/simulation.cpp:modConfiguration:568(1) terminating closing gripper (limit) - nothing grasped\n",
      "\n",
      "** INFO:/home/tim/git/robotics-course_tim/rai/rai/Kin/simulation.cpp:modConfiguration:568(1) terminating closing gripper (limit) - nothing grasped\n"
     ]
    }
   ],
   "source": [
    "\n",
    "tau = .01\n",
    "\n",
    "gripping = False\n",
    "grasped = False\n",
    "\n",
    "\n",
    "for t in range(600):\n",
    "    time.sleep(0.005)\n",
    "    #grab sensor readings from the simulation\n",
    "    q = S.get_q()\n",
    "    if t%10 == 0:\n",
    "        [rgb, depth] = S.getImageAndDepth()  #we don't need images with 100Hz, rendering is slow\n",
    "        points = S.depthData2pointCloud(depth, fxfypxpy)\n",
    "        cameraFrame.setPointCloud(points, rgb)\n",
    "\n",
    "        #if len(rgb)>0: cv.imshow('OPENCV - rgb', rgb)\n",
    "        #if len(depth)>0: cv.imshow('OPENCV - depth', 0.5* depth)\n",
    "\n",
    "    \n",
    "    #TOTAL CHEAT: grab the true position from the RealWorld\n",
    "    objectPosition = ball.getPosition()\n",
    "\n",
    "    #set the model object to percept\n",
    "    obj.setPosition(objectPosition)\n",
    "\n",
    "    C.setJointState(q) #set your robot model to match the real q\n",
    "\n",
    "    diff_y,diff_J = C.evalFeature(ry.FS.positionDiff,[\"R_gripper\",config_obj_name])\n",
    "    vec_y,vec_J = C.evalFeature(ry.FS.scalarProductXZ,[\"R_gripper\",\"world\"])\n",
    "\n",
    "\n",
    "    #stack all tasks\n",
    "    y = np.block([1e1*diff_y, vec_y])\n",
    "    J = np.block([[1e1*diff_J],[vec_J]])\n",
    "\n",
    "    #[y,J] = C.evalFeature(ry.FS.poseDiff, [\"R_gripper\", \"marker\"])\n",
    "    vel = J.T @ np.linalg.inv(J@J.T + 1e-2*np.eye(y.shape[0])) @ (-y);\n",
    "    \n",
    "    #vel = J.T @ np.linalg.inv(J@J.T + 1e-2*np.eye(y.shape[0])) @ y\n",
    "\n",
    "\n",
    "\n",
    "    if(not gripping and (np.linalg.norm(diff_y) < .04)):\n",
    "        S.closeGripper(\"R_gripper\",width=0.05, speed = 1.)\n",
    "        gripping = True\n",
    "    \n",
    "\n",
    "    if S.getGripperIsGrasping(\"R_gripper\"): print(\"Trueeeeeee\")\n",
    "\n",
    "    if(gripping and S.getGripperIsGrasping(\"R_gripper\")):\n",
    "        print(\"GRASPED!******************************************************++++\")\n",
    "        break\n",
    "\n",
    "\n",
    "    #send velocity controls to the simulation\n",
    "    S.step(vel, tau, ry.ControlMode.velocity)\n",
    "\n"
   ]
  },
  {
   "cell_type": "code",
   "execution_count": 138,
   "metadata": {},
   "outputs": [
    {
     "name": "stdout",
     "output_type": "stream",
     "text": [
      "** KOMO::run solver:sparse collisions:1 x-dim:280 T:20 k:2 phases:1 stepsPerPhase:20 tau:0.15  #timeSlices:22 #totalDOFs:280 #frames:2156\n",
      "** optimization time:0.081035 (kin:0.001897 coll:0.063427 feat:0.006855 newton: 0.003429) setJointStateCount:15\n",
      "   sos:1.77954 ineq:0 eq:1.69337e-05\n"
     ]
    }
   ],
   "source": [
    "# calculate a lift of the ball\n",
    "\n",
    "# we want to optimize a single step (1 phase, 1 step/phase, duration=1, k_order=1)\n",
    "komo = C.komo_path(1.,20, 3., True)\n",
    "komo.addObjective([1.], ry.FS.position, [\"R_gripper\"], ry.OT.sos, [1e2],[-.0,.1,1.6])\n",
    "komo.addObjective([1.], ry.FS.qItself, [], ry.OT.eq, [1e2], order=1)\n",
    "komo.addObjective([1.], \n",
    "                    ry.FS.vectorY, \n",
    "                    [\"R_gripper\"], \n",
    "                    ry.OT.sos, \n",
    "                    [1e2],\n",
    "                    [0.,0.,-1]);\n",
    "komo.optimize()\n",
    "#komo.getReport()\n",
    "#V = komo.view_play(False, 1)\n"
   ]
  },
  {
   "cell_type": "code",
   "execution_count": 139,
   "metadata": {},
   "outputs": [
    {
     "name": "stdout",
     "output_type": "stream",
     "text": [
      "**ry-c++-log** /home/tim/git/robotics-course_tim/rai/rai/Kin/simulation.cpp:openGripper:248(1) gripper 'R_gripper' does not hold an object\n",
      "\n",
      "**ry-c++-log** /home/tim/git/robotics-course_tim/rai/rai/Kin/simulation.cpp:openGripper:264(1) initiating opening gripper R_gripper\n",
      "** INFO:/home/tim/git/robotics-course_tim/rai/rai/Kin/simulation.cpp:openGripper:248(1) gripper 'R_gripper' does not hold an object\n",
      "\n",
      "** INFO:/home/tim/git/robotics-course_tim/rai/rai/Kin/simulation.cpp:openGripper:264(1) initiating opening gripper R_gripper\n",
      "**ry-c++-log** /home/tim/git/robotics-course_tim/rai/rai/Kin/simulation.cpp:openGripper:248(1) gripper 'R_gripper' does not hold an object\n",
      "\n",
      "**ry-c++-log** /home/tim/git/robotics-course_tim/rai/rai/Kin/simulation.cpp:openGripper:264(1) initiating opening gripper R_gripper\n",
      "** INFO:/home/tim/git/robotics-course_tim/rai/rai/Kin/simulation.cpp:openGripper:248(1) gripper 'R_gripper' does not hold an object\n",
      "\n",
      "** INFO:/home/tim/git/robotics-course_tim/rai/rai/Kin/simulation.cpp:openGripper:264(1) initiating opening gripper R_gripper\n",
      "**ry-c++-log** /home/tim/git/robotics-course_tim/rai/rai/Kin/simulation.cpp:openGripper:248(1) gripper 'R_gripper' does not hold an object\n",
      "\n",
      "**ry-c++-log** /home/tim/git/robotics-course_tim/rai/rai/Kin/simulation.cpp:openGripper:264(1) initiating opening gripper R_gripper\n",
      "** INFO:/home/tim/git/robotics-course_tim/rai/rai/Kin/simulation.cpp:openGripper:248(1) gripper 'R_gripper' does not hold an object\n",
      "\n",
      "** INFO:/home/tim/git/robotics-course_tim/rai/rai/Kin/simulation.cpp:openGripper:264(1) initiating opening gripper R_gripper\n",
      "**ry-c++-log** /home/tim/git/robotics-course_tim/rai/rai/Kin/simulation.cpp:openGripper:248(1) gripper 'R_gripper' does not hold an object\n",
      "\n",
      "**ry-c++-log** /home/tim/git/robotics-course_tim/rai/rai/Kin/simulation.cpp:openGripper:264(1) initiating opening gripper R_gripper\n",
      "** INFO:/home/tim/git/robotics-course_tim/rai/rai/Kin/simulation.cpp:openGripper:248(1) gripper 'R_gripper' does not hold an object\n",
      "\n",
      "** INFO:/home/tim/git/robotics-course_tim/rai/rai/Kin/simulation.cpp:openGripper:264(1) initiating opening gripper R_gripper\n",
      "**ry-c++-log** /home/tim/git/robotics-course_tim/rai/rai/Kin/simulation.cpp:openGripper:248(1) gripper 'R_gripper' does not hold an object\n",
      "\n",
      "**ry-c++-log** /home/tim/git/robotics-course_tim/rai/rai/Kin/simulation.cpp:openGripper:264(1) initiating opening gripper R_gripper\n",
      "** INFO:/home/tim/git/robotics-course_tim/rai/rai/Kin/simulation.cpp:openGripper:248(1) gripper 'R_gripper' does not hold an object\n",
      "\n",
      "** INFO:/home/tim/git/robotics-course_tim/rai/rai/Kin/simulation.cpp:openGripper:264(1) initiating opening gripper R_gripper\n",
      "**ry-c++-log** /home/tim/git/robotics-course_tim/rai/rai/Kin/simulation.cpp:openGripper:248(1) gripper 'R_gripper' does not hold an object\n",
      "\n",
      "**ry-c++-log** /home/tim/git/robotics-course_tim/rai/rai/Kin/simulation.cpp:openGripper:264(1) initiating opening gripper R_gripper\n",
      "** INFO:/home/tim/git/robotics-course_tim/rai/rai/Kin/simulation.cpp:openGripper:248(1) gripper 'R_gripper' does not hold an object\n",
      "\n",
      "** INFO:/home/tim/git/robotics-course_tim/rai/rai/Kin/simulation.cpp:openGripper:264(1) initiating opening gripper R_gripper\n",
      "**ry-c++-log** /home/tim/git/robotics-course_tim/rai/rai/Kin/simulation.cpp:openGripper:248(1) gripper 'R_gripper' does not hold an object\n",
      "\n",
      "**ry-c++-log** /home/tim/git/robotics-course_tim/rai/rai/Kin/simulation.cpp:openGripper:264(1) initiating opening gripper R_gripper\n",
      "** INFO:/home/tim/git/robotics-course_tim/rai/rai/Kin/simulation.cpp:openGripper:248(1) gripper 'R_gripper' does not hold an object\n",
      "\n",
      "** INFO:/home/tim/git/robotics-course_tim/rai/rai/Kin/simulation.cpp:openGripper:264(1) initiating opening gripper R_gripper\n",
      "**ry-c++-log** /home/tim/git/robotics-course_tim/rai/rai/Kin/simulation.cpp:modConfiguration:633(1) terminating opening gripper R_gripper\n",
      "\n",
      "**ry-c++-log** /home/tim/git/robotics-course_tim/rai/rai/Kin/simulation.cpp:modConfiguration:633(1) terminating opening gripper R_gripper\n",
      "** INFO:/home/tim/git/robotics-course_tim/rai/rai/Kin/simulation.cpp:modConfiguration:633(1) terminating opening gripper R_gripper\n",
      "\n",
      "**ry-c++-log** /home/tim/git/robotics-course_tim/rai/rai/Kin/simulation.cpp:modConfiguration:633(1) terminating opening gripper R_gripper\n",
      "** INFO:/home/tim/git/robotics-course_tim/rai/rai/Kin/simulation.cpp:modConfiguration:633(1) terminating opening gripper R_gripper\n",
      "\n",
      "**ry-c++-log** /home/tim/git/robotics-course_tim/rai/rai/Kin/simulation.cpp:modConfiguration:633(1) terminating opening gripper R_gripper\n",
      "** INFO:/home/tim/git/robotics-course_tim/rai/rai/Kin/simulation.cpp:modConfiguration:633(1) terminating opening gripper R_gripper\n",
      "\n",
      "**ry-c++-log** /home/tim/git/robotics-course_tim/rai/rai/Kin/simulation.cpp:modConfiguration:633(1) terminating opening gripper R_gripper** INFO:/home/tim/git/robotics-course_tim/rai/rai/Kin/simulation.cpp:modConfiguration:633(1) terminating opening gripper R_gripper\n",
      "\n",
      "\n",
      "**ry-c++-log** /home/tim/git/robotics-course_tim/rai/rai/Kin/simulation.cpp:modConfiguration:633(1) terminating opening gripper R_gripper\n",
      "** INFO:/home/tim/git/robotics-course_tim/rai/rai/Kin/simulation.cpp:modConfiguration:633(1) terminating opening gripper R_gripper\n",
      "\n",
      "**ry-c++-log** /home/tim/git/robotics-course_tim/rai/rai/Kin/simulation.cpp:modConfiguration:633(1) terminating opening gripper R_gripper\n",
      "** INFO:/home/tim/git/robotics-course_tim/rai/rai/Kin/simulation.cpp:modConfiguration:633(1) terminating opening gripper R_gripper\n",
      "\n",
      "** INFO:/home/tim/git/robotics-course_tim/rai/rai/Kin/simulation.cpp:modConfiguration:633(1) terminating opening gripper R_gripper\n"
     ]
    }
   ],
   "source": [
    "\n",
    "# here loop for upwards move\n",
    "#input()\n",
    "for frame,tau in zip(komo.getPathFrames(),komo.getPathTau()):\n",
    "    time.sleep(tau)\n",
    "\n",
    "\n",
    "\n",
    "    [rgb, depth] = S.getImageAndDepth()  #we don't need images with 100Hz, rendering is slow\n",
    "    \n",
    "    C.setFrameState(frame)\n",
    "\n",
    "    q= C.getJointState()\n",
    "    \n",
    "    #send position to the simulation\n",
    "    S.step(q, tau, ry.ControlMode.position)\n",
    "\n",
    "tau = 0.01\n",
    "for t in range(100):\n",
    "    time.sleep(tau)\n",
    "\n",
    "    if t%10 == 0:\n",
    "        [rgb, depth] = S.getImageAndDepth()  #we don't need images with 100Hz, rendering is slow\n",
    "    \n",
    "        #if len(rgb)>0: cv.imshow('OPENCV - rgb', rgb)\n",
    "        #if len(depth)>0: cv.imshow('OPENCV - depth', 0.5* depth)\n",
    "    \n",
    "    if S.getGripperWidth(\"R_gripper\") < 0.02:\n",
    "        S.openGripper(\"R_gripper\",speed=3.)\n",
    "\n",
    "    S.step([], tau, ry.ControlMode.none)"
   ]
  }
 ],
 "metadata": {
  "interpreter": {
   "hash": "151e6003ef3448e9dad8ac998da13fd7f08f405b4e0b7cacbbaf31913d5c8a90"
  },
  "kernelspec": {
   "display_name": "Python 3.8.10 64-bit ('rai_env': venv)",
   "name": "python3"
  },
  "language_info": {
   "codemirror_mode": {
    "name": "ipython",
    "version": 3
   },
   "file_extension": ".py",
   "mimetype": "text/x-python",
   "name": "python",
   "nbconvert_exporter": "python",
   "pygments_lexer": "ipython3",
   "version": "3.8.10"
  }
 },
 "nbformat": 4,
 "nbformat_minor": 4
}
