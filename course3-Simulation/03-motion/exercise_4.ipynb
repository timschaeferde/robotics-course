{
 "cells": [
  {
   "cell_type": "markdown",
   "metadata": {},
   "source": [
    "## Using Komo for IK"
   ]
  },
  {
   "cell_type": "code",
   "execution_count": 1,
   "metadata": {},
   "outputs": [
    {
     "name": "stdout",
     "output_type": "stream",
     "text": [
      "**ry-c++-log** /home/tim/git/robotics-course_tim/rai/rai/ry/ry.cpp:init_LogToPythonConsole:34(0) initializing ry log callback\n",
      "\n"
     ]
    }
   ],
   "source": [
    "import sys\n",
    "sys.path.append('../../build')\n",
    "import numpy as np\n",
    "import libry as ry\n",
    "import time"
   ]
  },
  {
   "cell_type": "code",
   "execution_count": 2,
   "metadata": {},
   "outputs": [],
   "source": [
    "# Here we do not need a simulation world\n",
    "# adding a configuration world\n",
    "C = ry.Config()\n",
    "C.addFile(\"../../scenarios/pandasTable.g\")\n",
    "D = C.view()\n",
    "\n",
    "q_0 = C.getJointState()"
   ]
  },
  {
   "cell_type": "code",
   "execution_count": 3,
   "metadata": {},
   "outputs": [],
   "source": [
    "obj = C.addFrame(\"object\")\n",
    "obj.setPosition([.3,0,.73])\n",
    "#obj.setQuaternion([1,0,1,0])\n",
    "obj.setShape(ry.ST.ssBox, [.2,.05,0.04,0.01])\n",
    "obj.setColor([1,1,0])\n",
    "obj.setContact(1)\n"
   ]
  },
  {
   "cell_type": "code",
   "execution_count": 4,
   "metadata": {},
   "outputs": [],
   "source": [
    "mk_obj = C.addFrame(\"mk_obj\",\"object\")\n",
    "mk_obj.setShape(ry.ST.marker,[0.2])\n"
   ]
  },
  {
   "cell_type": "code",
   "execution_count": 5,
   "metadata": {},
   "outputs": [],
   "source": [
    "mk_gripper = C.addFrame(\"mk_gripper\",\"R_gripper\")\n",
    "mk_gripper.setShape(ry.ST.marker,[0.1])\n",
    "\n",
    "mk_real = C.addFrame(\"mk_real_gripper\")\n",
    "mk_real.setShape(ry.ST.marker,[.1])\n"
   ]
  },
  {
   "cell_type": "code",
   "execution_count": 6,
   "metadata": {},
   "outputs": [
    {
     "data": {
      "text/plain": [
       "<libry.CameraViewSensor at 0x7ffb3c0d67b0>"
      ]
     },
     "execution_count": 6,
     "metadata": {},
     "output_type": "execute_result"
    }
   ],
   "source": [
    "#Let's edit the real world before we create the simulation\n",
    "RealWorld = ry.Config()\n",
    "RealWorld.addFile(\"../../scenarios/ex02_4.g\")\n",
    "S = RealWorld.simulation(ry.SimulatorEngine.bullet, True)\n",
    "S.addSensor(\"camera\")"
   ]
  },
  {
   "cell_type": "code",
   "execution_count": 7,
   "metadata": {},
   "outputs": [],
   "source": [
    "#-- the following is the simulation loop\n",
    "tau = .01\n",
    "\n",
    "for t in range(200):\n",
    "    time.sleep(0.01)\n",
    "    q = S.get_q()\n",
    "    #some good old fashioned IK\n",
    "    C.setJointState(q) #set your robot model to match the real q\n",
    "    C.setFrameState(RealWorld.getFrameState(\"obj1\"),[\"object\"])\n",
    "    #send velocity controls to the simulation\n",
    "    S.step(np.zeros_like(q), tau, ry.ControlMode.velocity)"
   ]
  },
  {
   "cell_type": "code",
   "execution_count": 8,
   "metadata": {},
   "outputs": [
    {
     "name": "stdout",
     "output_type": "stream",
     "text": [
      "30 (30, 101, 7)\n"
     ]
    }
   ],
   "source": [
    "\n",
    "\n",
    "# we want to optimize a single step (1 phase, 1 step/phase, duration=1, k_order=1)\n",
    "komo = C.komo_path(1.,30, 5., True)\n",
    "komo.addObjective([1.], ry.FS.positionDiff, [\"R_gripper\", \"object\"], ry.OT.sos, [1e2])\n",
    "komo.addObjective([1.], ry.FS.qItself, [], ry.OT.eq, [1e2], order=1)\n",
    "komo.addObjective([.7,1.], ry.FS.position, [\"R_gripper\"], ry.OT.eq, [1e2],[-.0,-.1,-.0], order=2)\n",
    "komo.addObjective([], ry.FS.distance, [\"R_gripper\", \"object\"], ry.OT.ineq, [1e2],[-.0])\n",
    "komo.addObjective([1.], \n",
    "                ry.FS.scalarProductXX, \n",
    "                [\"object\",\"R_gripper\"], \n",
    "                ry.OT.eq, \n",
    "                [1e2],\n",
    "                [0]);\n",
    "komo.addObjective([1.], \n",
    "                ry.FS.scalarProductZZ, \n",
    "                [\"object\",\"R_gripper\"], \n",
    "                ry.OT.eq, \n",
    "                [1e2],\n",
    "                [1]);\n",
    "print(komo.getT(),komo.getPathFrames().shape)\n",
    "\n",
    "komo.optimize()\n",
    "#komo.getReport()\n",
    "#V = komo.view_play(False, 1)\n",
    "\n"
   ]
  },
  {
   "cell_type": "code",
   "execution_count": 13,
   "metadata": {},
   "outputs": [
    {
     "name": "stdout",
     "output_type": "stream",
     "text": [
      "[-0.17737767 -0.38415171  0.87845634 -0.08155722 -0.50500443  0.32426706\n",
      " -0.79571969]\n"
     ]
    },
    {
     "ename": "AttributeError",
     "evalue": "'libry.Config' object has no attribute 'getPosition'",
     "output_type": "error",
     "traceback": [
      "\u001b[0;31m---------------------------------------------------------------------------\u001b[0m",
      "\u001b[0;31mAttributeError\u001b[0m                            Traceback (most recent call last)",
      "\u001b[0;32m<ipython-input-13-0760b9c74a2a>\u001b[0m in \u001b[0;36m<module>\u001b[0;34m\u001b[0m\n\u001b[1;32m      2\u001b[0m     \u001b[0mtime\u001b[0m\u001b[0;34m.\u001b[0m\u001b[0msleep\u001b[0m\u001b[0;34m(\u001b[0m\u001b[0mtau\u001b[0m\u001b[0;34m)\u001b[0m\u001b[0;34m\u001b[0m\u001b[0;34m\u001b[0m\u001b[0m\n\u001b[1;32m      3\u001b[0m     \u001b[0mprint\u001b[0m\u001b[0;34m(\u001b[0m\u001b[0mRealWorld\u001b[0m\u001b[0;34m.\u001b[0m\u001b[0mgetFrameState\u001b[0m\u001b[0;34m(\u001b[0m\u001b[0;34m\"R_gripper\"\u001b[0m\u001b[0;34m)\u001b[0m\u001b[0;34m[\u001b[0m\u001b[0;34m:\u001b[0m\u001b[0;34m]\u001b[0m\u001b[0;34m)\u001b[0m\u001b[0;34m\u001b[0m\u001b[0;34m\u001b[0m\u001b[0m\n\u001b[0;32m----> 4\u001b[0;31m     \u001b[0mmk_real\u001b[0m\u001b[0;34m.\u001b[0m\u001b[0msetPosition\u001b[0m\u001b[0;34m(\u001b[0m\u001b[0mRealWorld\u001b[0m\u001b[0;34m.\u001b[0m\u001b[0mgetPosition\u001b[0m\u001b[0;34m(\u001b[0m\u001b[0;34m\"R_gripper\"\u001b[0m\u001b[0;34m)\u001b[0m\u001b[0;34m[\u001b[0m\u001b[0;34m:\u001b[0m\u001b[0;36m3\u001b[0m\u001b[0;34m]\u001b[0m\u001b[0;34m)\u001b[0m\u001b[0;34m\u001b[0m\u001b[0;34m\u001b[0m\u001b[0m\n\u001b[0m\u001b[1;32m      5\u001b[0m     \u001b[0mmk_real\u001b[0m\u001b[0;34m.\u001b[0m\u001b[0msetQuaternion\u001b[0m\u001b[0;34m(\u001b[0m\u001b[0mRealWorld\u001b[0m\u001b[0;34m.\u001b[0m\u001b[0mgetFrameState\u001b[0m\u001b[0;34m(\u001b[0m\u001b[0;34m\"R_gripper\"\u001b[0m\u001b[0;34m)\u001b[0m\u001b[0;34m[\u001b[0m\u001b[0;36m3\u001b[0m\u001b[0;34m:\u001b[0m\u001b[0;34m]\u001b[0m\u001b[0;34m)\u001b[0m\u001b[0;34m\u001b[0m\u001b[0;34m\u001b[0m\u001b[0m\n\u001b[1;32m      6\u001b[0m     \u001b[0;31m#some good old fashioned IK\u001b[0m\u001b[0;34m\u001b[0m\u001b[0;34m\u001b[0m\u001b[0;34m\u001b[0m\u001b[0m\n",
      "\u001b[0;31mAttributeError\u001b[0m: 'libry.Config' object has no attribute 'getPosition'"
     ]
    }
   ],
   "source": [
    "\n",
    "\n",
    "for frame,tau in zip(komo.getPathFrames(),komo.getPathTau()):\n",
    "    time.sleep(tau)\n",
    "    print(RealWorld.getFrameState(\"R_gripper\")[:])\n",
    "    mk_real.setPosition(RealWorld.getFrameState(\"R_gripper\")[:3])\n",
    "    mk_real.setQuaternion(RealWorld.getFrameState(\"R_gripper\")[3:])\n",
    "    #some good old fashioned IK\n",
    "    C.setFrameState(frame)\n",
    "\n",
    "    [y,J] = C.evalFeature(ry.FS.poseDiff, [\"R_gripper\", \"mk_real_gripper\"])\n",
    "\n",
    "    vel = J.T @ np.linalg.inv(J@J.T + 1e-2*np.eye(y.shape[0])) @ (-y);\n",
    "\n",
    "    #send velocity controls to the simulation\n",
    "    S.step(vel, tau, ry.ControlMode.velocity)"
   ]
  },
  {
   "cell_type": "code",
   "execution_count": 14,
   "metadata": {},
   "outputs": [
    {
     "data": {
      "text/plain": [
       "['world',\n",
       " 'table',\n",
       " 'L_panda_link0',\n",
       " 'L_panda_link0_1',\n",
       " 'L_panda_link0>panda_joint1',\n",
       " 'L_panda_joint1',\n",
       " 'L_panda_link1_1',\n",
       " 'L_panda_link1>panda_joint2',\n",
       " 'L_panda_joint2',\n",
       " 'L_panda_link2_1',\n",
       " 'L_panda_link2>panda_joint3',\n",
       " 'L_panda_joint3',\n",
       " 'L_panda_link3_1',\n",
       " 'L_panda_link3>panda_joint4',\n",
       " 'L_panda_joint4',\n",
       " 'L_panda_link4_1',\n",
       " 'L_panda_link4>panda_joint5',\n",
       " 'L_panda_joint5',\n",
       " 'L_panda_link5_1',\n",
       " 'L_panda_link5>panda_joint6',\n",
       " 'L_panda_joint6',\n",
       " 'L_panda_link6_1',\n",
       " 'L_panda_link6>panda_joint7',\n",
       " 'L_panda_joint7',\n",
       " 'L_panda_link7_1',\n",
       " 'L_panda_link7>panda_joint8',\n",
       " 'L_panda_joint8',\n",
       " 'L_panda_link8>panda_hand_joint',\n",
       " 'L_panda_hand_joint',\n",
       " 'L_panda_hand_1',\n",
       " 'L_panda_hand>panda_finger_joint1',\n",
       " 'L_panda_hand>panda_finger_joint2',\n",
       " 'L_panda_finger_joint1',\n",
       " 'L_panda_finger_joint2',\n",
       " 'L_panda_leftfinger_1',\n",
       " 'L_panda_rightfinger_1',\n",
       " 'L_panda_coll0',\n",
       " 'L_panda_coll0b',\n",
       " 'L_panda_coll1',\n",
       " 'L_panda_coll3',\n",
       " 'L_panda_coll5',\n",
       " 'L_panda_coll2',\n",
       " 'L_panda_coll4',\n",
       " 'L_panda_coll6',\n",
       " 'L_panda_coll7',\n",
       " 'L_gripper',\n",
       " 'L_palm',\n",
       " 'L_finger1',\n",
       " 'L_finger2',\n",
       " 'R_panda_link0',\n",
       " 'R_panda_link0_1',\n",
       " 'R_panda_link0>panda_joint1',\n",
       " 'R_panda_joint1',\n",
       " 'R_panda_link1_1',\n",
       " 'R_panda_link1>panda_joint2',\n",
       " 'R_panda_joint2',\n",
       " 'R_panda_link2_1',\n",
       " 'R_panda_link2>panda_joint3',\n",
       " 'R_panda_joint3',\n",
       " 'R_panda_link3_1',\n",
       " 'R_panda_link3>panda_joint4',\n",
       " 'R_panda_joint4',\n",
       " 'R_panda_link4_1',\n",
       " 'R_panda_link4>panda_joint5',\n",
       " 'R_panda_joint5',\n",
       " 'R_panda_link5_1',\n",
       " 'R_panda_link5>panda_joint6',\n",
       " 'R_panda_joint6',\n",
       " 'R_panda_link6_1',\n",
       " 'R_panda_link6>panda_joint7',\n",
       " 'R_panda_joint7',\n",
       " 'R_panda_link7_1',\n",
       " 'R_panda_link7>panda_joint8',\n",
       " 'R_panda_joint8',\n",
       " 'R_panda_link8>panda_hand_joint',\n",
       " 'R_panda_hand_joint',\n",
       " 'R_panda_hand_1',\n",
       " 'R_panda_hand>panda_finger_joint1',\n",
       " 'R_panda_hand>panda_finger_joint2',\n",
       " 'R_panda_finger_joint1',\n",
       " 'R_panda_finger_joint2',\n",
       " 'R_panda_leftfinger_1',\n",
       " 'R_panda_rightfinger_1',\n",
       " 'R_panda_coll0',\n",
       " 'R_panda_coll0b',\n",
       " 'R_panda_coll1',\n",
       " 'R_panda_coll3',\n",
       " 'R_panda_coll5',\n",
       " 'R_panda_coll2',\n",
       " 'R_panda_coll4',\n",
       " 'R_panda_coll6',\n",
       " 'R_panda_coll7',\n",
       " 'R_gripper',\n",
       " 'R_palm',\n",
       " 'R_finger1',\n",
       " 'R_finger2',\n",
       " 'camera',\n",
       " 'object',\n",
       " 'mk_obj',\n",
       " 'mk_gripper',\n",
       " 'mk_real_gripper']"
      ]
     },
     "execution_count": 14,
     "metadata": {},
     "output_type": "execute_result"
    }
   ],
   "source": [
    "C.getFrameNames()"
   ]
  }
 ],
 "metadata": {
  "interpreter": {
   "hash": "916dbcbb3f70747c44a77c7bcd40155683ae19c65e1c03b4aa3499c5328201f1"
  },
  "kernelspec": {
   "display_name": "Python 3.8.10 64-bit",
   "name": "python3"
  },
  "language_info": {
   "codemirror_mode": {
    "name": "ipython",
    "version": 3
   },
   "file_extension": ".py",
   "mimetype": "text/x-python",
   "name": "python",
   "nbconvert_exporter": "python",
   "pygments_lexer": "ipython3",
   "version": "3.8.10"
  }
 },
 "nbformat": 4,
 "nbformat_minor": 4
}
