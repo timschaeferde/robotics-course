{
 "cells": [
  {
   "cell_type": "markdown",
   "metadata": {},
   "source": [
    "## Using Komo for IK"
   ]
  },
  {
   "cell_type": "code",
   "execution_count": 19,
   "metadata": {},
   "outputs": [],
   "source": [
    "import sys\n",
    "sys.path.append('../../build')\n",
    "import numpy as np\n",
    "import libry as ry\n",
    "import time"
   ]
  },
  {
   "cell_type": "code",
   "execution_count": 20,
   "metadata": {},
   "outputs": [],
   "source": [
    "# Here we do not need a simulation world\n",
    "# adding a configuration world\n",
    "C = ry.Config()\n",
    "C.addFile(\"../../scenarios/pandasTable.g\")\n",
    "D = C.view()\n",
    "\n",
    "q_0 = C.getJointState()"
   ]
  },
  {
   "cell_type": "code",
   "execution_count": 21,
   "metadata": {},
   "outputs": [],
   "source": [
    "obj = C.addFrame(\"object\")\n",
    "obj.setPosition([.3,0,.73])\n",
    "#obj.setQuaternion([1,0,1,0])\n",
    "obj.setShape(ry.ST.ssBox, [.2,.05,0.04,0.01])\n",
    "obj.setColor([1,1,0])\n",
    "obj.setContact(1)\n"
   ]
  },
  {
   "cell_type": "code",
   "execution_count": 22,
   "metadata": {},
   "outputs": [],
   "source": [
    "mk_obj = C.addFrame(\"mk_obj\",\"object\")\n",
    "mk_obj.setShape(ry.ST.marker,[0.2])\n"
   ]
  },
  {
   "cell_type": "code",
   "execution_count": 23,
   "metadata": {},
   "outputs": [],
   "source": [
    "mk_gripper = C.addFrame(\"mk_gripper\",\"R_gripper\")\n",
    "mk_gripper.setShape(ry.ST.marker,[0.1])\n",
    "\n",
    "mk_real = C.addFrame(\"mk_real_gripper\")\n",
    "mk_real.setShape(ry.ST.marker,[.1])\n"
   ]
  },
  {
   "cell_type": "code",
   "execution_count": 24,
   "metadata": {},
   "outputs": [
    {
     "data": {
      "text/plain": [
       "<libry.CameraViewSensor at 0x7f54b814d0b0>"
      ]
     },
     "execution_count": 24,
     "metadata": {},
     "output_type": "execute_result"
    }
   ],
   "source": [
    "#Let's edit the real world before we create the simulation\n",
    "RealWorld = ry.Config()\n",
    "RealWorld.addFile(\"../../scenarios/ex02_4.g\")\n",
    "S = RealWorld.simulation(ry.SimulatorEngine.bullet, True)\n",
    "S.addSensor(\"camera\")"
   ]
  },
  {
   "cell_type": "code",
   "execution_count": 25,
   "metadata": {},
   "outputs": [],
   "source": [
    "#-- the following is the simulation loop\n",
    "tau = .01\n",
    "\n",
    "for t in range(200):\n",
    "    time.sleep(0.01)\n",
    "    q = S.get_q()\n",
    "    #some good old fashioned IK\n",
    "    C.setJointState(q) #set your robot model to match the real q\n",
    "    C.setFrameState(RealWorld.getFrameState(\"obj1\"),[\"object\"])\n",
    "    #send velocity controls to the simulation\n",
    "    S.step(np.zeros_like(q), tau, ry.ControlMode.velocity)"
   ]
  },
  {
   "cell_type": "code",
   "execution_count": 26,
   "metadata": {},
   "outputs": [
    {
     "name": "stdout",
     "output_type": "stream",
     "text": [
      "30 (30, 101, 7)\n"
     ]
    }
   ],
   "source": [
    "\n",
    "\n",
    "# we want to optimize a single step (1 phase, 1 step/phase, duration=1, k_order=1)\n",
    "komo = C.komo_path(1.,30, 5., True)\n",
    "komo.addObjective([1.], ry.FS.positionDiff, [\"R_gripper\", \"object\"], ry.OT.sos, [1e2])\n",
    "komo.addObjective([1.], ry.FS.qItself, [], ry.OT.eq, [1e2], order=1)\n",
    "komo.addObjective([.7,1.], ry.FS.position, [\"R_gripper\"], ry.OT.eq, [1e2],[-.0,-.1,-.0], order=2)\n",
    "komo.addObjective([], ry.FS.distance, [\"R_gripper\", \"object\"], ry.OT.ineq, [1e2],[-.0])\n",
    "komo.addObjective([1.], \n",
    "                ry.FS.scalarProductXX, \n",
    "                [\"object\",\"R_gripper\"], \n",
    "                ry.OT.eq, \n",
    "                [1e2],\n",
    "                [0]);\n",
    "komo.addObjective([1.], \n",
    "                ry.FS.scalarProductZZ, \n",
    "                [\"object\",\"R_gripper\"], \n",
    "                ry.OT.eq, \n",
    "                [1e2],\n",
    "                [1]);\n",
    "print(komo.getT(),komo.getPathFrames().shape)\n",
    "\n",
    "komo.optimize()\n",
    "#komo.getReport()\n",
    "#V = komo.view_play(False, 1)\n",
    "\n"
   ]
  },
  {
   "cell_type": "code",
   "execution_count": null,
   "metadata": {},
   "outputs": [],
   "source": []
  },
  {
   "cell_type": "code",
   "execution_count": 27,
   "metadata": {},
   "outputs": [],
   "source": [
    "\n",
    "\n",
    "for frame,tau in zip(komo.getPathFrames(),komo.getPathTau()):\n",
    "    time.sleep(tau)\n",
    "    \n",
    "    C.setFrameState(frame)\n",
    "\n",
    "    q= C.getJointState()\n",
    "\n",
    "    #send position to the simulation\n",
    "    S.step(q, tau, ry.ControlMode.position)"
   ]
  }
 ],
 "metadata": {
  "interpreter": {
   "hash": "916dbcbb3f70747c44a77c7bcd40155683ae19c65e1c03b4aa3499c5328201f1"
  },
  "kernelspec": {
   "display_name": "Python 3.8.10 64-bit",
   "name": "python3"
  },
  "language_info": {
   "codemirror_mode": {
    "name": "ipython",
    "version": 3
   },
   "file_extension": ".py",
   "mimetype": "text/x-python",
   "name": "python",
   "nbconvert_exporter": "python",
   "pygments_lexer": "ipython3",
   "version": "3.8.10"
  }
 },
 "nbformat": 4,
 "nbformat_minor": 4
}
