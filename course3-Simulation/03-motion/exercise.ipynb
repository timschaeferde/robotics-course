{
 "cells": [
  {
   "cell_type": "markdown",
   "metadata": {},
   "source": [
    "## Using Komo for IK"
   ]
  },
  {
   "cell_type": "code",
   "execution_count": 29,
   "metadata": {},
   "outputs": [],
   "source": [
    "import sys\n",
    "sys.path.append('../../build')\n",
    "import numpy as np\n",
    "import libry as ry"
   ]
  },
  {
   "cell_type": "code",
   "execution_count": 30,
   "metadata": {},
   "outputs": [],
   "source": [
    "# Here we do not need a simulation world\n",
    "# adding a configuration world\n",
    "C = ry.Config()\n",
    "C.addFile(\"../../scenarios/pandasTable.g\")\n",
    "D = C.view()\n",
    "\n",
    "q_0 = C.getJointState()"
   ]
  },
  {
   "cell_type": "code",
   "execution_count": 31,
   "metadata": {},
   "outputs": [],
   "source": [
    "obj = C.addFrame(\"object\")\n",
    "obj.setPosition([1., 0., 1.5])\n",
    "obj.setQuaternion([1,0,1,0])\n",
    "obj.setShape(ry.ST.capsule, [.2,.02])\n",
    "obj.setColor([1,0,1])\n",
    "obj.setContact(1)\n"
   ]
  },
  {
   "cell_type": "code",
   "execution_count": 32,
   "metadata": {},
   "outputs": [],
   "source": [
    "mk_obj = C.addFrame(\"mk_obj\",\"object\")\n",
    "mk_obj.setShape(ry.ST.marker,[0.2])\n"
   ]
  },
  {
   "cell_type": "code",
   "execution_count": 33,
   "metadata": {},
   "outputs": [],
   "source": [
    "mk_gripper = C.addFrame(\"mk_gripper\",\"R_gripper\")\n",
    "mk_gripper.setShape(ry.ST.marker,[0.1])\n"
   ]
  },
  {
   "cell_type": "code",
   "execution_count": null,
   "metadata": {},
   "outputs": [],
   "source": []
  },
  {
   "cell_type": "code",
   "execution_count": 34,
   "metadata": {},
   "outputs": [],
   "source": [
    "obj.setPosition([0, 0.1, 1.5])"
   ]
  },
  {
   "cell_type": "markdown",
   "metadata": {},
   "source": [
    "# a)"
   ]
  },
  {
   "cell_type": "code",
   "execution_count": 72,
   "metadata": {},
   "outputs": [],
   "source": [
    "\n",
    "# move to inital pose\n",
    "C.setJointState(q_0)\n",
    "\n",
    "\n",
    "# Move object and reoptimize\n",
    "\n",
    "# move object\n",
    "obj.setPosition([.2,.2,1.5])\n",
    "\n",
    "# # copy C into the IK's internal configuration(s)\n",
    "# IK.setConfigurations(C)\n",
    "\n",
    "# redefine the IK problem\n",
    "IK = C.komo_IK(False)\n",
    "IK.add_qControlObjective([], 1, 1.)\n",
    "IK.addObjective([1.], \n",
    "                ry.FS.positionDiff, \n",
    "                [\"object\", \"R_gripper\"], \n",
    "                ry.OT.eq, \n",
    "                [1e2],\n",
    "                [0.,0.,0]);\n",
    "# reoptimize\n",
    "IK.optimize(0.) # 0 indicates: no adding of noise for a random restart\n",
    "#print(IK.getReport())\n",
    "\n",
    "# grab result\n",
    "C.setFrameState( IK.getFrameState(0) )\n"
   ]
  },
  {
   "cell_type": "code",
   "execution_count": 35,
   "metadata": {},
   "outputs": [],
   "source": [
    "\n",
    "# move to inital pose\n",
    "C.setJointState(q_0)\n",
    "\n",
    "# # copy C into the IK's internal configuration(s)\n",
    "# IK.setConfigurations(C)\n",
    "\n",
    "# redefine the IK problem\n",
    "IK = C.komo_IK(False)\n",
    "IK.add_qControlObjective([], 1, 1.)\n",
    "IK.addObjective([1.], \n",
    "                ry.FS.positionDiff, \n",
    "                [\"L_gripper\", \"R_gripper\"], \n",
    "                ry.OT.eq, \n",
    "                [1e2],\n",
    "                [0.,0.,0]);\n",
    "# reoptimize\n",
    "IK.optimize(0.) # 0 indicates: no adding of noise for a random restart\n",
    "#print(IK.getReport())\n",
    "\n",
    "# grab result\n",
    "C.setFrameState( IK.getFrameState(0) )"
   ]
  },
  {
   "cell_type": "markdown",
   "metadata": {},
   "source": [
    "# b)"
   ]
  },
  {
   "cell_type": "code",
   "execution_count": 74,
   "metadata": {},
   "outputs": [],
   "source": [
    "\n",
    "# move to inital pose\n",
    "C.setJointState(q_0)\n",
    "\n",
    "\n",
    "# Move object and reoptimize\n",
    "\n",
    "# move object\n",
    "obj.setPosition([.2,.2,1.5])\n",
    "\n",
    "# # copy C into the IK's internal configuration(s)\n",
    "# IK.setConfigurations(C)\n",
    "\n",
    "# redefine the IK problem\n",
    "IK = C.komo_IK(False)\n",
    "IK.add_qControlObjective([], 1, 1.)\n",
    "IK.addObjective([1.], \n",
    "                ry.FS.positionDiff, \n",
    "                [\"object\", \"R_gripper\"], \n",
    "                ry.OT.eq, \n",
    "                [1e2],\n",
    "                [0.,0.,0]);\n",
    "IK.addObjective([1.], \n",
    "                ry.FS.quaternionDiff, \n",
    "                [\"object\", \"R_gripper\"], \n",
    "                ry.OT.eq, \n",
    "                [1e2],\n",
    "                [1.,0.,1,0]);\n",
    "# reoptimize\n",
    "IK.optimize(0.) # 0 indicates: no adding of noise for a random restart\n",
    "#print(IK.getReport())\n",
    "\n",
    "# grab result\n",
    "C.setFrameState( IK.getFrameState(0) )"
   ]
  },
  {
   "cell_type": "markdown",
   "metadata": {},
   "source": [
    "# c)\n"
   ]
  },
  {
   "cell_type": "code",
   "execution_count": 75,
   "metadata": {},
   "outputs": [],
   "source": [
    "\n",
    "# move to inital pose\n",
    "C.setJointState(q_0)\n",
    "\n",
    "\n",
    "# Move object and reoptimize\n",
    "\n",
    "# move object\n",
    "obj.setPosition([.2,.2,1.5])\n",
    "\n",
    "# # copy C into the IK's internal configuration(s)\n",
    "# IK.setConfigurations(C)\n",
    "\n",
    "# redefine the IK problem\n",
    "IK = C.komo_IK(False)\n",
    "IK.add_qControlObjective([], 1, 1.)\n",
    "IK.addObjective([1.], \n",
    "                ry.FS.positionDiff, \n",
    "                [\"object\", \"R_gripper\"], \n",
    "                ry.OT.eq, \n",
    "                [1e2],\n",
    "                [0.,0.,0]);\n",
    "IK.addObjective([1.], \n",
    "                ry.FS.scalarProductXX, \n",
    "                [\"object\", \"R_gripper\"], \n",
    "                ry.OT.eq, \n",
    "                [1e2],\n",
    "                [1]);\n",
    "IK.addObjective([1.], \n",
    "                ry.FS.scalarProductYY, \n",
    "                [\"object\", \"R_gripper\"], \n",
    "                ry.OT.eq, \n",
    "                [1e2],\n",
    "                [0]);\n",
    "# reoptimize\n",
    "IK.optimize(0.) # 0 indicates: no adding of noise for a random restart\n",
    "#print(IK.getReport())\n",
    "\n",
    "# grab result\n",
    "C.setFrameState( IK.getFrameState(0) )"
   ]
  },
  {
   "cell_type": "markdown",
   "metadata": {},
   "source": [
    "# d)"
   ]
  },
  {
   "cell_type": "code",
   "execution_count": 81,
   "metadata": {},
   "outputs": [],
   "source": [
    "\n",
    "# move to inital pose\n",
    "C.setJointState(q_0)\n",
    "\n",
    "\n",
    "# Move object and reoptimize\n",
    "\n",
    "# move object\n",
    "obj.setPosition([.2,.2,1.5])\n",
    "\n",
    "# # copy C into the IK's internal configuration(s)\n",
    "# IK.setConfigurations(C)\n",
    "\n",
    "#Pre grasp\n",
    "\n",
    "\n",
    "# redefine the IK problem\n",
    "IK = C.komo_IK(False)\n",
    "IK.add_qControlObjective([], 1, 1.)\n",
    "IK.addObjective([1.], \n",
    "                ry.FS.positionRel, \n",
    "                [\"object\", \"R_gripper\"], \n",
    "                ry.OT.eq, \n",
    "                [1e2],\n",
    "                [0.,0.,-.1]);\n",
    "IK.addObjective([1.], \n",
    "                ry.FS.scalarProductXX, \n",
    "                [\"object\",\"R_gripper\"], \n",
    "                ry.OT.eq, \n",
    "                [1e2],\n",
    "                [1]);\n",
    "IK.addObjective([1.], \n",
    "                ry.FS.scalarProductZZ, \n",
    "                [\"object\",\"R_gripper\"], \n",
    "                ry.OT.eq, \n",
    "                [1e2],\n",
    "                [0]);\n",
    "\n",
    "# reoptimize\n",
    "IK.optimize(0.) # 0 indicates: no adding of noise for a random restart\n",
    "#print(IK.getReport())\n",
    "\n",
    "# grab result\n",
    "C.setFrameState( IK.getFrameState(0) )\n"
   ]
  },
  {
   "cell_type": "code",
   "execution_count": 80,
   "metadata": {},
   "outputs": [],
   "source": [
    "\n",
    "#Final Grasp\n",
    "\n",
    "# redefine the IK problem\n",
    "IK = C.komo_IK(False)\n",
    "IK.add_qControlObjective([], 1, 1.)\n",
    "IK.addObjective([1.], \n",
    "                ry.FS.positionDiff, \n",
    "                [\"object\", \"R_gripper\"], \n",
    "                ry.OT.eq, \n",
    "                [1e2],\n",
    "                [0.,0.,0]);\n",
    "IK.addObjective([1.], \n",
    "                ry.FS.scalarProductXX, \n",
    "                [\"object\",\"R_gripper\"], \n",
    "                ry.OT.eq, \n",
    "                [1e2],\n",
    "                [1]);\n",
    "IK.addObjective([1.], \n",
    "                ry.FS.scalarProductZZ, \n",
    "                [\"object\",\"R_gripper\"], \n",
    "                ry.OT.eq, \n",
    "                [1e2],\n",
    "                [0]);\n",
    "\n",
    "\n",
    "\n",
    "# reoptimize\n",
    "IK.optimize(0.) # 0 indicates: no adding of noise for a random restart\n",
    "#print(IK.getReport())\n",
    "\n",
    "# grab result\n",
    "C.setFrameState( IK.getFrameState(0) )"
   ]
  },
  {
   "cell_type": "markdown",
   "metadata": {},
   "source": [
    "## Path Optimization"
   ]
  },
  {
   "cell_type": "code",
   "execution_count": null,
   "metadata": {},
   "outputs": [],
   "source": [
    "C.setJointState(q_0)\n",
    "\n",
    "\n",
    "# redefine the IK problem\n",
    "IK = C.komo_IK(False)\n",
    "IK.add_qControlObjective([], 1, 1.)\n",
    "IK.addObjective([1.], \n",
    "                ry.FS.position, \n",
    "                [\"R_gripper\"], \n",
    "                ry.OT.eq, \n",
    "                [1e2],\n",
    "                [-.1,0.,1.5]);\n",
    "\n",
    "# reoptimize\n",
    "IK.optimize(0.) # 0 indicates: no adding of noise for a random restart\n",
    "#print(IK.getReport())\n",
    "\n",
    "# grab result\n",
    "C.setFrameState( IK.getFrameState(0) )"
   ]
  },
  {
   "cell_type": "code",
   "execution_count": null,
   "metadata": {},
   "outputs": [],
   "source": [
    "\n",
    "\n",
    "# move to inital pose\n",
    "\n",
    "obj.setPosition([.8,.2,1.5])\n",
    "\n",
    "# we want to optimize a single step (1 phase, 1 step/phase, duration=1, k_order=1)\n",
    "komo = C.komo_path(1.,10, 5., True)\n",
    "komo.addObjective([1.], ry.FS.positionDiff, [\"R_gripper\", \"object\"], ry.OT.sos, [1e2])\n",
    "komo.addObjective([1.], ry.FS.qItself, [], ry.OT.eq, [1e2], order=1)\n",
    "komo.addObjective([], ry.FS.distance, [\"R_gripper\", \"object\"], ry.OT.ineq, [1e2])\n",
    "\n",
    "komo.optimize()\n",
    "#komo.getReport()\n",
    "\n",
    "V = komo.view_play(False, 0.1)"
   ]
  },
  {
   "cell_type": "code",
   "execution_count": null,
   "metadata": {},
   "outputs": [],
   "source": [
    "\n",
    "\n",
    "# move to inital pose\n",
    "\n",
    "obj.setPosition([.8,.2,1.5])\n",
    "\n",
    "# we want to optimize a single step (1 phase, 1 step/phase, duration=1, k_order=1)\n",
    "komo = C.komo_path(1.,10, 5., True)\n",
    "komo.addObjective([1.], ry.FS.positionDiff, [\"R_gripper\", \"object\"], ry.OT.sos, [1e2])\n",
    "#komo.addObjective([1.], ry.FS.qItself, [], ry.OT.eq, [1e2], order=1)\n",
    "komo.addObjective([], ry.FS.distance, [\"R_gripper\", \"object\"], ry.OT.ineq, [1e2])\n",
    "\n",
    "komo.optimize()\n",
    "#komo.getReport()\n",
    "V = komo.view_play(False, 0.1)"
   ]
  },
  {
   "cell_type": "markdown",
   "metadata": {},
   "source": [
    "# 3"
   ]
  },
  {
   "cell_type": "code",
   "execution_count": 36,
   "metadata": {},
   "outputs": [],
   "source": [
    "\n",
    "\n",
    "# move to inital pose\n",
    "\n",
    "obj.setPosition([.8,.2,1.5])\n",
    "\n",
    "# we want to optimize a single step (1 phase, 1 step/phase, duration=1, k_order=1)\n",
    "komo = C.komo_path(1.,10, 5., True)\n",
    "komo.addObjective([1.], ry.FS.positionDiff, [\"R_gripper\", \"object\"], ry.OT.sos, [1e2])\n",
    "komo.addObjective([1.], ry.FS.qItself, [], ry.OT.eq, [1e2], order=1)\n",
    "komo.addObjective([.7,1.], ry.FS.position, [\"R_gripper\"], ry.OT.eq, [1e2],[0,0,.1], order=2)\n",
    "komo.addObjective([], ry.FS.distance, [\"R_gripper\", \"object\"], ry.OT.ineq, [1e2])\n",
    "\n",
    "komo.optimize()\n",
    "#komo.getReport()\n",
    "V = komo.view_play(False, 0.1)"
   ]
  },
  {
   "cell_type": "code",
   "execution_count": 37,
   "metadata": {},
   "outputs": [],
   "source": [
    "\n",
    "\n",
    "# move to inital pose\n",
    "\n",
    "obj.setPosition([.8,.2,1.5])\n",
    "\n",
    "# we want to optimize a single step (1 phase, 1 step/phase, duration=1, k_order=1)\n",
    "komo = C.komo_path(1.,30, 5., True)\n",
    "komo.addObjective([1.], ry.FS.positionDiff, [\"R_gripper\", \"object\"], ry.OT.sos, [1e2])\n",
    "komo.addObjective([1.], ry.FS.qItself, [], ry.OT.eq, [1e2], order=1)\n",
    "komo.addObjective([.8,1.], ry.FS.position, [\"R_gripper\"], ry.OT.eq, [1e2],[0,-.1,.0], order=2)\n",
    "komo.addObjective([], ry.FS.distance, [\"R_gripper\", \"object\"], ry.OT.ineq, [1e2],[-.01])\n",
    "komo.addObjective([1.], \n",
    "                ry.FS.scalarProductXX, \n",
    "                [\"object\",\"R_gripper\"], \n",
    "                ry.OT.eq, \n",
    "                [1e2],\n",
    "                [1]);\n",
    "komo.addObjective([1.], \n",
    "                ry.FS.scalarProductZZ, \n",
    "                [\"object\",\"R_gripper\"], \n",
    "                ry.OT.eq, \n",
    "                [1e2],\n",
    "                [0]);\n",
    "\n",
    "\n",
    "komo.optimize()\n",
    "#komo.getReport()\n",
    "V = komo.view_play(False, 0.1)"
   ]
  },
  {
   "cell_type": "code",
   "execution_count": 38,
   "metadata": {},
   "outputs": [
    {
     "data": {
      "text/plain": [
       "[('L_panda_coll5', 'L_palm', 0.0437668049399811),\n",
       " ('R_panda_coll5', 'R_palm', 0.056949611308062975)]"
      ]
     },
     "execution_count": 38,
     "metadata": {},
     "output_type": "execute_result"
    }
   ],
   "source": [
    "C.setFrameState(komo.getFrameState(9))\n",
    "C.getJointState()\n",
    "coll = C.feature(ry.FS.accumulatedCollisions, [])\n",
    "C.computeCollisions() \n",
    "coll.eval(C)\n",
    "C.getCollisions()"
   ]
  },
  {
   "cell_type": "code",
   "execution_count": 39,
   "metadata": {},
   "outputs": [],
   "source": [
    "C.setJointState(q_0)\n",
    "\n",
    "\n",
    "# redefine the IK problem\n",
    "IK = C.komo_IK(False)\n",
    "IK.add_qControlObjective([], 1, 1.)\n",
    "IK.addObjective([1.], \n",
    "                ry.FS.position, \n",
    "                [\"R_gripper\"], \n",
    "                ry.OT.eq, \n",
    "                [1e2],\n",
    "                [-.1,0.,1.5]);\n",
    "\n",
    "# reoptimize\n",
    "IK.optimize(0.) # 0 indicates: no adding of noise for a random restart\n",
    "#print(IK.getReport())\n",
    "\n",
    "# grab result\n",
    "C.setFrameState( IK.getFrameState(0) )"
   ]
  },
  {
   "cell_type": "code",
   "execution_count": 40,
   "metadata": {},
   "outputs": [
    {
     "name": "stdout",
     "output_type": "stream",
     "text": [
      "**ry-c++-log** /home/tim/git/robotics-course_tim/rai/rai/Kin/kin.cpp:getFrame:360(-1) cannot find frame named 'coll_object'\n",
      "\n"
     ]
    }
   ],
   "source": [
    "C.delFrame(\"coll_object\")\n",
    "\n",
    "coll_obj = C.addFrame(\"coll_object\")\n",
    "coll_obj.setPosition([0.3, 0., 1.55])\n",
    "coll_obj.setQuaternion([1,0,1,0])\n",
    "coll_obj.setShape(ry.ST.sphere, [.10])\n",
    "coll_obj.setColor([1,0,0])\n",
    "coll_obj.setContact(1)"
   ]
  },
  {
   "cell_type": "code",
   "execution_count": null,
   "metadata": {},
   "outputs": [],
   "source": [
    "#C.delFrame(\"coll_object\")\n"
   ]
  },
  {
   "cell_type": "code",
   "execution_count": 41,
   "metadata": {},
   "outputs": [],
   "source": [
    "\n",
    "# move to inital pose\n",
    "\n",
    "obj.setPosition([.8,.2,1.5])\n",
    "\n",
    "# we want to optimize a single step (1 phase, 1 step/phase, duration=1, k_order=1)\n",
    "komo = C.komo_path(1.,30, 5., True)\n",
    "komo.addObjective([1.], ry.FS.positionDiff, [\"R_gripper\", \"object\"], ry.OT.sos, [1e2])\n",
    "komo.addObjective([1.], ry.FS.qItself, [], ry.OT.eq, [1e2], order=1)\n",
    "komo.addObjective([.8,1.], ry.FS.position, [\"R_gripper\"], ry.OT.eq, [1e2],[0,-.1,.0], order=2)\n",
    "komo.addObjective([], ry.FS.distance, [\"R_gripper\", \"object\"], ry.OT.ineq, [1e2],[-.0])\n",
    "komo.addObjective([1.], \n",
    "                ry.FS.scalarProductXX, \n",
    "                [\"object\",\"R_gripper\"], \n",
    "                ry.OT.eq, \n",
    "                [1e2],\n",
    "                [1]);\n",
    "komo.addObjective([1.], \n",
    "                ry.FS.scalarProductZZ, \n",
    "                [\"object\",\"R_gripper\"], \n",
    "                ry.OT.eq, \n",
    "                [1e2],\n",
    "                [0]);\n",
    "\n",
    "\n",
    "komo.optimize()\n",
    "#komo.getReport()\n",
    "V = komo.view_play(False, 0.1)\n"
   ]
  },
  {
   "cell_type": "code",
   "execution_count": 13,
   "metadata": {},
   "outputs": [
    {
     "data": {
      "text/plain": [
       "[('L_panda_coll5', 'L_palm', 0.04030130536241018),\n",
       " ('R_panda_coll5', 'R_palm', 0.06135183847111075),\n",
       " ('R_panda_coll5', 'coll_object', -0.047819970409852156),\n",
       " ('R_panda_coll6', 'coll_object', -0.13078609794506604),\n",
       " ('R_panda_coll7', 'coll_object', -0.09366775356427944),\n",
       " ('R_palm', 'coll_object', -0.08490516847106439),\n",
       " ('R_finger1', 'coll_object', 0.0929623697223454),\n",
       " ('R_finger2', 'coll_object', 0.03619392450152678)]"
      ]
     },
     "execution_count": 13,
     "metadata": {},
     "output_type": "execute_result"
    }
   ],
   "source": [
    "# See collisoin with sphere\n",
    "\n",
    "C.setFrameState(komo.getFrameState(9))\n",
    "C.getJointState()\n",
    "coll = C.feature(ry.FS.accumulatedCollisions, [])\n",
    "C.computeCollisions() \n",
    "coll.eval(C)\n",
    "C.getCollisions()"
   ]
  },
  {
   "cell_type": "code",
   "execution_count": 14,
   "metadata": {},
   "outputs": [],
   "source": [
    "C.setJointState(q_0)\n",
    "\n",
    "\n",
    "# redefine the IK problem\n",
    "IK = C.komo_IK(False)\n",
    "IK.add_qControlObjective([], 1, 1.)\n",
    "IK.addObjective([1.], \n",
    "                ry.FS.position, \n",
    "                [\"R_gripper\"], \n",
    "                ry.OT.eq, \n",
    "                [1e2],\n",
    "                [-.1,0.,1.5]);\n",
    "\n",
    "# reoptimize\n",
    "IK.optimize(0.) # 0 indicates: no adding of noise for a random restart\n",
    "#print(IK.getReport())\n",
    "\n",
    "# grab result\n",
    "C.setFrameState( IK.getFrameState(0) )"
   ]
  },
  {
   "cell_type": "code",
   "execution_count": 44,
   "metadata": {},
   "outputs": [],
   "source": [
    "\n",
    "# move to inital pose\n",
    "\n",
    "obj.setPosition([.8,.2,1.5])\n",
    "\n",
    "# we want to optimize a single step (1 phase, 1 step/phase, duration=1, k_order=1)\n",
    "komo = C.komo_path(1.,30, 5., True)\n",
    "komo.addObjective([1.], ry.FS.positionDiff, [\"R_gripper\", \"object\"], ry.OT.sos, [1e2])\n",
    "komo.addObjective([1.], ry.FS.qItself, [], ry.OT.eq, [1e2], order=1)\n",
    "komo.addObjective([.8,1.], ry.FS.position, [\"R_gripper\"], ry.OT.eq, [1e2],[0,-.1,.0], order=2)\n",
    "komo.addObjective([], ry.FS.distance, [\"R_gripper\", \"object\"], ry.OT.ineq, [1e2],[-.0])\n",
    "#komo.addObjective([], ry.FS.distance, [\"R_gripper\", \"coll_object\"], ry.OT.ineq, [1e2],[-.4])\n",
    "\n",
    "komo.addObjective([], ry.FS.accumulatedCollisions, [], ry.OT.ineq, [1e2],[-.08])\n",
    "komo.addObjective([], ry.FS.accumulatedCollisions, [\"R_gripper\", \"coll_object\"], ry.OT.ineq, [1e2],[.0])\n",
    "komo.addObjective([1.], \n",
    "                ry.FS.scalarProductXX, \n",
    "                [\"object\",\"R_gripper\"], \n",
    "                ry.OT.eq, \n",
    "                [1e2],\n",
    "                [1]);\n",
    "komo.addObjective([1.], \n",
    "                ry.FS.scalarProductZZ, \n",
    "                [\"object\",\"R_gripper\"], \n",
    "                ry.OT.eq, \n",
    "                [1e2],\n",
    "                [0]);\n",
    "\n",
    "\n",
    "komo.optimize()\n",
    "#komo.getReport()\n",
    "V = komo.view_play(False, 0.1)"
   ]
  },
  {
   "cell_type": "code",
   "execution_count": 43,
   "metadata": {},
   "outputs": [
    {
     "data": {
      "text/plain": [
       "[('L_panda_coll5', 'L_palm', 0.040295974378600566),\n",
       " ('R_panda_coll5', 'R_palm', 0.05778429330943047),\n",
       " ('R_panda_coll5', 'coll_object', 0.07449066400559626),\n",
       " ('R_panda_coll6', 'coll_object', 0.023638661532347283),\n",
       " ('R_panda_coll7', 'coll_object', 0.04725046697098767),\n",
       " ('R_palm', 'coll_object', 0.03525345259001231),\n",
       " ('R_finger1', 'coll_object', 0.0912469210351664)]"
      ]
     },
     "execution_count": 43,
     "metadata": {},
     "output_type": "execute_result"
    }
   ],
   "source": [
    "# See collisoin with sphere\n",
    "\n",
    "C.setFrameState(komo.getFrameState(9))\n",
    "C.getJointState()\n",
    "coll = C.feature(ry.FS.accumulatedCollisions, [])\n",
    "C.computeCollisions() \n",
    "coll.eval(C)\n",
    "C.getCollisions()"
   ]
  },
  {
   "cell_type": "code",
   "execution_count": 56,
   "metadata": {},
   "outputs": [],
   "source": [
    "C.setJointState(q_0)\n",
    "\n",
    "\n",
    "# redefine the IK problem\n",
    "IK = C.komo_IK(False)\n",
    "IK.add_qControlObjective([], 1, 1.)\n",
    "IK.addObjective([1.], \n",
    "                ry.FS.position, \n",
    "                [\"R_gripper\"], \n",
    "                ry.OT.eq, \n",
    "                [1e2],\n",
    "                [-.1,0.,1.5]);\n",
    "\n",
    "# reoptimize\n",
    "IK.optimize(0.) # 0 indicates: no adding of noise for a random restart\n",
    "#print(IK.getReport())\n",
    "\n",
    "# grab result\n",
    "C.setFrameState( IK.getFrameState(0) )"
   ]
  },
  {
   "cell_type": "code",
   "execution_count": 46,
   "metadata": {},
   "outputs": [],
   "source": [
    "C.delFrame(\"coll_object\")\n"
   ]
  },
  {
   "cell_type": "markdown",
   "metadata": {},
   "source": [
    "# 3b"
   ]
  },
  {
   "cell_type": "code",
   "execution_count": 57,
   "metadata": {},
   "outputs": [],
   "source": [
    "\n",
    "# move to inital pose\n",
    "\n",
    "obj.setPosition([.8,.2,1.5])\n",
    "\n",
    "# we want to optimize a single step (1 phase, 1 step/phase, duration=1, k_order=1)\n",
    "komo = C.komo_path(1.,30, 5., True)\n",
    "komo.addObjective([1.], ry.FS.positionDiff, [\"R_finger1\", \"object\"], ry.OT.sos, [1e2])\n",
    "komo.addObjective([1.], ry.FS.qItself, [], ry.OT.eq, [1e2], order=1)\n",
    "komo.addObjective([.7,1.], ry.FS.position, [\"R_finger1\"], ry.OT.eq, [1e2],[0,-.08,.0], order=2)\n",
    "komo.addObjective([1.], ry.FS.distance, [\"R_finger1\", \"object\"], ry.OT.eq, [1e5],[.0])\n",
    "komo.addObjective([1.], \n",
    "                ry.FS.scalarProductZZ, \n",
    "                [\"object\",\"R_finger1\"], \n",
    "                ry.OT.eq, \n",
    "                [1e2],\n",
    "                [0]);\n",
    "\n",
    "\n",
    "komo.optimize()\n",
    "#komo.getReport()\n",
    "V = komo.view_play(False, 0.1)"
   ]
  },
  {
   "cell_type": "code",
   "execution_count": 55,
   "metadata": {},
   "outputs": [],
   "source": [
    "C.setFrameState(komo.getFrameState(29) )"
   ]
  },
  {
   "cell_type": "code",
   "execution_count": 21,
   "metadata": {},
   "outputs": [],
   "source": [
    "C.setJointState(q_0)\n",
    "\n",
    "\n",
    "\n"
   ]
  }
 ],
 "metadata": {
  "interpreter": {
   "hash": "916dbcbb3f70747c44a77c7bcd40155683ae19c65e1c03b4aa3499c5328201f1"
  },
  "kernelspec": {
   "display_name": "Python 3.8.10 64-bit",
   "name": "python3"
  },
  "language_info": {
   "codemirror_mode": {
    "name": "ipython",
    "version": 3
   },
   "file_extension": ".py",
   "mimetype": "text/x-python",
   "name": "python",
   "nbconvert_exporter": "python",
   "pygments_lexer": "ipython3",
   "version": "3.8.10"
  }
 },
 "nbformat": 4,
 "nbformat_minor": 4
}
