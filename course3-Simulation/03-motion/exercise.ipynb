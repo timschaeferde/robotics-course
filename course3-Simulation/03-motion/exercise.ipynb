{
 "cells": [
  {
   "cell_type": "markdown",
   "metadata": {},
   "source": [
    "## Using Komo for IK"
   ]
  },
  {
   "cell_type": "code",
   "execution_count": 1,
   "metadata": {},
   "outputs": [
    {
     "name": "stdout",
     "output_type": "stream",
     "text": [
      "**ry-c++-log** /home/tim/git/robotics-course_tim/rai/rai/ry/ry.cpp:init_LogToPythonConsole:34(0) initializing ry log callback\n",
      "\n"
     ]
    }
   ],
   "source": [
    "import sys\n",
    "sys.path.append('../../build')\n",
    "import numpy as np\n",
    "import libry as ry"
   ]
  },
  {
   "cell_type": "code",
   "execution_count": 2,
   "metadata": {},
   "outputs": [],
   "source": [
    "# Here we do not need a simulation world\n",
    "# adding a configuration world\n",
    "C = ry.Config()\n",
    "C.addFile(\"../../scenarios/pandasTable.g\")\n",
    "D = C.view()\n",
    "\n",
    "q_0 = C.getJointState()"
   ]
  },
  {
   "cell_type": "code",
   "execution_count": 3,
   "metadata": {},
   "outputs": [],
   "source": [
    "obj = C.addFrame(\"object\")\n",
    "obj.setPosition([1., 0., 1.5])\n",
    "obj.setQuaternion([1,0,1,0])\n",
    "obj.setShape(ry.ST.capsule, [.2,.02])\n",
    "obj.setColor([1,0,1])\n",
    "obj.setContact(1)\n"
   ]
  },
  {
   "cell_type": "code",
   "execution_count": 4,
   "metadata": {},
   "outputs": [],
   "source": [
    "mk_obj = C.addFrame(\"mk_obj\",\"object\")\n",
    "mk_obj.setShape(ry.ST.marker,[0.2])\n"
   ]
  },
  {
   "cell_type": "code",
   "execution_count": 5,
   "metadata": {},
   "outputs": [],
   "source": [
    "mk_gripper = C.addFrame(\"mk_gripper\",\"R_gripper\")\n",
    "mk_gripper.setShape(ry.ST.marker,[0.1])\n"
   ]
  },
  {
   "cell_type": "code",
   "execution_count": null,
   "metadata": {},
   "outputs": [],
   "source": []
  },
  {
   "cell_type": "code",
   "execution_count": 6,
   "metadata": {},
   "outputs": [],
   "source": [
    "obj.setPosition([0, 0.1, 1.5])"
   ]
  },
  {
   "cell_type": "code",
   "execution_count": 7,
   "metadata": {},
   "outputs": [],
   "source": [
    "\n",
    "# move to inital pose\n",
    "C.setJointState(q_0)\n",
    "\n",
    "\n",
    "# Move object and reoptimize\n",
    "\n",
    "# move object\n",
    "obj.setPosition([.2,.2,1.5])\n",
    "\n",
    "# # copy C into the IK's internal configuration(s)\n",
    "# IK.setConfigurations(C)\n",
    "\n",
    "# redefine the IK problem\n",
    "IK = C.komo_IK(False)\n",
    "IK.add_qControlObjective([], 1, 1.)\n",
    "IK.addObjective([1.], \n",
    "                ry.FS.positionDiff, \n",
    "                [\"object\", \"R_gripper\"], \n",
    "                ry.OT.eq, \n",
    "                [1e2],\n",
    "                [0.,0.,0]);\n",
    "# reoptimize\n",
    "IK.optimize(0.) # 0 indicates: no adding of noise for a random restart\n",
    "#print(IK.getReport())\n",
    "\n",
    "# grab result\n",
    "C.setFrameState( IK.getFrameState(0) )"
   ]
  },
  {
   "cell_type": "code",
   "execution_count": 8,
   "metadata": {},
   "outputs": [],
   "source": [
    "\n",
    "# move to inital pose\n",
    "C.setJointState(q_0)\n",
    "\n",
    "# # copy C into the IK's internal configuration(s)\n",
    "# IK.setConfigurations(C)\n",
    "\n",
    "# redefine the IK problem\n",
    "IK = C.komo_IK(False)\n",
    "IK.add_qControlObjective([], 1, 1.)\n",
    "IK.addObjective([1.], \n",
    "                ry.FS.positionDiff, \n",
    "                [\"L_gripper\", \"R_gripper\"], \n",
    "                ry.OT.eq, \n",
    "                [1e2],\n",
    "                [0.,0.,0]);\n",
    "# reoptimize\n",
    "IK.optimize(0.) # 0 indicates: no adding of noise for a random restart\n",
    "#print(IK.getReport())\n",
    "\n",
    "# grab result\n",
    "C.setFrameState( IK.getFrameState(0) )"
   ]
  },
  {
   "cell_type": "code",
   "execution_count": 9,
   "metadata": {},
   "outputs": [],
   "source": [
    "\n",
    "# move to inital pose\n",
    "C.setJointState(q_0)\n",
    "\n",
    "\n",
    "# Move object and reoptimize\n",
    "\n",
    "# move object\n",
    "obj.setPosition([.2,.2,1.5])\n",
    "\n",
    "# # copy C into the IK's internal configuration(s)\n",
    "# IK.setConfigurations(C)\n",
    "\n",
    "# redefine the IK problem\n",
    "IK = C.komo_IK(False)\n",
    "IK.add_qControlObjective([], 1, 1.)\n",
    "IK.addObjective([1.], \n",
    "                ry.FS.positionDiff, \n",
    "                [\"object\", \"R_gripper\"], \n",
    "                ry.OT.eq, \n",
    "                [1e2],\n",
    "                [0.,0.,0]);\n",
    "IK.addObjective([1.], \n",
    "                ry.FS.quaternionDiff, \n",
    "                [\"object\", \"R_gripper\"], \n",
    "                ry.OT.eq, \n",
    "                [1e2],\n",
    "                [1.,0.,1,0]);\n",
    "# reoptimize\n",
    "IK.optimize(0.) # 0 indicates: no adding of noise for a random restart\n",
    "#print(IK.getReport())\n",
    "\n",
    "# grab result\n",
    "C.setFrameState( IK.getFrameState(0) )"
   ]
  },
  {
   "cell_type": "code",
   "execution_count": 10,
   "metadata": {},
   "outputs": [],
   "source": [
    "\n",
    "# move to inital pose\n",
    "C.setJointState(q_0)\n",
    "\n",
    "\n",
    "# Move object and reoptimize\n",
    "\n",
    "# move object\n",
    "obj.setPosition([.2,.2,1.5])\n",
    "\n",
    "# # copy C into the IK's internal configuration(s)\n",
    "# IK.setConfigurations(C)\n",
    "\n",
    "# redefine the IK problem\n",
    "IK = C.komo_IK(False)\n",
    "IK.add_qControlObjective([], 1, 1.)\n",
    "IK.addObjective([1.], \n",
    "                ry.FS.positionDiff, \n",
    "                [\"object\", \"R_gripper\"], \n",
    "                ry.OT.eq, \n",
    "                [1e2],\n",
    "                [0.,0.,0]);\n",
    "IK.addObjective([1.], \n",
    "                ry.FS.scalarProductXX, \n",
    "                [\"object\", \"R_gripper\"], \n",
    "                ry.OT.eq, \n",
    "                [1e2],\n",
    "                [1]);\n",
    "IK.addObjective([1.], \n",
    "                ry.FS.scalarProductYY, \n",
    "                [\"object\", \"R_gripper\"], \n",
    "                ry.OT.eq, \n",
    "                [1e2],\n",
    "                [0]);\n",
    "# reoptimize\n",
    "IK.optimize(0.) # 0 indicates: no adding of noise for a random restart\n",
    "#print(IK.getReport())\n",
    "\n",
    "# grab result\n",
    "C.setFrameState( IK.getFrameState(0) )"
   ]
  },
  {
   "cell_type": "code",
   "execution_count": 11,
   "metadata": {},
   "outputs": [],
   "source": [
    "\n",
    "# move to inital pose\n",
    "C.setJointState(q_0)\n",
    "\n",
    "\n",
    "# Move object and reoptimize\n",
    "\n",
    "# move object\n",
    "obj.setPosition([.2,.2,1.5])\n",
    "\n",
    "# # copy C into the IK's internal configuration(s)\n",
    "# IK.setConfigurations(C)\n",
    "\n",
    "#Pre grasp\n",
    "\n",
    "\n",
    "# redefine the IK problem\n",
    "IK = C.komo_IK(False)\n",
    "IK.add_qControlObjective([], 1, 1.)\n",
    "IK.addObjective([1.], \n",
    "                ry.FS.positionRel, \n",
    "                [\"object\", \"R_gripper\"], \n",
    "                ry.OT.eq, \n",
    "                [1e2],\n",
    "                [0.,0.,-.0]);\n",
    "IK.addObjective([1.], \n",
    "                ry.FS.scalarProductXX, \n",
    "                [\"object\",\"R_gripper\"], \n",
    "                ry.OT.eq, \n",
    "                [1e2],\n",
    "                [1]);\n",
    "IK.addObjective([1.], \n",
    "                ry.FS.scalarProductZZ, \n",
    "                [\"object\",\"R_gripper\"], \n",
    "                ry.OT.eq, \n",
    "                [1e2],\n",
    "                [0]);\n",
    "\n",
    "# reoptimize\n",
    "IK.optimize(0.) # 0 indicates: no adding of noise for a random restart\n",
    "#print(IK.getReport())\n",
    "\n",
    "# grab result\n",
    "C.setFrameState( IK.getFrameState(0) )\n"
   ]
  },
  {
   "cell_type": "code",
   "execution_count": 12,
   "metadata": {},
   "outputs": [],
   "source": [
    "\n",
    "#Final Grasp\n",
    "\n",
    "# redefine the IK problem\n",
    "IK = C.komo_IK(False)\n",
    "IK.add_qControlObjective([], 1, 1.)\n",
    "IK.addObjective([1.], \n",
    "                ry.FS.positionDiff, \n",
    "                [\"object\", \"R_gripper\"], \n",
    "                ry.OT.eq, \n",
    "                [1e2],\n",
    "                [0.,0.,0]);\n",
    "IK.addObjective([1.], \n",
    "                ry.FS.scalarProductXX, \n",
    "                [\"object\",\"R_gripper\"], \n",
    "                ry.OT.eq, \n",
    "                [1e2],\n",
    "                [1]);\n",
    "IK.addObjective([1.], \n",
    "                ry.FS.scalarProductZZ, \n",
    "                [\"object\",\"R_gripper\"], \n",
    "                ry.OT.eq, \n",
    "                [1e2],\n",
    "                [0]);\n",
    "\n",
    "\n",
    "\n",
    "# reoptimize\n",
    "IK.optimize(0.) # 0 indicates: no adding of noise for a random restart\n",
    "#print(IK.getReport())\n",
    "\n",
    "# grab result\n",
    "C.setFrameState( IK.getFrameState(0) )"
   ]
  },
  {
   "cell_type": "markdown",
   "metadata": {},
   "source": [
    "## Path Optimization"
   ]
  },
  {
   "cell_type": "code",
   "execution_count": 13,
   "metadata": {},
   "outputs": [],
   "source": [
    "C.setJointState(q_0)\n",
    "\n",
    "\n",
    "# redefine the IK problem\n",
    "IK = C.komo_IK(False)\n",
    "IK.add_qControlObjective([], 1, 1.)\n",
    "IK.addObjective([1.], \n",
    "                ry.FS.position, \n",
    "                [\"R_gripper\"], \n",
    "                ry.OT.eq, \n",
    "                [1e2],\n",
    "                [-.1,0.,1.5]);\n",
    "\n",
    "# reoptimize\n",
    "IK.optimize(0.) # 0 indicates: no adding of noise for a random restart\n",
    "#print(IK.getReport())\n",
    "\n",
    "# grab result\n",
    "C.setFrameState( IK.getFrameState(0) )"
   ]
  },
  {
   "cell_type": "code",
   "execution_count": 14,
   "metadata": {},
   "outputs": [],
   "source": [
    "\n",
    "\n",
    "# move to inital pose\n",
    "\n",
    "obj.setPosition([.8,.2,1.5])\n",
    "\n",
    "# we want to optimize a single step (1 phase, 1 step/phase, duration=1, k_order=1)\n",
    "komo = C.komo_path(1.,10, 5., True)\n",
    "komo.addObjective([1.], ry.FS.positionDiff, [\"R_gripper\", \"object\"], ry.OT.sos, [1e2])\n",
    "komo.addObjective([1.], ry.FS.qItself, [], ry.OT.eq, [1e2], order=1)\n",
    "komo.addObjective([], ry.FS.distance, [\"R_gripper\", \"object\"], ry.OT.ineq, [1e2])\n",
    "\n",
    "komo.optimize()\n",
    "#komo.getReport()\n",
    "\n",
    "V = komo.view_play(False, 0.1)"
   ]
  },
  {
   "cell_type": "code",
   "execution_count": 15,
   "metadata": {},
   "outputs": [],
   "source": [
    "\n",
    "\n",
    "# move to inital pose\n",
    "\n",
    "obj.setPosition([.8,.2,1.5])\n",
    "\n",
    "# we want to optimize a single step (1 phase, 1 step/phase, duration=1, k_order=1)\n",
    "komo = C.komo_path(1.,10, 5., True)\n",
    "komo.addObjective([1.], ry.FS.positionDiff, [\"R_gripper\", \"object\"], ry.OT.sos, [1e2])\n",
    "#komo.addObjective([1.], ry.FS.qItself, [], ry.OT.eq, [1e2], order=1)\n",
    "komo.addObjective([], ry.FS.distance, [\"R_gripper\", \"object\"], ry.OT.ineq, [1e2])\n",
    "\n",
    "komo.optimize()\n",
    "#komo.getReport()\n",
    "V = komo.view_play(False, 0.1)"
   ]
  },
  {
   "cell_type": "code",
   "execution_count": 16,
   "metadata": {},
   "outputs": [],
   "source": [
    "\n",
    "\n",
    "# move to inital pose\n",
    "\n",
    "obj.setPosition([.8,.2,1.5])\n",
    "\n",
    "# we want to optimize a single step (1 phase, 1 step/phase, duration=1, k_order=1)\n",
    "komo = C.komo_path(1.,10, 5., True)\n",
    "komo.addObjective([1.], ry.FS.positionDiff, [\"R_gripper\", \"object\"], ry.OT.sos, [1e2])\n",
    "komo.addObjective([1.], ry.FS.qItself, [], ry.OT.eq, [1e2], order=1)\n",
    "komo.addObjective([.7,1.], ry.FS.position, [\"R_gripper\"], ry.OT.eq, [1e2],[0,0,.1], order=2)\n",
    "komo.addObjective([], ry.FS.distance, [\"R_gripper\", \"object\"], ry.OT.ineq, [1e2])\n",
    "\n",
    "komo.optimize()\n",
    "#komo.getReport()\n",
    "V = komo.view_play(False, 0.1)"
   ]
  },
  {
   "cell_type": "code",
   "execution_count": 17,
   "metadata": {},
   "outputs": [],
   "source": [
    "\n",
    "\n",
    "# move to inital pose\n",
    "\n",
    "obj.setPosition([.8,.2,1.5])\n",
    "\n",
    "# we want to optimize a single step (1 phase, 1 step/phase, duration=1, k_order=1)\n",
    "komo = C.komo_path(1.,30, 5., True)\n",
    "komo.addObjective([1.], ry.FS.positionDiff, [\"R_gripper\", \"object\"], ry.OT.sos, [1e2])\n",
    "komo.addObjective([1.], ry.FS.qItself, [], ry.OT.eq, [1e2], order=1)\n",
    "komo.addObjective([.8,1.], ry.FS.position, [\"R_gripper\"], ry.OT.eq, [1e2],[0,-.1,.0], order=2)\n",
    "komo.addObjective([], ry.FS.distance, [\"R_gripper\", \"object\"], ry.OT.ineq, [1e2],[-.01])\n",
    "komo.addObjective([1.], \n",
    "                ry.FS.scalarProductXX, \n",
    "                [\"object\",\"R_gripper\"], \n",
    "                ry.OT.eq, \n",
    "                [1e2],\n",
    "                [1]);\n",
    "komo.addObjective([1.], \n",
    "                ry.FS.scalarProductZZ, \n",
    "                [\"object\",\"R_gripper\"], \n",
    "                ry.OT.eq, \n",
    "                [1e2],\n",
    "                [0]);\n",
    "\n",
    "\n",
    "komo.optimize()\n",
    "#komo.getReport()\n",
    "V = komo.view_play(False, 0.1)"
   ]
  },
  {
   "cell_type": "code",
   "execution_count": 52,
   "metadata": {},
   "outputs": [
    {
     "data": {
      "text/plain": [
       "[('L_panda_coll5', 'L_palm', 0.040277990996025234),\n",
       " ('R_panda_coll5', 'R_palm', 0.06143949953152805),\n",
       " ('R_panda_coll5', 'coll_object', -0.09426815234925455),\n",
       " ('R_panda_coll6', 'coll_object', -0.17720598509458538),\n",
       " ('R_panda_coll7', 'coll_object', -0.14366679202022206),\n",
       " ('R_palm', 'coll_object', -0.1394858040728557),\n",
       " ('R_finger1', 'coll_object', 0.03947456737894045),\n",
       " ('R_finger2', 'coll_object', -0.018578635724537745)]"
      ]
     },
     "execution_count": 52,
     "metadata": {},
     "output_type": "execute_result"
    }
   ],
   "source": [
    "C.setFrameState(komo.getFrameState(9))\n",
    "C.getJointState()\n",
    "coll = C.feature(ry.FS.accumulatedCollisions, [])\n",
    "C.computeCollisions() \n",
    "coll.eval(C)\n",
    "C.getCollisions()"
   ]
  },
  {
   "cell_type": "code",
   "execution_count": 55,
   "metadata": {},
   "outputs": [],
   "source": [
    "C.setJointState(q_0)\n",
    "\n",
    "\n",
    "# redefine the IK problem\n",
    "IK = C.komo_IK(False)\n",
    "IK.add_qControlObjective([], 1, 1.)\n",
    "IK.addObjective([1.], \n",
    "                ry.FS.position, \n",
    "                [\"R_gripper\"], \n",
    "                ry.OT.eq, \n",
    "                [1e2],\n",
    "                [-.1,0.,1.5]);\n",
    "\n",
    "# reoptimize\n",
    "IK.optimize(0.) # 0 indicates: no adding of noise for a random restart\n",
    "#print(IK.getReport())\n",
    "\n",
    "# grab result\n",
    "C.setFrameState( IK.getFrameState(0) )"
   ]
  },
  {
   "cell_type": "code",
   "execution_count": 97,
   "metadata": {},
   "outputs": [],
   "source": [
    "C.delFrame(\"coll_object\")\n",
    "\n",
    "coll_obj = C.addFrame(\"coll_object\")\n",
    "coll_obj.setPosition([0.3, 0., 1.55])\n",
    "coll_obj.setQuaternion([1,0,1,0])\n",
    "coll_obj.setShape(ry.ST.sphere, [.10])\n",
    "coll_obj.setColor([1,0,0])\n",
    "coll_obj.setContact(1)"
   ]
  },
  {
   "cell_type": "code",
   "execution_count": 68,
   "metadata": {},
   "outputs": [],
   "source": [
    "#C.delFrame(\"coll_object\")\n"
   ]
  },
  {
   "cell_type": "code",
   "execution_count": 100,
   "metadata": {},
   "outputs": [],
   "source": [
    "\n",
    "# move to inital pose\n",
    "\n",
    "obj.setPosition([.8,.2,1.5])\n",
    "\n",
    "# we want to optimize a single step (1 phase, 1 step/phase, duration=1, k_order=1)\n",
    "komo = C.komo_path(1.,30, 5., True)\n",
    "komo.addObjective([1.], ry.FS.positionDiff, [\"R_gripper\", \"object\"], ry.OT.sos, [1e2])\n",
    "komo.addObjective([1.], ry.FS.qItself, [], ry.OT.eq, [1e2], order=1)\n",
    "komo.addObjective([.8,1.], ry.FS.position, [\"R_gripper\"], ry.OT.eq, [1e2],[0,-.1,.0], order=2)\n",
    "komo.addObjective([], ry.FS.distance, [\"R_gripper\", \"object\"], ry.OT.ineq, [1e2],[-.0])\n",
    "komo.addObjective([1.], \n",
    "                ry.FS.scalarProductXX, \n",
    "                [\"object\",\"R_gripper\"], \n",
    "                ry.OT.eq, \n",
    "                [1e2],\n",
    "                [1]);\n",
    "komo.addObjective([1.], \n",
    "                ry.FS.scalarProductZZ, \n",
    "                [\"object\",\"R_gripper\"], \n",
    "                ry.OT.eq, \n",
    "                [1e2],\n",
    "                [0]);\n",
    "\n",
    "\n",
    "komo.optimize()\n",
    "#komo.getReport()\n",
    "V = komo.view_play(False, 0.1)\n"
   ]
  },
  {
   "cell_type": "code",
   "execution_count": 87,
   "metadata": {},
   "outputs": [
    {
     "data": {
      "text/plain": [
       "[('L_panda_coll5', 'L_palm', 0.040313949119256745),\n",
       " ('R_panda_coll5', 'R_palm', 0.061527082102413866),\n",
       " ('R_panda_coll5', 'coll_object', -0.04846877217400343),\n",
       " ('R_panda_coll6', 'coll_object', -0.1315449994414698),\n",
       " ('R_panda_coll7', 'coll_object', -0.09309391535483902),\n",
       " ('R_palm', 'coll_object', -0.08407836356999064),\n",
       " ('R_finger1', 'coll_object', 0.09385274658757098),\n",
       " ('R_finger2', 'coll_object', 0.0369610510731776)]"
      ]
     },
     "execution_count": 87,
     "metadata": {},
     "output_type": "execute_result"
    }
   ],
   "source": [
    "# See collisoin with sphere\n",
    "\n",
    "C.setFrameState(komo.getFrameState(9))\n",
    "C.getJointState()\n",
    "coll = C.feature(ry.FS.accumulatedCollisions, [])\n",
    "C.computeCollisions() \n",
    "coll.eval(C)\n",
    "C.getCollisions()"
   ]
  },
  {
   "cell_type": "code",
   "execution_count": 89,
   "metadata": {},
   "outputs": [],
   "source": [
    "C.setJointState(q_0)\n",
    "\n",
    "\n",
    "# redefine the IK problem\n",
    "IK = C.komo_IK(False)\n",
    "IK.add_qControlObjective([], 1, 1.)\n",
    "IK.addObjective([1.], \n",
    "                ry.FS.position, \n",
    "                [\"R_gripper\"], \n",
    "                ry.OT.eq, \n",
    "                [1e2],\n",
    "                [-.1,0.,1.5]);\n",
    "\n",
    "# reoptimize\n",
    "IK.optimize(0.) # 0 indicates: no adding of noise for a random restart\n",
    "#print(IK.getReport())\n",
    "\n",
    "# grab result\n",
    "C.setFrameState( IK.getFrameState(0) )"
   ]
  },
  {
   "cell_type": "code",
   "execution_count": 99,
   "metadata": {},
   "outputs": [],
   "source": [
    "\n",
    "# move to inital pose\n",
    "\n",
    "obj.setPosition([.8,.2,1.5])\n",
    "\n",
    "# we want to optimize a single step (1 phase, 1 step/phase, duration=1, k_order=1)\n",
    "komo = C.komo_path(1.,30, 5., True)\n",
    "komo.addObjective([1.], ry.FS.positionDiff, [\"R_gripper\", \"object\"], ry.OT.sos, [1e2])\n",
    "komo.addObjective([1.], ry.FS.qItself, [], ry.OT.eq, [1e2], order=1)\n",
    "komo.addObjective([.8,1.], ry.FS.position, [\"R_gripper\"], ry.OT.eq, [1e2],[0,-.1,.0], order=2)\n",
    "komo.addObjective([], ry.FS.distance, [\"R_gripper\", \"object\"], ry.OT.ineq, [1e2],[-.0])\n",
    "#komo.addObjective([], ry.FS.distance, [\"R_gripper\", \"coll_object\"], ry.OT.ineq, [1e2],[-.4])\n",
    "\n",
    "komo.addObjective([], ry.FS.accumulatedCollisions, [\"R_panda_coll1\", \"coll_object\"], ry.OT.ineq, [1e2],[-.08])\n",
    "komo.addObjective([], ry.FS.accumulatedCollisions, [\"R_panda_coll0\", \"coll_object\"], ry.OT.ineq, [1e2],[-.08])\n",
    "komo.addObjective([], ry.FS.accumulatedCollisions, [\"R_panda_coll2\", \"coll_object\"], ry.OT.ineq, [1e2],[-.08])\n",
    "komo.addObjective([], ry.FS.accumulatedCollisions, [\"R_panda_coll3\", \"coll_object\"], ry.OT.ineq, [1e2],[-.08])\n",
    "komo.addObjective([], ry.FS.accumulatedCollisions, [\"R_panda_coll4\", \"coll_object\"], ry.OT.ineq, [1e2],[-.08])\n",
    "komo.addObjective([], ry.FS.accumulatedCollisions, [\"R_panda_coll5\", \"coll_object\"], ry.OT.ineq, [1e2],[-.08])\n",
    "komo.addObjective([], ry.FS.accumulatedCollisions, [\"R_panda_coll6\", \"coll_object\"], ry.OT.ineq, [1e2],[-.08])\n",
    "komo.addObjective([], ry.FS.accumulatedCollisions, [\"R_panda_coll7\", \"coll_object\"], ry.OT.ineq, [1e2],[-.08])\n",
    "komo.addObjective([], ry.FS.accumulatedCollisions, [\"R_gripper\", \"coll_object\"], ry.OT.ineq, [1e2],[.0])\n",
    "komo.addObjective([1.], \n",
    "                ry.FS.scalarProductXX, \n",
    "                [\"object\",\"R_gripper\"], \n",
    "                ry.OT.eq, \n",
    "                [1e2],\n",
    "                [1]);\n",
    "komo.addObjective([1.], \n",
    "                ry.FS.scalarProductZZ, \n",
    "                [\"object\",\"R_gripper\"], \n",
    "                ry.OT.eq, \n",
    "                [1e2],\n",
    "                [0]);\n",
    "\n",
    "\n",
    "komo.optimize()\n",
    "#komo.getReport()\n",
    "V = komo.view_play(False, 0.1)"
   ]
  },
  {
   "cell_type": "code",
   "execution_count": 73,
   "metadata": {},
   "outputs": [
    {
     "data": {
      "text/plain": [
       "[('L_panda_coll5', 'L_palm', 0.04036861492115597),\n",
       " ('R_panda_coll5', 'R_palm', 0.060534815116473295),\n",
       " ('R_panda_coll5', 'coll_object', 0.057387465050686565),\n",
       " ('R_panda_coll6', 'coll_object', 0.14321491806567246),\n",
       " ('R_panda_coll7', 'coll_object', 0.08827243061360782)]"
      ]
     },
     "execution_count": 73,
     "metadata": {},
     "output_type": "execute_result"
    }
   ],
   "source": [
    "# See collisoin with sphere\n",
    "\n",
    "C.setFrameState(komo.getFrameState(9))\n",
    "C.getJointState()\n",
    "coll = C.feature(ry.FS.accumulatedCollisions, [])\n",
    "C.computeCollisions() \n",
    "coll.eval(C)\n",
    "C.getCollisions()"
   ]
  },
  {
   "cell_type": "code",
   "execution_count": 74,
   "metadata": {},
   "outputs": [],
   "source": [
    "C.setJointState(q_0)\n",
    "\n",
    "\n",
    "# redefine the IK problem\n",
    "IK = C.komo_IK(False)\n",
    "IK.add_qControlObjective([], 1, 1.)\n",
    "IK.addObjective([1.], \n",
    "                ry.FS.position, \n",
    "                [\"R_gripper\"], \n",
    "                ry.OT.eq, \n",
    "                [1e2],\n",
    "                [-.1,0.,1.5]);\n",
    "\n",
    "# reoptimize\n",
    "IK.optimize(0.) # 0 indicates: no adding of noise for a random restart\n",
    "#print(IK.getReport())\n",
    "\n",
    "# grab result\n",
    "C.setFrameState( IK.getFrameState(0) )"
   ]
  },
  {
   "cell_type": "code",
   "execution_count": 78,
   "metadata": {},
   "outputs": [],
   "source": [
    "C.delFrame(\"coll_object\")\n"
   ]
  },
  {
   "cell_type": "code",
   "execution_count": 82,
   "metadata": {},
   "outputs": [],
   "source": [
    "\n",
    "# move to inital pose\n",
    "\n",
    "obj.setPosition([.8,.2,1.5])\n",
    "\n",
    "# we want to optimize a single step (1 phase, 1 step/phase, duration=1, k_order=1)\n",
    "komo = C.komo_path(1.,30, 5., True)\n",
    "komo.addObjective([1.], ry.FS.positionDiff, [\"R_finger1\", \"object\"], ry.OT.sos, [1e2])\n",
    "komo.addObjective([1.], ry.FS.qItself, [], ry.OT.eq, [1e2], order=1)\n",
    "komo.addObjective([.7,1.], ry.FS.position, [\"R_finger1\"], ry.OT.eq, [1e2],[0,-.08,.0], order=2)\n",
    "komo.addObjective([], ry.FS.distance, [\"R_finger1\", \"object\"], ry.OT.ineq, [1e2],[.0])\n",
    "\n",
    "\n",
    "komo.optimize()\n",
    "#komo.getReport()\n",
    "V = komo.view_play(False, 0.1)"
   ]
  },
  {
   "cell_type": "code",
   "execution_count": null,
   "metadata": {},
   "outputs": [],
   "source": []
  }
 ],
 "metadata": {
  "interpreter": {
   "hash": "916dbcbb3f70747c44a77c7bcd40155683ae19c65e1c03b4aa3499c5328201f1"
  },
  "kernelspec": {
   "display_name": "Python 3.8.10 64-bit",
   "name": "python3"
  },
  "language_info": {
   "codemirror_mode": {
    "name": "ipython",
    "version": 3
   },
   "file_extension": ".py",
   "mimetype": "text/x-python",
   "name": "python",
   "nbconvert_exporter": "python",
   "pygments_lexer": "ipython3",
   "version": "3.8.10"
  }
 },
 "nbformat": 4,
 "nbformat_minor": 4
}
