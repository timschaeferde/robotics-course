{
 "cells": [
  {
   "cell_type": "markdown",
   "metadata": {},
   "source": [
    "## basic test"
   ]
  },
  {
   "cell_type": "code",
   "execution_count": 1,
   "metadata": {},
   "outputs": [
    {
     "name": "stdout",
     "output_type": "stream",
     "text": [
      "**ry-c++-log** /home/tim/git/robotics-course_tim/rai/rai/ry/ry.cpp:init_LogToPythonConsole:34(0) initializing ry log callback\n",
      "\n"
     ]
    }
   ],
   "source": [
    "import sys\n",
    "sys.path.append('../../build')\n",
    "import libry as ry\n",
    "import numpy as np\n",
    "import time"
   ]
  },
  {
   "cell_type": "code",
   "execution_count": 2,
   "metadata": {},
   "outputs": [],
   "source": [
    "#-- REAL WORLD configuration, which is attached to the physics engine\n",
    "# accessing this directly would be cheating!\n",
    "RealWorld = ry.Config()\n",
    "RealWorld.addFile(\"../../scenarios/ex01.g\")"
   ]
  },
  {
   "cell_type": "code",
   "execution_count": 3,
   "metadata": {},
   "outputs": [
    {
     "data": {
      "text/plain": [
       "<libry.CameraViewSensor at 0x7fd79df8d730>"
      ]
     },
     "execution_count": 3,
     "metadata": {},
     "output_type": "execute_result"
    }
   ],
   "source": [
    "S = RealWorld.simulation(ry.SimulatorEngine.bullet, True)\n",
    "S.addSensor(\"camera\")"
   ]
  },
  {
   "cell_type": "code",
   "execution_count": 4,
   "metadata": {},
   "outputs": [],
   "source": [
    "#-- MODEL WORLD configuration, this is the data structure on which you represent\n",
    "# what you know about the world and compute things (controls, contacts, etc)\n",
    "C = ry.Config()\n",
    "#D = C.view() #rather use the ConfiguratioViewer below\n",
    "C.addFile(\"../../scenarios/pandasTable.g\")\n",
    "C.view()"
   ]
  },
  {
   "cell_type": "code",
   "execution_count": 5,
   "metadata": {},
   "outputs": [],
   "source": [
    "# add a new frame to the MODEL configuration\n",
    "# (Perception will later have to do exactly this: add perceived objects to the model)\n",
    "obj = C.addFrame(\"object\")"
   ]
  },
  {
   "cell_type": "code",
   "execution_count": 6,
   "metadata": {},
   "outputs": [],
   "source": [
    "# set frame parameters, associate a shape to the frame, \n",
    "obj.setPosition([.8,0,1.5])\n",
    "obj.setQuaternion([1,0,.5,0])\n",
    "obj.setShape(ry.ST.capsule, [.2,.02])\n",
    "obj.setColor([1,0,1])\n",
    "\n",
    "from pyquaternion import Quaternion\n"
   ]
  },
  {
   "cell_type": "code",
   "execution_count": 7,
   "metadata": {},
   "outputs": [],
   "source": [
    "#print(C.getFrameNames())\n",
    "marker = C.addFrame(\"marker\",\"object\")\n"
   ]
  },
  {
   "cell_type": "code",
   "execution_count": 8,
   "metadata": {},
   "outputs": [],
   "source": [
    "#-- the following is the simulation loop\n",
    "tau = .01\n",
    "\n",
    "\n",
    "\n",
    "q0 = Quaternion(axis=[0,0,1],angle=3.14159265 /2)\n",
    "q1 = Quaternion(axis=[0,1,0],angle=-3.14159265 /2)\n",
    "q2 = Quaternion(axis=[1,0,0],angle=0*3.14159265 /2)\n",
    "qaternion= q1 * q0 * q2\n",
    "marker.setRelativeQuaternion(qaternion.normalised.elements)\n",
    "\n",
    "for t in range(300):\n",
    "    time.sleep(0.01)\n",
    "    q = S.get_q()\n",
    "    #some good old fashioned IK\n",
    "    C.setJointState(q) #set your robot model to match the real q\n",
    "\n",
    "    [y,J] = C.evalFeature(ry.FS.poseDiff, [\"R_gripper\", \"marker\"])\n",
    "    vel = J.T @ np.linalg.inv(J@J.T + 1e-2*np.eye(y.shape[0])) @ (-y);\n",
    "\n",
    "    #send velocity controls to the simulation\n",
    "    S.step(vel, tau, ry.ControlMode.velocity)"
   ]
  },
  {
   "cell_type": "code",
   "execution_count": 9,
   "metadata": {},
   "outputs": [],
   "source": [
    "\n",
    "m_r = C.addFrame(\"marker_r\")\n",
    "m_l = C.addFrame(\"marker_l\")"
   ]
  },
  {
   "cell_type": "code",
   "execution_count": 23,
   "metadata": {},
   "outputs": [],
   "source": [
    "#-- the following is the simulation loop\n",
    "tau = .01\n",
    "\n",
    "\n",
    "m_r.setPosition([.7,0,1.5])\n",
    "m_l.setPosition([-.7,0,1.5])\n",
    "\n",
    "m_r.setShape(ry.ST.marker, [.1])\n",
    "m_l.setShape(ry.ST.marker, [.1])\n",
    "\n",
    "for t in range(700):\n",
    "    time.sleep(0.01)\n",
    "\n",
    "    q = S.get_q()\n",
    "    #some good old fashioned IK\n",
    "    C.setJointState(q) #set your robot model to match the real q\n",
    "\n",
    "    m_l.setPosition([-.7,0,1.5]+np.array([0.1*np.sin(t*np.pi/200),0,0.1*np.cos(t*np.pi/200)]))\n",
    "    m_r.setPosition([.7,0,1.5]+np.array([0.1*np.sin(t*np.pi/200),0,0.1*np.cos(t*np.pi/200)]))\n",
    "\n",
    "\n",
    "\n",
    "    [y1,J1] = C.evalFeature(ry.FS.positionDiff, [\"R_gripper\", \"marker_r\"])\n",
    "    [y2,J2] = C.evalFeature(ry.FS.positionDiff, [\"L_gripper\", \"marker_l\"])\n",
    "\n",
    "   #stack all tasks\n",
    "    y = np.block([y1, y2])\n",
    "    J = np.block([[J1],[J2]])\n",
    "\n",
    "    vel = J.T @ np.linalg.inv(J@J.T + 1e-2*np.eye(y.shape[0])) @ (-y);\n",
    "\n",
    "    #send velocity controls to the simulation\n",
    "    S.step(vel, tau, ry.ControlMode.velocity)\n"
   ]
  },
  {
   "cell_type": "code",
   "execution_count": null,
   "metadata": {},
   "outputs": [],
   "source": []
  },
  {
   "cell_type": "code",
   "execution_count": null,
   "metadata": {},
   "outputs": [],
   "source": []
  }
 ],
 "metadata": {
  "interpreter": {
   "hash": "916dbcbb3f70747c44a77c7bcd40155683ae19c65e1c03b4aa3499c5328201f1"
  },
  "kernelspec": {
   "display_name": "Python 3.8.10 64-bit",
   "name": "python3"
  },
  "language_info": {
   "codemirror_mode": {
    "name": "ipython",
    "version": 3
   },
   "file_extension": ".py",
   "mimetype": "text/x-python",
   "name": "python",
   "nbconvert_exporter": "python",
   "pygments_lexer": "ipython3",
   "version": "3.8.10"
  }
 },
 "nbformat": 4,
 "nbformat_minor": 4
}
