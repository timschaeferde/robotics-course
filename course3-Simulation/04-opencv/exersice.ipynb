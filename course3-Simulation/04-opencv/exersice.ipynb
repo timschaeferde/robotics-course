{
 "cells": [
  {
   "cell_type": "code",
   "execution_count": 1,
   "metadata": {},
   "outputs": [
    {
     "name": "stdout",
     "output_type": "stream",
     "text": [
      "**ry-c++-log** /home/tim/git/robotics-course_tim/rai/rai/ry/ry.cpp:init_LogToPythonConsole:34(0) initializing ry log callback** INFO:/home/tim/git/robotics-course_tim/rai/rai/Core/util.cpp:initCmdLine:602(1) ** cmd line arguments: 'rai-pybind -python'\n",
      "\n",
      "** INFO:/home/tim/git/robotics-course_tim/rai/rai/Core/util.cpp:initCmdLine:606(1) ** run path: '/home/tim/git/robotics-course_tim/course3-Simulation/04-opencv'\n",
      "** INFO:/home/tim/git/robotics-course_tim/rai/rai/Core/graph.cpp:initParameters:1365(1) ** parsed parameters:\n",
      "{python}\n",
      "\n",
      "\n",
      "** INFO:/home/tim/git/robotics-course_tim/rai/rai/ry/ry.cpp:init_LogToPythonConsole:34(0) initializing ry log callback\n",
      "4.5.3\n"
     ]
    }
   ],
   "source": [
    "import sys\n",
    "sys.path.append('../../build')\n",
    "import cv2 as cv\n",
    "import numpy as np\n",
    "import libry as ry\n",
    "import time\n",
    "print(cv.__version__)"
   ]
  },
  {
   "cell_type": "code",
   "execution_count": null,
   "metadata": {},
   "outputs": [],
   "source": []
  },
  {
   "cell_type": "code",
   "execution_count": 2,
   "metadata": {},
   "outputs": [],
   "source": [
    "#-- Add REAL WORLD configuration and camera\n",
    "RealWorld = ry.Config()\n",
    "RealWorld.addFile(\"../../scenarios/ex03_redball.g\")\n",
    "S = RealWorld.simulation(ry.SimulatorEngine.bullet, True)\n",
    "S.addSensor(\"camera\")\n",
    "\n",
    "C = ry.Config()\n",
    "C.addFile('../../scenarios/pandasTable.g')\n",
    "D = C.view()\n",
    "cameraFrame = C.frame(\"camera\")"
   ]
  },
  {
   "cell_type": "code",
   "execution_count": 3,
   "metadata": {},
   "outputs": [],
   "source": [
    "#the focal length\n",
    "f = 0.895\n",
    "f = f * 360.\n",
    "#the relative pose of the camera\n",
    "# pcl.setRelativePose('d(-90 0 0 1) t(-.08 .205 .115) d(26 1 0 0) d(-1 0 1 0) d(6 0 0 1) ')\n",
    "fxfypxpy = [f, f, 320., 180.]"
   ]
  },
  {
   "cell_type": "code",
   "execution_count": 4,
   "metadata": {},
   "outputs": [],
   "source": [
    "points = []\n",
    "tau = .01\n",
    "\n",
    "for t in range(300):\n",
    "    time.sleep(0.01)\n",
    "\n",
    "    #grab sensor readings from the simulation\n",
    "    q = S.get_q()\n",
    "    if t%10 == 0:\n",
    "        [rgb, depth] = S.getImageAndDepth()  #we don't need images with 100Hz, rendering is slow\n",
    "        points = S.depthData2pointCloud(depth, fxfypxpy)\n",
    "        cameraFrame.setPointCloud(points, rgb)\n",
    "            \n",
    "        if len(rgb)>0: cv.imshow('OPENCV - rgb', cv.cvtColor(rgb, cv.COLOR_BGR2RGB))\n",
    "        if len(depth)>0: cv.imshow('OPENCV - depth', 0.5* depth)\n",
    "\n",
    "        if cv.waitKey(1) & 0xFF == ord('q'):\n",
    "            break\n",
    "        \n",
    "    S.step([], tau, ry.ControlMode.none)\n",
    "\n",
    "\n"
   ]
  },
  {
   "cell_type": "code",
   "execution_count": 5,
   "metadata": {},
   "outputs": [],
   "source": [
    "rgb = cv.cvtColor(rgb, cv.COLOR_BGR2RGB)\n",
    "hsv = cv.cvtColor(rgb, cv.COLOR_BGR2HSV)\n",
    "mask1 = cv.inRange(hsv, (0, 120, 70), (10, 255, 255))\n",
    "mask2 = cv.inRange(hsv, (170, 120, 70), (180, 255, 255))\n",
    "#if len(mask1)>0: cv.imshow('OPENCV - mask1',  mask1)\n",
    "#if len(mask2)>0: cv.imshow('OPENCV - mask2',  mask2)\n",
    "mask = mask1 + mask2\n",
    "# create empty mask\n",
    "filtered_mask = np.zeros(mask.shape, np.uint8)\n",
    "#if len(filtered_mask)>0: cv.imshow('OPENCV - filtered_mask',  filtered_mask)\n",
    "# find contours\n",
    "contours, _ = cv.findContours(mask, cv.RETR_LIST, cv.CHAIN_APPROX_SIMPLE)\n",
    "if len(contours) > 0:\n",
    "    # find largest contour\n",
    "    largest, idx = 0., None\n",
    "    for i, c in enumerate(contours):\n",
    "        # remove noise\n",
    "        if c.shape[0] < 10: continue\n",
    "        if cv.contourArea(c) > largest:\n",
    "            largest = cv.contourArea(c)\n",
    "            idx = i\n",
    "    cv.drawContours(filtered_mask, contours[idx], -1, (255, 255, 255), -1)\n"
   ]
  },
  {
   "cell_type": "code",
   "execution_count": 6,
   "metadata": {},
   "outputs": [],
   "source": [
    "    # if len(mask) > 0: cv.imshow('OPENCV - mask1', mask * 255)\n",
    "    # cv.waitKey(100)\n",
    "    mask_pixels = np.where(filtered_mask > 0)\n",
    "    pointcloud = np.empty((mask_pixels[0].shape[0], 3))\n",
    "    pointcloud[:, 0] = mask_pixels[1]  # x pixels\n",
    "    pointcloud[:, 1] = mask_pixels[0]  # y pixels\n",
    "    pointcloud[:, 2] = depth[mask_pixels[0], mask_pixels[1]]\n"
   ]
  },
  {
   "cell_type": "code",
   "execution_count": 7,
   "metadata": {},
   "outputs": [],
   "source": [
    "    points = np.empty(np.shape(pointcloud))\n",
    "    for i, p in enumerate(pointcloud):\n",
    "        x = p[0]\n",
    "        y = p[1]\n",
    "        d = p[2]\n",
    "\n",
    "        px = fxfypxpy[-2]\n",
    "        py = fxfypxpy[-1]\n",
    "\n",
    "        x_ = d * (x - px) / fxfypxpy[0]\n",
    "        y_ = -d * (y - py) / fxfypxpy[1]\n",
    "        z_ = -d\n",
    "        points[i] = [x_, y_, z_]"
   ]
  },
  {
   "cell_type": "code",
   "execution_count": 8,
   "metadata": {},
   "outputs": [],
   "source": [
    "position = points.mean(axis=0)"
   ]
  },
  {
   "cell_type": "code",
   "execution_count": 9,
   "metadata": {},
   "outputs": [],
   "source": [
    "mk_obj1 = C.addFrame(\"mk_obj1\",\"camera\")\n",
    "mk_obj1.setShape(ry.ST.marker,[.5])\n",
    "\n",
    "mk_obj1.setRelativePosition(position)\n"
   ]
  },
  {
   "cell_type": "code",
   "execution_count": 10,
   "metadata": {},
   "outputs": [],
   "source": [
    "cv.destroyAllWindows()"
   ]
  },
  {
   "cell_type": "code",
   "execution_count": null,
   "metadata": {},
   "outputs": [],
   "source": [
    "import os\n",
    "os._exit(0)"
   ]
  }
 ],
 "metadata": {
  "interpreter": {
   "hash": "151e6003ef3448e9dad8ac998da13fd7f08f405b4e0b7cacbbaf31913d5c8a90"
  },
  "kernelspec": {
   "display_name": "Python 3.8.10 64-bit ('rai_env': venv)",
   "name": "python3"
  },
  "language_info": {
   "codemirror_mode": {
    "name": "ipython",
    "version": 3
   },
   "file_extension": ".py",
   "mimetype": "text/x-python",
   "name": "python",
   "nbconvert_exporter": "python",
   "pygments_lexer": "ipython3",
   "version": "3.8.10"
  }
 },
 "nbformat": 4,
 "nbformat_minor": 4
}
