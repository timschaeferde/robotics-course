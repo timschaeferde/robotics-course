{
 "cells": [
  {
   "cell_type": "markdown",
   "metadata": {},
   "source": [
    "## Using Komo for IK"
   ]
  },
  {
   "cell_type": "code",
   "execution_count": 1,
   "metadata": {},
   "outputs": [
    {
     "name": "stdout",
     "output_type": "stream",
     "text": [
      "** INFO:/home/tim/git/robotics-course_tim/rai/rai/Core/util.cpp:initCmdLine:602(1) ** cmd line arguments: 'rai-pybind -python'\n",
      "**ry-c++-log** /home/tim/git/robotics-course_tim/rai/rai/ry/ry.cpp:init_LogToPythonConsole:34(0) initializing ry log callback\n",
      "** INFO:/home/tim/git/robotics-course_tim/rai/rai/Core/util.cpp:initCmdLine:606(1) ** run path: '/home/tim/git/robotics-course_tim/course3-Simulation/04-opencv'\n",
      "** INFO:/home/tim/git/robotics-course_tim/rai/rai/Core/graph.cpp:initParameters:1365(1) ** parsed parameters:\n",
      "{python}\n",
      "\n",
      "\n",
      "** INFO:/home/tim/git/robotics-course_tim/rai/rai/ry/ry.cpp:init_LogToPythonConsole:34(0) initializing ry log callback\n"
     ]
    }
   ],
   "source": [
    "import sys\n",
    "sys.path.append('../../build')\n",
    "import numpy as np\n",
    "import libry as ry\n",
    "import time\n",
    "import cv2 as cv"
   ]
  },
  {
   "cell_type": "code",
   "execution_count": 2,
   "metadata": {},
   "outputs": [],
   "source": [
    "# Here we do not need a simulation world\n",
    "# adding a configuration world\n",
    "C = ry.Config()\n",
    "C.addFile(\"../../scenarios/pandasTable.g\")\n",
    "D = C.view()\n",
    "\n",
    "q_0 = C.getJointState()"
   ]
  },
  {
   "cell_type": "code",
   "execution_count": 3,
   "metadata": {},
   "outputs": [],
   "source": [
    "obj = C.addFrame(\"object\")\n",
    "obj.setPosition([.3,0,.73])\n",
    "#obj.setQuaternion([1,0,1,0])\n",
    "obj.setShape(ry.ST.ssBox, [.2,.05,0.04,0.01])\n",
    "obj.setColor([1,1,0])\n",
    "obj.setContact(1)\n"
   ]
  },
  {
   "cell_type": "code",
   "execution_count": 4,
   "metadata": {},
   "outputs": [],
   "source": [
    "mk_obj = C.addFrame(\"mk_obj\",\"object\")\n",
    "mk_obj.setShape(ry.ST.marker,[0.2])\n"
   ]
  },
  {
   "cell_type": "code",
   "execution_count": 5,
   "metadata": {},
   "outputs": [],
   "source": [
    "mk_gripper = C.addFrame(\"mk_gripper\",\"R_gripper\")\n",
    "mk_gripper.setShape(ry.ST.marker,[0.1])\n",
    "\n",
    "mk_real = C.addFrame(\"mk_real_gripper\")\n",
    "mk_real.setShape(ry.ST.marker,[.1])\n"
   ]
  },
  {
   "cell_type": "code",
   "execution_count": 6,
   "metadata": {},
   "outputs": [],
   "source": [
    "#Let's edit the real world before we create the simulation\n",
    "RealWorld = ry.Config()\n",
    "RealWorld.addFile(\"../../scenarios/ex02_4.g\")\n",
    "S = RealWorld.simulation(ry.SimulatorEngine.bullet, True)\n",
    "S.addSensor(\"camera\")\n",
    "\n",
    "cameraFrame = C.frame(\"camera\")"
   ]
  },
  {
   "cell_type": "code",
   "execution_count": 7,
   "metadata": {},
   "outputs": [],
   "source": [
    "#the focal length\n",
    "f = 0.895\n",
    "f = f * 360.\n",
    "#the relative pose of the camera\n",
    "# pcl.setRelativePose('d(-90 0 0 1) t(-.08 .205 .115) d(26 1 0 0) d(-1 0 1 0) d(6 0 0 1) ')\n",
    "fxfypxpy = [f, f, 320., 180.]"
   ]
  },
  {
   "cell_type": "code",
   "execution_count": 8,
   "metadata": {},
   "outputs": [],
   "source": [
    "#-- the following is the simulation loop\n",
    "tau = .01\n",
    "\n",
    "for t in range(50):\n",
    "    time.sleep(0.005)\n",
    "    q = S.get_q()\n",
    "    [rgb, depth] = S.getImageAndDepth()  #we don't need images with 100Hz, rendering is slow\n",
    "    points = S.depthData2pointCloud(depth, fxfypxpy)\n",
    "    cameraFrame.setPointCloud(points, rgb)\n",
    "    #some good old fashioned IK\n",
    "    C.setJointState(q) #set your robot model to match the real q\n",
    "    C.setFrameState(RealWorld.getFrameState(\"obj1\"),[\"object\"])\n",
    "    #send velocity controls to the simulation\n",
    "    S.step(np.zeros_like(q), tau, ry.ControlMode.velocity)"
   ]
  },
  {
   "cell_type": "code",
   "execution_count": 9,
   "metadata": {},
   "outputs": [
    {
     "name": "stdout",
     "output_type": "stream",
     "text": [
      "30 (30, 101, 7)\n",
      "** KOMO::run solver:sparse collisions:1 x-dim:420 T:30 k:2 phases:1 stepsPerPhase:30 tau:0.166667  #timeSlices:32 #totalDOFs:420 #frames:3232\n",
      "** optimization time:0.262848 (kin:0.005734 coll:0.18391 feat:0.036736 newton: 0.017726) setJointStateCount:27\n",
      "   sos:4.85679 ineq:0.017037 eq:0.0151144\n"
     ]
    }
   ],
   "source": [
    "\n",
    "\n",
    "# we want to optimize a single step (1 phase, 1 step/phase, duration=1, k_order=1)\n",
    "komo = C.komo_path(1.,30, 5., True)\n",
    "komo.addObjective([1.], ry.FS.positionDiff, [\"R_gripper\", \"object\"], ry.OT.sos, [1e2])\n",
    "komo.addObjective([1.], ry.FS.qItself, [], ry.OT.eq, [1e2], order=1)\n",
    "komo.addObjective([.7,1.], ry.FS.position, [\"R_gripper\"], ry.OT.eq, [1e2],[-.0,-.1,-.0], order=2)\n",
    "komo.addObjective([], ry.FS.distance, [\"R_gripper\", \"object\"], ry.OT.ineq, [1e2],[-.0])\n",
    "komo.addObjective([1.], \n",
    "                ry.FS.scalarProductXX, \n",
    "                [\"object\",\"R_gripper\"], \n",
    "                ry.OT.eq, \n",
    "                [1e2],\n",
    "                [0]);\n",
    "komo.addObjective([1.], \n",
    "                ry.FS.scalarProductZZ, \n",
    "                [\"object\",\"R_gripper\"], \n",
    "                ry.OT.eq, \n",
    "                [1e2],\n",
    "                [1]);\n",
    "print(komo.getT(),komo.getPathFrames().shape)\n",
    "\n",
    "komo.optimize()\n",
    "#komo.getReport()\n",
    "#V = komo.view_play(False, 1)\n",
    "\n"
   ]
  },
  {
   "cell_type": "code",
   "execution_count": 10,
   "metadata": {},
   "outputs": [],
   "source": [
    "\n"
   ]
  },
  {
   "cell_type": "code",
   "execution_count": 11,
   "metadata": {},
   "outputs": [],
   "source": [
    "background = None\n",
    "\n",
    "for frame,tau in zip(komo.getPathFrames(),komo.getPathTau()):\n",
    "    time.sleep(tau)\n",
    "    \n",
    "    [rgb, depth] = S.getImageAndDepth()  #we don't need images with 100Hz, rendering is slow\n",
    "    points = S.depthData2pointCloud(depth, fxfypxpy)\n",
    "    cameraFrame.setPointCloud(points, rgb)\n",
    "\n",
    "    background = track_background(depth,background)\n",
    "    \n",
    "    C.setFrameState(frame)\n",
    "    \n",
    "    if len(rgb)>0: cv.imshow('OPENCV - rgb', cv.cvtColor(rgb, cv.COLOR_BGR2RGB))\n",
    "    \n",
    "    if len(depth)>0: cv.imshow('OPENCV - depth', 0.5* depth)\n",
    "\n",
    "    q= C.getJointState()\n",
    "\n",
    "    #send position to the simulation\n",
    "    S.step(q, tau, ry.ControlMode.position)"
   ]
  },
  {
   "cell_type": "code",
   "execution_count": 1,
   "metadata": {},
   "outputs": [
    {
     "ename": "NameError",
     "evalue": "name 'cv' is not defined",
     "output_type": "error",
     "traceback": [
      "\u001b[0;31m---------------------------------------------------------------------------\u001b[0m",
      "\u001b[0;31mNameError\u001b[0m                                 Traceback (most recent call last)",
      "\u001b[0;32m/tmp/ipykernel_93170/4008207823.py\u001b[0m in \u001b[0;36m<module>\u001b[0;34m\u001b[0m\n\u001b[0;32m----> 1\u001b[0;31m \u001b[0mcv\u001b[0m\u001b[0;34m.\u001b[0m\u001b[0mdestroyAllWindows\u001b[0m\u001b[0;34m(\u001b[0m\u001b[0;34m)\u001b[0m\u001b[0;34m\u001b[0m\u001b[0;34m\u001b[0m\u001b[0m\n\u001b[0m",
      "\u001b[0;31mNameError\u001b[0m: name 'cv' is not defined"
     ]
    }
   ],
   "source": [
    "cv.destroyAllWindows()"
   ]
  },
  {
   "cell_type": "code",
   "execution_count": null,
   "metadata": {},
   "outputs": [],
   "source": [
    "import os\n",
    "os._exit(0)"
   ]
  }
 ],
 "metadata": {
  "interpreter": {
   "hash": "151e6003ef3448e9dad8ac998da13fd7f08f405b4e0b7cacbbaf31913d5c8a90"
  },
  "kernelspec": {
   "display_name": "Python 3.8.10 64-bit ('rai_env': venv)",
   "name": "python3"
  },
  "language_info": {
   "codemirror_mode": {
    "name": "ipython",
    "version": 3
   },
   "file_extension": ".py",
   "mimetype": "text/x-python",
   "name": "python",
   "nbconvert_exporter": "python",
   "pygments_lexer": "ipython3",
   "version": "3.8.10"
  }
 },
 "nbformat": 4,
 "nbformat_minor": 4
}
