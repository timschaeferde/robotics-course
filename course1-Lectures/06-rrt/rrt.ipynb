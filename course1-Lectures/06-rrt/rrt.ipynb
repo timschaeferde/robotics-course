{
 "cells": [
  {
   "cell_type": "code",
   "execution_count": 1,
   "metadata": {},
   "outputs": [],
   "source": [
    "%matplotlib inline\n",
    "import matplotlib\n",
    "import numpy as np\n",
    "import matplotlib.pyplot as plt\n",
    "import sys\n",
    "sys.path.append('../../build')\n",
    "import libry as lry\n",
    "import time\n",
    "import copy\n",
    "import random"
   ]
  },
  {
   "cell_type": "code",
   "execution_count": 2,
   "metadata": {},
   "outputs": [],
   "source": [
    "class RRT:\n",
    "    def __init__(self, q0, stepsize, K):\n",
    "        self._stepsize = stepsize\n",
    "        self.parent = []\n",
    "        self.ann = []  # one could use a spatial data structure for speedup\n",
    "        # add q0 to tree\n",
    "        self.ann.append(q0)\n",
    "        self.parent.append(0)  # q0 has itself as parent \n",
    "        self.lines = []\n",
    "        self.F = K.feature(lry.FS.position, [\"peg\"])\n",
    "            \n",
    "    def getProposalTowards(self, q):\n",
    "        array = np.array(self.ann)\n",
    "        self.nearest = (np.linalg.norm(array - q, axis=1)).argmin()\n",
    "        diff = q - self.ann[self.nearest]\n",
    "        dist = np.linalg.norm(diff)\n",
    "        qr = self.ann[self.nearest] + self._stepsize/dist * diff\n",
    "        return dist, qr\n",
    "\n",
    "    def add(self, q):\n",
    "        self.ann.append(copy.deepcopy(q))\n",
    "        self.parent.append(self.nearest)\n",
    "\n",
    "    def addLineDraw(self, q, K):\n",
    "        # We can't draw the edge in the 7-dim joint space!\n",
    "        # But we can draw a projected edge in 3D endeffector position space\n",
    "        K.setJointState(self.ann[self.nearest])\n",
    "        y_from, J = self.F.eval(K)\n",
    "        K.setJointState(q)\n",
    "        y_to, J = self.F.eval(K)\n",
    "        self.lines.append(y_from)\n",
    "        self.lines.append(y_to)\n",
    "    \n",
    "    def getNearest(self):\n",
    "        return self.nearest\n",
    "    \n",
    "    def getParent(self, i):\n",
    "        return self.parent[i]\n",
    "    \n",
    "    def getNode(self, i):\n",
    "        return self.ann[i]\n",
    "    \n",
    "    def getRandomNode(self):\n",
    "        return random.choice(self.ann)\n",
    "    \n",
    "    def getNumberNodes(self):\n",
    "        return len(self.ann)\n",
    "    "
   ]
  },
  {
   "cell_type": "code",
   "execution_count": 3,
   "metadata": {},
   "outputs": [],
   "source": [
    "K = lry.Config()\n",
    "D = K.view()\n",
    "K.clear();\n",
    "K.addFile('pegInAHole.g')\n",
    "q0 = K.getJointState()\n",
    "qT = np.array([0.945499, 0.431195, -1.97155, 0.623969, 2.22355, -0.665206, -1.48356])\n",
    "q = q0"
   ]
  },
  {
   "cell_type": "code",
   "execution_count": 4,
   "metadata": {},
   "outputs": [],
   "source": [
    "K.setJointState(qT)  # this shows the goal position"
   ]
  },
  {
   "cell_type": "code",
   "execution_count": 5,
   "metadata": {},
   "outputs": [],
   "source": [
    "K.setJointState(q0)  # this shows the start position"
   ]
  },
  {
   "cell_type": "code",
   "execution_count": 6,
   "metadata": {},
   "outputs": [
    {
     "ename": "RuntimeError",
     "evalue": "kin_swift.cpp:SwiftInterface:82(-2) CHECK failed: 's->mesh().V.d0' the mesh must have been created earlier -- has size zero!",
     "output_type": "error",
     "traceback": [
      "\u001b[0;31m---------------------------------------------------------------------------\u001b[0m",
      "\u001b[0;31mRuntimeError\u001b[0m                              Traceback (most recent call last)",
      "\u001b[0;32m<ipython-input-6-0e5fad1710b9>\u001b[0m in \u001b[0;36m<module>\u001b[0;34m\u001b[0m\n\u001b[1;32m     21\u001b[0m \u001b[0;34m\u001b[0m\u001b[0m\n\u001b[1;32m     22\u001b[0m     \u001b[0;31m# check if q is collision free\u001b[0m\u001b[0;34m\u001b[0m\u001b[0;34m\u001b[0m\u001b[0;34m\u001b[0m\u001b[0m\n\u001b[0;32m---> 23\u001b[0;31m     \u001b[0mK\u001b[0m\u001b[0;34m.\u001b[0m\u001b[0mcomputeCollisions\u001b[0m\u001b[0;34m(\u001b[0m\u001b[0;34m)\u001b[0m\u001b[0;34m\u001b[0m\u001b[0;34m\u001b[0m\u001b[0m\n\u001b[0m\u001b[1;32m     24\u001b[0m     \u001b[0my_col\u001b[0m \u001b[0;34m=\u001b[0m \u001b[0mcoll\u001b[0m\u001b[0;34m.\u001b[0m\u001b[0meval\u001b[0m\u001b[0;34m(\u001b[0m\u001b[0mK\u001b[0m\u001b[0;34m)\u001b[0m\u001b[0;34m[\u001b[0m\u001b[0;36m0\u001b[0m\u001b[0;34m]\u001b[0m\u001b[0;34m\u001b[0m\u001b[0;34m\u001b[0m\u001b[0m\n\u001b[1;32m     25\u001b[0m     \u001b[0;32mif\u001b[0m \u001b[0my_col\u001b[0m \u001b[0;34m<=\u001b[0m \u001b[0;36m1e-10\u001b[0m\u001b[0;34m:\u001b[0m\u001b[0;34m\u001b[0m\u001b[0;34m\u001b[0m\u001b[0m\n",
      "\u001b[0;31mRuntimeError\u001b[0m: kin_swift.cpp:SwiftInterface:82(-2) CHECK failed: 's->mesh().V.d0' the mesh must have been created earlier -- has size zero!"
     ]
    }
   ],
   "source": [
    "K.setJointState(q0) # start at q0\n",
    "\n",
    "stepsize = .1\n",
    "\n",
    "rrt0 = RRT(q0, stepsize, K)\n",
    "\n",
    "K.addObject(name=\"lines0\", shape=lry.ST.mesh)  # Add a mesh for line drawing to the world\n",
    "lineframe = K.frame(\"lines0\")\n",
    "\n",
    "success = False\n",
    "coll = K.feature(lry.FS.accumulatedCollisions, [])    \n",
    "\n",
    "for i in range(0, 10000):\n",
    "    \n",
    "    # let rrt0 grow in random direction\n",
    "    q = np.random.uniform(-2*np.pi, 2*np.pi, len(q))\n",
    "\n",
    "    # compute q_new\n",
    "    dist, q = rrt0.getProposalTowards(q)\n",
    "    K.setJointState(q)\n",
    "\n",
    "    # check if q is collision free\n",
    "    K.computeCollisions()\n",
    "    y_col = coll.eval(K)[0]    \n",
    "    if y_col <= 1e-10:\n",
    "        rrt0.add(q)\n",
    "        rrt0.addLineDraw(q, K)\n",
    "\n",
    "    # some output\n",
    "    if i%100 == 0:\n",
    "        K.setJointState(q);\n",
    "        lineframe.setMeshAsLines(np.array(rrt0.lines).flatten())  # update the mesh with lines (sets all the lines)\n",
    "        time.sleep(1)  # uncomment if you do not want to pause\n",
    "        print(\"\\rRRT samples=\" + str(i) + \" tree sizes = \" + str(rrt0.getNumberNodes()))\n",
    "\n",
    "        "
   ]
  },
  {
   "cell_type": "code",
   "execution_count": null,
   "metadata": {},
   "outputs": [],
   "source": []
  },
  {
   "cell_type": "code",
   "execution_count": null,
   "metadata": {},
   "outputs": [],
   "source": []
  }
 ],
 "metadata": {
  "kernelspec": {
   "display_name": "Python 3",
   "language": "python",
   "name": "python3"
  },
  "language_info": {
   "codemirror_mode": {
    "name": "ipython",
    "version": 3
   },
   "file_extension": ".py",
   "mimetype": "text/x-python",
   "name": "python",
   "nbconvert_exporter": "python",
   "pygments_lexer": "ipython3",
   "version": "3.6.9"
  }
 },
 "nbformat": 4,
 "nbformat_minor": 2
}
