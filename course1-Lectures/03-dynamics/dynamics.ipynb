{
 "cells": [
  {
   "cell_type": "code",
   "execution_count": null,
   "metadata": {},
   "outputs": [],
   "source": [
    "%matplotlib inline\n",
    "import matplotlib\n",
    "import numpy as np\n",
    "from numpy.linalg import inv\n",
    "import matplotlib.pyplot as plt\n",
    "import sys\n",
    "sys.path.append('../../build')\n",
    "import libry as lry\n",
    "import time\n",
    "import copy"
   ]
  },
  {
   "cell_type": "code",
   "execution_count": null,
   "metadata": {},
   "outputs": [],
   "source": [
    "# Load config, file and viewer\n",
    "K = lry.Config()\n",
    "K.clear();\n",
    "K.addFile('pegArm.g')\n",
    "K.sortFrames();\n",
    "D = K.view()"
   ]
  },
  {
   "cell_type": "code",
   "execution_count": null,
   "metadata": {},
   "outputs": [],
   "source": [
    "# Initialize variables, set start state\n",
    "noise = .01\n",
    "gravity = True\n",
    "n = K.getJointDimension()\n",
    "tau = .01\n",
    "N = 500\n",
    "T = N*tau\n",
    "\n",
    "qdot = np.zeros(n)\n",
    "q = np.zeros(n) + 0.4\n",
    "\n",
    "K.setJointState(q)\n",
    "\n",
    "q_goal = np.zeros(n)\n",
    "q0 = copy.deepcopy(q)\n",
    "\n",
    "q_hist = np.zeros((N, n))"
   ]
  },
  {
   "cell_type": "code",
   "execution_count": null,
   "metadata": {},
   "outputs": [],
   "source": [
    "for i in range(N):\n",
    "    t = i * tau\n",
    "    u = np.zeros(n)  # no controller torques\n",
    "\n",
    "    # b) compute desired position, velocity and acceleration with sine motion profile\n",
    "    \n",
    "    \n",
    "    # c) PD controller\n",
    "    \n",
    "    \n",
    "    # d) PID controller\n",
    "    \n",
    "    \n",
    "    # e) Inverse dynamics feedforward control\n",
    "    M, F = K.equationOfMotion(qdot, gravity);\n",
    "\n",
    "    \n",
    "    \n",
    "    # dynamic simulation (simple Euler integration of the system dynamics, look into the code)\n",
    "    qdot = K.stepDynamics(qdot, u, tau, noise, gravity);\n",
    "    time.sleep(tau)\n",
    "    q = K.getJointState()\n",
    "    print (\" t=\" + str(tau*t) + \"sec E=\" + str(K.getEnergy(qdot)) + \"  q = \" + str(q))\n",
    "    q_hist[i] = q\n",
    "    "
   ]
  },
  {
   "cell_type": "code",
   "execution_count": null,
   "metadata": {},
   "outputs": [],
   "source": [
    "# plot q\n",
    "plt.plot(q_hist)\n",
    "plt.show()"
   ]
  },
  {
   "cell_type": "code",
   "execution_count": null,
   "metadata": {},
   "outputs": [],
   "source": []
  }
 ],
 "metadata": {
  "kernelspec": {
   "display_name": "Python 3",
   "language": "python",
   "name": "python3"
  },
  "language_info": {
   "codemirror_mode": {
    "name": "ipython",
    "version": 3
   },
   "file_extension": ".py",
   "mimetype": "text/x-python",
   "name": "python",
   "nbconvert_exporter": "python",
   "pygments_lexer": "ipython3",
   "version": "3.6.9"
  }
 },
 "nbformat": 4,
 "nbformat_minor": 2
}
