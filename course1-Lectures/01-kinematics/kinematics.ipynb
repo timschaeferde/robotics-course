{
 "cells": [
  {
   "cell_type": "code",
   "execution_count": null,
   "metadata": {},
   "outputs": [],
   "source": [
    "%matplotlib inline\n",
    "import matplotlib\n",
    "import numpy as np\n",
    "from numpy.linalg import inv\n",
    "import matplotlib.pyplot as plt\n",
    "import sys\n",
    "sys.path.append('../../build')\n",
    "import libry as lry"
   ]
  },
  {
   "cell_type": "markdown",
   "metadata": {},
   "source": [
    "Loading the environment:"
   ]
  },
  {
   "cell_type": "code",
   "execution_count": null,
   "metadata": {},
   "outputs": [],
   "source": [
    "K = lry.Config()\n",
    "D = K.view()\n",
    "K.clear();\n",
    "K.addFile('human.g')"
   ]
  },
  {
   "cell_type": "markdown",
   "metadata": {},
   "source": [
    "1st task: Robot reaching towards y_target:"
   ]
  },
  {
   "cell_type": "code",
   "execution_count": null,
   "metadata": {},
   "outputs": [],
   "source": [
    "n = K.getJointDimension()\n",
    "q = K.getJointState()\n",
    "w = 1e-4\n",
    "W = w * np.identity(n)  # W is equal the ID_n matrix times scalar w\n",
    "    \n",
    "input(\"initial posture, press Enter to continue...\")\n",
    "\n",
    "y_target = [-0.2, -0.4, 1.1]\n",
    "\n",
    "for i in range(5):\n",
    "    # 1st task\n",
    "    F = K.feature(lry.FS.position, [\"|handR\"])  # \"handR\" is the name of the right hand (\"handL\" for the left hand)\n",
    "    y, J = F.eval(K)\n",
    "    \n",
    "    # compute joint updates\n",
    "    q += inv(J.T @ J + W) @ J.T @ (y_target - y)\n",
    "    # NOTATION: J.T is the transpose of J; @ is matrix multiplication (dot product)\n",
    "\n",
    "    # sets joint angles AND computes all frames AND updates display\n",
    "    K.setJointState(q)\n",
    "    \n",
    "    # optional: pause and watch OpenGL\n",
    "    input(\"Press Enter to continue...\")\n",
    "\n",
    "    "
   ]
  },
  {
   "cell_type": "code",
   "execution_count": null,
   "metadata": {},
   "outputs": [],
   "source": [
    "# reset joint state to zeros\n",
    "q = np.zeros(K.getJointDimension())\n",
    "K.setJointState(q)"
   ]
  },
  {
   "cell_type": "code",
   "execution_count": null,
   "metadata": {},
   "outputs": [],
   "source": []
  }
 ],
 "metadata": {
  "kernelspec": {
   "display_name": "Python 3",
   "language": "python",
   "name": "python3"
  },
  "language_info": {
   "codemirror_mode": {
    "name": "ipython",
    "version": 3
   },
   "file_extension": ".py",
   "mimetype": "text/x-python",
   "name": "python",
   "nbconvert_exporter": "python",
   "pygments_lexer": "ipython3",
   "version": "3.6.9"
  }
 },
 "nbformat": 4,
 "nbformat_minor": 2
}
