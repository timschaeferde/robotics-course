{
 "cells": [
  {
   "cell_type": "code",
   "execution_count": null,
   "metadata": {},
   "outputs": [],
   "source": [
    "%matplotlib inline\n",
    "import matplotlib\n",
    "import numpy as np\n",
    "import matplotlib.pyplot as plt\n",
    "import sys\n",
    "sys.path.append('../../build')\n",
    "import libry as lry\n",
    "import time\n",
    "import copy"
   ]
  },
  {
   "cell_type": "code",
   "execution_count": null,
   "metadata": {},
   "outputs": [],
   "source": [
    "K = lry.Config()\n",
    "D = K.view()"
   ]
  },
  {
   "cell_type": "code",
   "execution_count": null,
   "metadata": {},
   "outputs": [],
   "source": [
    "K.clear();\n",
    "K.addFile('human.g')"
   ]
  },
  {
   "cell_type": "code",
   "execution_count": null,
   "metadata": {},
   "outputs": [],
   "source": [
    "def multiTask(num_steps=1000, alpha=1., sigma=0.01):\n",
    "    y_target = [-0.2, -0.4, 1.1]\n",
    "    \n",
    "    # init joint state to zero vector\n",
    "    q = np.zeros(K.getJointDimension())\n",
    "    K.setJointState(q)\n",
    "    \n",
    "    # get position and position Jacobian of right hand\n",
    "    F = K.feature(lry.FS.position, [\"|handR\"])\n",
    "    y, J = F.eval(K)\n",
    "    \n",
    "\n",
    "    y0 = copy.deepcopy(y)\n",
    "    W = np.identity(K.getJointDimension())\n",
    "    \n",
    "    for i in range(num_steps):\n",
    "        Phi = []\n",
    "        PhiJ = []\n",
    "        \n",
    "        # track circle\n",
    "        yt = y_target + .2 * np.array([np.cos(i/20.), 0, np.sin(i/20.)])\n",
    "        \n",
    "        Phi = (yt-y)/sigma\n",
    "        PhiJ = (J/sigma)\n",
    "        \n",
    "        # 1st task: joint should stay close to zero\n",
    "\n",
    "\n",
    "\n",
    "        # 2nd task: left hand should point upwards\n",
    "\n",
    "        \n",
    "\n",
    "        # 3rd task: robot should look at right hand\n",
    "\n",
    "\n",
    "        \n",
    "        q += 0.1 * np.dot(np.dot(np.linalg.inv(np.dot(np.transpose(PhiJ), PhiJ) + W), np.transpose(PhiJ)), Phi)\n",
    "              \n",
    "        \n",
    "        \n",
    "        K.setJointState(q)\n",
    "        y, J = F.eval(K)\n",
    "        time.sleep(0.04)\n",
    "    "
   ]
  },
  {
   "cell_type": "code",
   "execution_count": null,
   "metadata": {},
   "outputs": [],
   "source": [
    "multiTask()"
   ]
  }
 ],
 "metadata": {
  "anaconda-cloud": {},
  "kernelspec": {
   "display_name": "Python 3",
   "language": "python",
   "name": "python3"
  },
  "language_info": {
   "codemirror_mode": {
    "name": "ipython",
    "version": 3
   },
   "file_extension": ".py",
   "mimetype": "text/x-python",
   "name": "python",
   "nbconvert_exporter": "python",
   "pygments_lexer": "ipython3",
   "version": "3.6.9"
  }
 },
 "nbformat": 4,
 "nbformat_minor": 1
}
